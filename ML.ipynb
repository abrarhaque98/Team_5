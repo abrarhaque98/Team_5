{
 "cells": [
  {
   "cell_type": "markdown",
   "id": "2a74fe98",
   "metadata": {},
   "source": [
    "# Initialize Spark Session and Read in Dataset"
   ]
  },
  {
   "cell_type": "code",
   "execution_count": 1,
   "id": "3b58ffad",
   "metadata": {},
   "outputs": [],
   "source": [
    "import numpy as np\n",
    "import pandas as pd\n",
    "import datetime as dt\n",
    "from pathlib import Path\n",
    "from collections import Counter\n",
    "from sklearn.metrics import balanced_accuracy_score\n",
    "from sklearn.metrics import confusion_matrix\n",
    "from imblearn.metrics import classification_report_imbalanced"
   ]
  },
  {
   "cell_type": "code",
   "execution_count": null,
   "id": "d8368433",
   "metadata": {},
   "outputs": [],
   "source": [
    "import os\n",
    "# Find the latest version of spark 3.0  from http://www-us.apache.org/dist/spark/ and enter as the spark version\n",
    "spark_version = 'spark-3.1.2'\n",
    "os.environ['SPARK_VERSION']=spark_version\n",
    "\n",
    "# Install Spark and Java\n",
    "!apt-get update\n",
    "!apt-get install openjdk-11-jdk-headless -qq > /dev/null\n",
    "!wget -q https://archive.apache.org/dist/spark/$SPARK_VERSION/$SPARK_VERSION-bin-hadoop2.7.tgz\n",
    "!tar xf $SPARK_VERSION-bin-hadoop2.7.tgz\n",
    "!pip install -q findspark\n",
    "\n",
    "# Set Environment Variables\n",
    "os.environ[\"JAVA_HOME\"] = \"/usr/lib/jvm/java-11-openjdk-amd64\"\n",
    "os.environ[\"SPARK_HOME\"] = f\"/content/{spark_version}-bin-hadoop2.7\"\n",
    "\n",
    "# Start a SparkSession\n",
    "import findspark\n",
    "findspark.init()"
   ]
  },
  {
   "cell_type": "code",
   "execution_count": null,
   "id": "c62fc457",
   "metadata": {},
   "outputs": [],
   "source": [
    "# Load in the Postgress Driver\n",
    "!wget https://jdbc.postgresql.org/download/postgresql-42.2.9.jar"
   ]
  },
  {
   "cell_type": "code",
   "execution_count": null,
   "id": "5e8fce1a",
   "metadata": {},
   "outputs": [],
   "source": [
    "# Import Spark Session\n",
    "from pyspark.sql import SparkSession\n",
    "spark = SparkSession.builder.appName(\"CloudETL\").config(\"spark.driver.extraClassPath\",\"/content/postgresql-42.2.9.jar\").getOrCreate()"
   ]
  },
  {
   "cell_type": "code",
   "execution_count": null,
   "id": "4be8af25",
   "metadata": {},
   "outputs": [],
   "source": [
    "from pyspark import SparkFiles\n",
    "# Load in employee.csv from S3 into a DataFrame\n",
    "## CHANGE TO OUR S3 BUCKET:  url = \"https://<bucket name>.s3.amazonaws.com/employee.csv\"\n",
    "spark.sparkContext.addFile(url)\n",
    "\n",
    "## CHANGE CSV NAME:  NYSE_df = spark.read.option('header', 'true').csv(SparkFiles.get(\"NYSE_Data.csv\"), inferSchema=True, sep=',', timestampFormat=\"mm/dd/yy\")\n"
   ]
  },
  {
   "cell_type": "markdown",
   "id": "95debaec",
   "metadata": {},
   "source": [
    "# Work around"
   ]
  },
  {
   "cell_type": "code",
   "execution_count": 2,
   "id": "f606bd35",
   "metadata": {},
   "outputs": [],
   "source": [
    "# Load the data\n",
    "NYSE_df = pd.read_csv('Dataset/CSV/Final Output.csv', index_col=False)"
   ]
  },
  {
   "cell_type": "markdown",
   "id": "7e06f563",
   "metadata": {},
   "source": [
    "# Data Preprocessing"
   ]
  },
  {
   "cell_type": "code",
   "execution_count": 3,
   "id": "6938e7c3",
   "metadata": {},
   "outputs": [
    {
     "name": "stdout",
     "output_type": "stream",
     "text": [
      "Index                 13947\n",
      "Date                  13947\n",
      "Month                 13947\n",
      "Quarter               13947\n",
      "Open                  13947\n",
      "High                  13947\n",
      "Low                   13947\n",
      "Close                 13947\n",
      "Adj Close             13947\n",
      "Volume                13947\n",
      "CloseUSD              13947\n",
      "LOCATION              13947\n",
      "INDICATOR             13947\n",
      "SUBJECT               13947\n",
      "MEASURE               13947\n",
      "FREQUENCY             13947\n",
      "Value                 13947\n",
      "Flag Codes                0\n",
      "observation_date      13947\n",
      "GDPC1                 13947\n",
      "observation_date.1    13947\n",
      "LFWA64TTUSM647S       13947\n",
      "dtype: int64\n"
     ]
    }
   ],
   "source": [
    "NYSE_df.head(10)\n",
    "print(NYSE_df.count())"
   ]
  },
  {
   "cell_type": "code",
   "execution_count": 4,
   "id": "ff39e5ed",
   "metadata": {},
   "outputs": [
    {
     "data": {
      "text/plain": [
       "Index                  object\n",
       "Date                   object\n",
       "Month                  object\n",
       "Quarter                object\n",
       "Open                  float64\n",
       "High                  float64\n",
       "Low                   float64\n",
       "Close                 float64\n",
       "Adj Close             float64\n",
       "Volume                  int64\n",
       "CloseUSD              float64\n",
       "LOCATION               object\n",
       "INDICATOR              object\n",
       "SUBJECT                object\n",
       "MEASURE                object\n",
       "FREQUENCY              object\n",
       "Value                 float64\n",
       "Flag Codes            float64\n",
       "observation_date       object\n",
       "GDPC1                 float64\n",
       "observation_date.1     object\n",
       "LFWA64TTUSM647S       float64\n",
       "dtype: object"
      ]
     },
     "execution_count": 4,
     "metadata": {},
     "output_type": "execute_result"
    }
   ],
   "source": [
    "# Column Types\n",
    "NYSE_df.dtypes"
   ]
  },
  {
   "cell_type": "code",
   "execution_count": 5,
   "id": "cf860a1d",
   "metadata": {},
   "outputs": [],
   "source": [
    "# Drop null and uncesessary columns\n",
    "NYSE_df = NYSE_df.drop(columns=['Flag Codes','Index','Month','Quarter','Open','High','Low','Close','Adj Close','Volume','LOCATION','INDICATOR','SUBJECT','MEASURE','FREQUENCY','observation_date','observation_date.1'])\n",
    "\n",
    "# Drop blank rows\n",
    "NYSE_df = NYSE_df.dropna()"
   ]
  },
  {
   "cell_type": "code",
   "execution_count": 6,
   "id": "cab9f926",
   "metadata": {},
   "outputs": [],
   "source": [
    "# Rename Columns\n",
    "NYSE_df = NYSE_df.rename(columns={'CloseUSD':'NYA_Close_Price','Value':'Inflation','GDPC1':'Real_GDP','LFWA64TTUSM647S':'Working_Pop'})\n"
   ]
  },
  {
   "cell_type": "code",
   "execution_count": 7,
   "id": "29e0f2b9",
   "metadata": {},
   "outputs": [
    {
     "data": {
      "text/html": [
       "<div>\n",
       "<style scoped>\n",
       "    .dataframe tbody tr th:only-of-type {\n",
       "        vertical-align: middle;\n",
       "    }\n",
       "\n",
       "    .dataframe tbody tr th {\n",
       "        vertical-align: top;\n",
       "    }\n",
       "\n",
       "    .dataframe thead th {\n",
       "        text-align: right;\n",
       "    }\n",
       "</style>\n",
       "<table border=\"1\" class=\"dataframe\">\n",
       "  <thead>\n",
       "    <tr style=\"text-align: right;\">\n",
       "      <th></th>\n",
       "      <th>Date</th>\n",
       "      <th>NYA_Close_Price</th>\n",
       "      <th>Inflation</th>\n",
       "      <th>Real_GDP</th>\n",
       "      <th>Working_Pop</th>\n",
       "    </tr>\n",
       "  </thead>\n",
       "  <tbody>\n",
       "    <tr>\n",
       "      <th>0</th>\n",
       "      <td>12/31/1965</td>\n",
       "      <td>528.690002</td>\n",
       "      <td>13.41676</td>\n",
       "      <td>4304.73</td>\n",
       "      <td>77178000.0</td>\n",
       "    </tr>\n",
       "    <tr>\n",
       "      <th>1</th>\n",
       "      <td>1/3/1966</td>\n",
       "      <td>527.210022</td>\n",
       "      <td>13.41676</td>\n",
       "      <td>4409.52</td>\n",
       "      <td>77178000.0</td>\n",
       "    </tr>\n",
       "    <tr>\n",
       "      <th>2</th>\n",
       "      <td>1/4/1966</td>\n",
       "      <td>527.840027</td>\n",
       "      <td>13.41676</td>\n",
       "      <td>4409.52</td>\n",
       "      <td>77178000.0</td>\n",
       "    </tr>\n",
       "    <tr>\n",
       "      <th>3</th>\n",
       "      <td>1/5/1966</td>\n",
       "      <td>531.119995</td>\n",
       "      <td>13.41676</td>\n",
       "      <td>4409.52</td>\n",
       "      <td>77178000.0</td>\n",
       "    </tr>\n",
       "    <tr>\n",
       "      <th>4</th>\n",
       "      <td>1/6/1966</td>\n",
       "      <td>532.070007</td>\n",
       "      <td>13.41676</td>\n",
       "      <td>4409.52</td>\n",
       "      <td>77178000.0</td>\n",
       "    </tr>\n",
       "  </tbody>\n",
       "</table>\n",
       "</div>"
      ],
      "text/plain": [
       "         Date  NYA_Close_Price  Inflation  Real_GDP  Working_Pop\n",
       "0  12/31/1965       528.690002   13.41676   4304.73   77178000.0\n",
       "1    1/3/1966       527.210022   13.41676   4409.52   77178000.0\n",
       "2    1/4/1966       527.840027   13.41676   4409.52   77178000.0\n",
       "3    1/5/1966       531.119995   13.41676   4409.52   77178000.0\n",
       "4    1/6/1966       532.070007   13.41676   4409.52   77178000.0"
      ]
     },
     "execution_count": 7,
     "metadata": {},
     "output_type": "execute_result"
    }
   ],
   "source": [
    "NYSE_df.head()"
   ]
  },
  {
   "cell_type": "code",
   "execution_count": 8,
   "id": "09d270f0",
   "metadata": {},
   "outputs": [],
   "source": [
    "# Convert Date to Datetime\n",
    "NYSE_df['Date'] = (pd.to_datetime(NYSE_df['Date'], infer_datetime_format=True) - dt.datetime(1970,1,1)).dt.total_seconds()\n",
    "\n",
    "# Divide Inflation by 100\n",
    "NYSE_df['Inflation'] = NYSE_df['Inflation'] / 100\n",
    "\n",
    "# Real GDP * 1B\n",
    "NYSE_df['Real_GDP'] = NYSE_df['Real_GDP'] * 1000000000\n",
    "\n",
    "# Calculate Real GDP per Capita from GDP and Population\n",
    "NYSE_df['Real_GDP_per_Capita'] = NYSE_df['Real_GDP'] / NYSE_df['Working_Pop']\n",
    "\n",
    "# Drop Real_GDP column\n",
    "NYSE_df = NYSE_df.drop(columns=['Real_GDP'])\n"
   ]
  },
  {
   "cell_type": "code",
   "execution_count": 10,
   "id": "c1399758",
   "metadata": {},
   "outputs": [
    {
     "data": {
      "text/html": [
       "<div>\n",
       "<style scoped>\n",
       "    .dataframe tbody tr th:only-of-type {\n",
       "        vertical-align: middle;\n",
       "    }\n",
       "\n",
       "    .dataframe tbody tr th {\n",
       "        vertical-align: top;\n",
       "    }\n",
       "\n",
       "    .dataframe thead th {\n",
       "        text-align: right;\n",
       "    }\n",
       "</style>\n",
       "<table border=\"1\" class=\"dataframe\">\n",
       "  <thead>\n",
       "    <tr style=\"text-align: right;\">\n",
       "      <th></th>\n",
       "      <th>NYA_Close_Price</th>\n",
       "      <th>Inflation</th>\n",
       "      <th>Working_Pop</th>\n",
       "      <th>Real_GDP_per_Capita</th>\n",
       "    </tr>\n",
       "    <tr>\n",
       "      <th>Date</th>\n",
       "      <th></th>\n",
       "      <th></th>\n",
       "      <th></th>\n",
       "      <th></th>\n",
       "    </tr>\n",
       "  </thead>\n",
       "  <tbody>\n",
       "    <tr>\n",
       "      <th>-126316800.0</th>\n",
       "      <td>528.690002</td>\n",
       "      <td>0.134168</td>\n",
       "      <td>77178000.0</td>\n",
       "      <td>55776.646195</td>\n",
       "    </tr>\n",
       "    <tr>\n",
       "      <th>-126057600.0</th>\n",
       "      <td>527.210022</td>\n",
       "      <td>0.134168</td>\n",
       "      <td>77178000.0</td>\n",
       "      <td>57134.416544</td>\n",
       "    </tr>\n",
       "    <tr>\n",
       "      <th>-125971200.0</th>\n",
       "      <td>527.840027</td>\n",
       "      <td>0.134168</td>\n",
       "      <td>77178000.0</td>\n",
       "      <td>57134.416544</td>\n",
       "    </tr>\n",
       "    <tr>\n",
       "      <th>-125884800.0</th>\n",
       "      <td>531.119995</td>\n",
       "      <td>0.134168</td>\n",
       "      <td>77178000.0</td>\n",
       "      <td>57134.416544</td>\n",
       "    </tr>\n",
       "    <tr>\n",
       "      <th>-125798400.0</th>\n",
       "      <td>532.070007</td>\n",
       "      <td>0.134168</td>\n",
       "      <td>77178000.0</td>\n",
       "      <td>57134.416544</td>\n",
       "    </tr>\n",
       "  </tbody>\n",
       "</table>\n",
       "</div>"
      ],
      "text/plain": [
       "              NYA_Close_Price  Inflation  Working_Pop  Real_GDP_per_Capita\n",
       "Date                                                                      \n",
       "-126316800.0       528.690002   0.134168   77178000.0         55776.646195\n",
       "-126057600.0       527.210022   0.134168   77178000.0         57134.416544\n",
       "-125971200.0       527.840027   0.134168   77178000.0         57134.416544\n",
       "-125884800.0       531.119995   0.134168   77178000.0         57134.416544\n",
       "-125798400.0       532.070007   0.134168   77178000.0         57134.416544"
      ]
     },
     "execution_count": 10,
     "metadata": {},
     "output_type": "execute_result"
    }
   ],
   "source": [
    "NYSE_df.set_index('Date', inplace=True)\n",
    "NYSE_df.head()"
   ]
  },
  {
   "cell_type": "markdown",
   "id": "02b359ba",
   "metadata": {},
   "source": [
    "# Split Data into Training and Testing"
   ]
  },
  {
   "cell_type": "code",
   "execution_count": 11,
   "id": "c9609497",
   "metadata": {},
   "outputs": [
    {
     "data": {
      "text/html": [
       "<div>\n",
       "<style scoped>\n",
       "    .dataframe tbody tr th:only-of-type {\n",
       "        vertical-align: middle;\n",
       "    }\n",
       "\n",
       "    .dataframe tbody tr th {\n",
       "        vertical-align: top;\n",
       "    }\n",
       "\n",
       "    .dataframe thead th {\n",
       "        text-align: right;\n",
       "    }\n",
       "</style>\n",
       "<table border=\"1\" class=\"dataframe\">\n",
       "  <thead>\n",
       "    <tr style=\"text-align: right;\">\n",
       "      <th></th>\n",
       "      <th>Inflation</th>\n",
       "      <th>Working_Pop</th>\n",
       "      <th>Real_GDP_per_Capita</th>\n",
       "    </tr>\n",
       "    <tr>\n",
       "      <th>Date</th>\n",
       "      <th></th>\n",
       "      <th></th>\n",
       "      <th></th>\n",
       "    </tr>\n",
       "  </thead>\n",
       "  <tbody>\n",
       "    <tr>\n",
       "      <th>-126316800.0</th>\n",
       "      <td>0.134168</td>\n",
       "      <td>77178000.0</td>\n",
       "      <td>55776.646195</td>\n",
       "    </tr>\n",
       "    <tr>\n",
       "      <th>-126057600.0</th>\n",
       "      <td>0.134168</td>\n",
       "      <td>77178000.0</td>\n",
       "      <td>57134.416544</td>\n",
       "    </tr>\n",
       "    <tr>\n",
       "      <th>-125971200.0</th>\n",
       "      <td>0.134168</td>\n",
       "      <td>77178000.0</td>\n",
       "      <td>57134.416544</td>\n",
       "    </tr>\n",
       "    <tr>\n",
       "      <th>-125884800.0</th>\n",
       "      <td>0.134168</td>\n",
       "      <td>77178000.0</td>\n",
       "      <td>57134.416544</td>\n",
       "    </tr>\n",
       "    <tr>\n",
       "      <th>-125798400.0</th>\n",
       "      <td>0.134168</td>\n",
       "      <td>77178000.0</td>\n",
       "      <td>57134.416544</td>\n",
       "    </tr>\n",
       "  </tbody>\n",
       "</table>\n",
       "</div>"
      ],
      "text/plain": [
       "              Inflation  Working_Pop  Real_GDP_per_Capita\n",
       "Date                                                     \n",
       "-126316800.0   0.134168   77178000.0         55776.646195\n",
       "-126057600.0   0.134168   77178000.0         57134.416544\n",
       "-125971200.0   0.134168   77178000.0         57134.416544\n",
       "-125884800.0   0.134168   77178000.0         57134.416544\n",
       "-125798400.0   0.134168   77178000.0         57134.416544"
      ]
     },
     "execution_count": 11,
     "metadata": {},
     "output_type": "execute_result"
    }
   ],
   "source": [
    "# Create our features\n",
    "X = NYSE_df.drop('NYA_Close_Price', axis=1)\n",
    "\n",
    "# Create our target\n",
    "y = NYSE_df['NYA_Close_Price']\n",
    "\n",
    "X.head()"
   ]
  },
  {
   "cell_type": "code",
   "execution_count": 12,
   "id": "5994cf5f",
   "metadata": {},
   "outputs": [
    {
     "data": {
      "text/html": [
       "<div>\n",
       "<style scoped>\n",
       "    .dataframe tbody tr th:only-of-type {\n",
       "        vertical-align: middle;\n",
       "    }\n",
       "\n",
       "    .dataframe tbody tr th {\n",
       "        vertical-align: top;\n",
       "    }\n",
       "\n",
       "    .dataframe thead th {\n",
       "        text-align: right;\n",
       "    }\n",
       "</style>\n",
       "<table border=\"1\" class=\"dataframe\">\n",
       "  <thead>\n",
       "    <tr style=\"text-align: right;\">\n",
       "      <th></th>\n",
       "      <th>Inflation</th>\n",
       "      <th>Working_Pop</th>\n",
       "      <th>Real_GDP_per_Capita</th>\n",
       "    </tr>\n",
       "  </thead>\n",
       "  <tbody>\n",
       "    <tr>\n",
       "      <th>count</th>\n",
       "      <td>13947.000000</td>\n",
       "      <td>1.394700e+04</td>\n",
       "      <td>13947.000000</td>\n",
       "    </tr>\n",
       "    <tr>\n",
       "      <th>mean</th>\n",
       "      <td>0.600693</td>\n",
       "      <td>1.583339e+08</td>\n",
       "      <td>66646.786360</td>\n",
       "    </tr>\n",
       "    <tr>\n",
       "      <th>std</th>\n",
       "      <td>0.302497</td>\n",
       "      <td>4.087420e+07</td>\n",
       "      <td>13220.003186</td>\n",
       "    </tr>\n",
       "    <tr>\n",
       "      <th>min</th>\n",
       "      <td>0.134168</td>\n",
       "      <td>7.717800e+07</td>\n",
       "      <td>44850.672940</td>\n",
       "    </tr>\n",
       "    <tr>\n",
       "      <th>25%</th>\n",
       "      <td>0.323606</td>\n",
       "      <td>1.420226e+08</td>\n",
       "      <td>57815.050921</td>\n",
       "    </tr>\n",
       "    <tr>\n",
       "      <th>50%</th>\n",
       "      <td>0.612192</td>\n",
       "      <td>1.645849e+08</td>\n",
       "      <td>62365.333919</td>\n",
       "    </tr>\n",
       "    <tr>\n",
       "      <th>75%</th>\n",
       "      <td>0.878836</td>\n",
       "      <td>1.958470e+08</td>\n",
       "      <td>78420.443051</td>\n",
       "    </tr>\n",
       "    <tr>\n",
       "      <th>max</th>\n",
       "      <td>1.135762</td>\n",
       "      <td>2.073116e+08</td>\n",
       "      <td>94220.229858</td>\n",
       "    </tr>\n",
       "  </tbody>\n",
       "</table>\n",
       "</div>"
      ],
      "text/plain": [
       "          Inflation   Working_Pop  Real_GDP_per_Capita\n",
       "count  13947.000000  1.394700e+04         13947.000000\n",
       "mean       0.600693  1.583339e+08         66646.786360\n",
       "std        0.302497  4.087420e+07         13220.003186\n",
       "min        0.134168  7.717800e+07         44850.672940\n",
       "25%        0.323606  1.420226e+08         57815.050921\n",
       "50%        0.612192  1.645849e+08         62365.333919\n",
       "75%        0.878836  1.958470e+08         78420.443051\n",
       "max        1.135762  2.073116e+08         94220.229858"
      ]
     },
     "execution_count": 12,
     "metadata": {},
     "output_type": "execute_result"
    }
   ],
   "source": [
    "# Check features\n",
    "X.describe()"
   ]
  },
  {
   "cell_type": "code",
   "execution_count": 13,
   "id": "8d33357e",
   "metadata": {},
   "outputs": [
    {
     "data": {
      "text/plain": [
       "569.919983     11\n",
       "586.630005      9\n",
       "567.599976      8\n",
       "555.020020      8\n",
       "580.710022      7\n",
       "               ..\n",
       "6838.450195     1\n",
       "1434.010010     1\n",
       "1174.420044     1\n",
       "960.619995      1\n",
       "7992.009766     1\n",
       "Name: NYA_Close_Price, Length: 11590, dtype: int64"
      ]
     },
     "execution_count": 13,
     "metadata": {},
     "output_type": "execute_result"
    }
   ],
   "source": [
    "# Check the balance of our target values\n",
    "y.value_counts()"
   ]
  },
  {
   "cell_type": "code",
   "execution_count": 14,
   "id": "1223b2b2",
   "metadata": {},
   "outputs": [],
   "source": [
    "# Split into training and testing \n",
    "from sklearn.model_selection import train_test_split\n",
    "X_train, X_test, y_train, y_test = train_test_split(X,\n",
    "                                                    y, \n",
    "                                                    random_state=1\n",
    "                                                )"
   ]
  },
  {
   "cell_type": "code",
   "execution_count": 15,
   "id": "06b5d0d2",
   "metadata": {},
   "outputs": [],
   "source": [
    "# Initialize the model\n",
    "from sklearn.linear_model import LinearRegression\n",
    "model = LinearRegression()"
   ]
  },
  {
   "cell_type": "code",
   "execution_count": 16,
   "id": "51ab4c97",
   "metadata": {},
   "outputs": [
    {
     "data": {
      "text/plain": [
       "LinearRegression()"
      ]
     },
     "execution_count": 16,
     "metadata": {},
     "output_type": "execute_result"
    }
   ],
   "source": [
    "# Train the data\n",
    "model.fit(X_train, y_train)"
   ]
  },
  {
   "cell_type": "code",
   "execution_count": 57,
   "id": "6c17e95f",
   "metadata": {},
   "outputs": [
    {
     "name": "stdout",
     "output_type": "stream",
     "text": [
      "Coefficient of determination: 94.45 %\n"
     ]
    }
   ],
   "source": [
    "# Calculate the model accuracy score (1 is perfect prediction)\n",
    "from sklearn.metrics import r2_score, mean_squared_error\n",
    "\n",
    "y_pred = model.predict(X_test)\n",
    "\n",
    "r2_score = r2_score(y_test, y_pred)\n",
    "print(f'Coefficient of determination: {r2_score*100:.2f} %')"
   ]
  },
  {
   "cell_type": "code",
   "execution_count": 64,
   "id": "36989095",
   "metadata": {},
   "outputs": [
    {
     "name": "stdout",
     "output_type": "stream",
     "text": [
      "Intercept: -13051.71\n",
      "Coefficients: \n",
      " [3.00164614e+03 1.65137912e-05 1.96341244e-01]\n",
      "Mean squared error: 918646.97\n"
     ]
    }
   ],
   "source": [
    "# The intercept\n",
    "print(\"Intercept: %.2f\" % model.intercept_)\n",
    "# The coefficients\n",
    "print(\"Coefficients: \\n\", model.coef_)\n",
    "# The mean squared error\n",
    "print(\"Mean squared error: %.2f\" % mean_squared_error(y_test, y_pred))"
   ]
  },
  {
   "cell_type": "markdown",
   "id": "7a793854",
   "metadata": {},
   "source": [
    "# Export "
   ]
  },
  {
   "cell_type": "code",
   "execution_count": 66,
   "id": "e9e80e6f",
   "metadata": {},
   "outputs": [
    {
     "data": {
      "text/html": [
       "<div>\n",
       "<style scoped>\n",
       "    .dataframe tbody tr th:only-of-type {\n",
       "        vertical-align: middle;\n",
       "    }\n",
       "\n",
       "    .dataframe tbody tr th {\n",
       "        vertical-align: top;\n",
       "    }\n",
       "\n",
       "    .dataframe thead th {\n",
       "        text-align: right;\n",
       "    }\n",
       "</style>\n",
       "<table border=\"1\" class=\"dataframe\">\n",
       "  <thead>\n",
       "    <tr style=\"text-align: right;\">\n",
       "      <th></th>\n",
       "      <th>Inflation</th>\n",
       "      <th>Working_Pop</th>\n",
       "      <th>Real_GDP_per_Capita</th>\n",
       "    </tr>\n",
       "  </thead>\n",
       "  <tbody>\n",
       "    <tr>\n",
       "      <th>558.173420</th>\n",
       "      <td>NaN</td>\n",
       "      <td>NaN</td>\n",
       "      <td>NaN</td>\n",
       "    </tr>\n",
       "    <tr>\n",
       "      <th>8006.517196</th>\n",
       "      <td>NaN</td>\n",
       "      <td>NaN</td>\n",
       "      <td>NaN</td>\n",
       "    </tr>\n",
       "    <tr>\n",
       "      <th>-302.781552</th>\n",
       "      <td>NaN</td>\n",
       "      <td>NaN</td>\n",
       "      <td>NaN</td>\n",
       "    </tr>\n",
       "    <tr>\n",
       "      <th>11546.250664</th>\n",
       "      <td>NaN</td>\n",
       "      <td>NaN</td>\n",
       "      <td>NaN</td>\n",
       "    </tr>\n",
       "    <tr>\n",
       "      <th>2799.151485</th>\n",
       "      <td>NaN</td>\n",
       "      <td>NaN</td>\n",
       "      <td>NaN</td>\n",
       "    </tr>\n",
       "    <tr>\n",
       "      <th>...</th>\n",
       "      <td>...</td>\n",
       "      <td>...</td>\n",
       "      <td>...</td>\n",
       "    </tr>\n",
       "    <tr>\n",
       "      <th>5873.899440</th>\n",
       "      <td>NaN</td>\n",
       "      <td>NaN</td>\n",
       "      <td>NaN</td>\n",
       "    </tr>\n",
       "    <tr>\n",
       "      <th>8541.466682</th>\n",
       "      <td>NaN</td>\n",
       "      <td>NaN</td>\n",
       "      <td>NaN</td>\n",
       "    </tr>\n",
       "    <tr>\n",
       "      <th>-959.425261</th>\n",
       "      <td>NaN</td>\n",
       "      <td>NaN</td>\n",
       "      <td>NaN</td>\n",
       "    </tr>\n",
       "    <tr>\n",
       "      <th>544.052190</th>\n",
       "      <td>NaN</td>\n",
       "      <td>NaN</td>\n",
       "      <td>NaN</td>\n",
       "    </tr>\n",
       "    <tr>\n",
       "      <th>-414.773015</th>\n",
       "      <td>NaN</td>\n",
       "      <td>NaN</td>\n",
       "      <td>NaN</td>\n",
       "    </tr>\n",
       "  </tbody>\n",
       "</table>\n",
       "<p>3487 rows × 3 columns</p>\n",
       "</div>"
      ],
      "text/plain": [
       "               Inflation  Working_Pop  Real_GDP_per_Capita\n",
       " 558.173420          NaN          NaN                  NaN\n",
       " 8006.517196         NaN          NaN                  NaN\n",
       "-302.781552          NaN          NaN                  NaN\n",
       " 11546.250664        NaN          NaN                  NaN\n",
       " 2799.151485         NaN          NaN                  NaN\n",
       "...                  ...          ...                  ...\n",
       " 5873.899440         NaN          NaN                  NaN\n",
       " 8541.466682         NaN          NaN                  NaN\n",
       "-959.425261          NaN          NaN                  NaN\n",
       " 544.052190          NaN          NaN                  NaN\n",
       "-414.773015          NaN          NaN                  NaN\n",
       "\n",
       "[3487 rows x 3 columns]"
      ]
     },
     "execution_count": 66,
     "metadata": {},
     "output_type": "execute_result"
    }
   ],
   "source": [
    "Model_df = pd.DataFrame(X_test,y_pred)\n",
    "Model_df"
   ]
  },
  {
   "cell_type": "code",
   "execution_count": null,
   "id": "629d6c38",
   "metadata": {},
   "outputs": [],
   "source": []
  }
 ],
 "metadata": {
  "kernelspec": {
   "display_name": "mlenv",
   "language": "python",
   "name": "mlenv"
  },
  "language_info": {
   "codemirror_mode": {
    "name": "ipython",
    "version": 3
   },
   "file_extension": ".py",
   "mimetype": "text/x-python",
   "name": "python",
   "nbconvert_exporter": "python",
   "pygments_lexer": "ipython3",
   "version": "3.7.10"
  }
 },
 "nbformat": 4,
 "nbformat_minor": 5
}
