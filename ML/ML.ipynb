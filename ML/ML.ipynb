{
 "cells": [
  {
   "cell_type": "markdown",
   "id": "2a74fe98",
   "metadata": {},
   "source": [
    "# Initialize Spark Session and Read in Dataset"
   ]
  },
  {
   "cell_type": "code",
   "execution_count": null,
   "id": "3b58ffad",
   "metadata": {},
   "outputs": [],
   "source": [
    "import os\n",
    "# Find the latest version of spark 3.0  from http://www-us.apache.org/dist/spark/ and enter as the spark version\n",
    "spark_version = 'spark-3.1.2'\n",
    "os.environ['SPARK_VERSION']=spark_version\n",
    "\n",
    "# Install Spark and Java\n",
    "!apt-get update\n",
    "!apt-get install openjdk-11-jdk-headless -qq > /dev/null\n",
    "!wget -q https://archive.apache.org/dist/spark/$SPARK_VERSION/$SPARK_VERSION-bin-hadoop2.7.tgz\n",
    "!tar xf $SPARK_VERSION-bin-hadoop2.7.tgz\n",
    "!pip install -q findspark\n",
    "\n",
    "# Set Environment Variables\n",
    "os.environ[\"JAVA_HOME\"] = \"/usr/lib/jvm/java-11-openjdk-amd64\"\n",
    "os.environ[\"SPARK_HOME\"] = f\"/content/{spark_version}-bin-hadoop2.7\"\n",
    "\n",
    "# Start a SparkSession\n",
    "import findspark\n",
    "findspark.init()"
   ]
  },
  {
   "cell_type": "code",
   "execution_count": null,
   "id": "c62fc457",
   "metadata": {},
   "outputs": [],
   "source": [
    "# Load in the Postgress Driver\n",
    "!wget https://jdbc.postgresql.org/download/postgresql-42.2.9.jar"
   ]
  },
  {
   "cell_type": "code",
   "execution_count": null,
   "id": "5e8fce1a",
   "metadata": {},
   "outputs": [],
   "source": [
    "# Import Spark Session\n",
    "from pyspark.sql import SparkSession\n",
    "spark = SparkSession.builder.appName(\"CloudETL\").config(\"spark.driver.extraClassPath\",\"/content/postgresql-42.2.9.jar\").getOrCreate()"
   ]
  },
  {
   "cell_type": "code",
   "execution_count": null,
   "id": "4be8af25",
   "metadata": {},
   "outputs": [],
   "source": [
    "from pyspark import SparkFiles\n",
    "# Load in employee.csv from S3 into a DataFrame\n",
    "## CHANGE TO OUR S3 BUCKET:  url = \"https://<bucket name>.s3.amazonaws.com/employee.csv\"\n",
    "spark.sparkContext.addFile(url)\n",
    "\n",
    "## CHANGE CSV NAME:  NYSE_df = spark.read.option('header', 'true').csv(SparkFiles.get(\"NYSE_Data.csv\"), inferSchema=True, sep=',', timestampFormat=\"mm/dd/yy\")\n"
   ]
  },
  {
   "cell_type": "markdown",
   "id": "7e06f563",
   "metadata": {},
   "source": [
    "# Data Preprocessing"
   ]
  },
  {
   "cell_type": "code",
   "execution_count": null,
   "id": "6938e7c3",
   "metadata": {},
   "outputs": [],
   "source": [
    "NYSE_df.show(10)\n",
    "print(NYSE_df.count())"
   ]
  },
  {
   "cell_type": "code",
   "execution_count": null,
   "id": "cf860a1d",
   "metadata": {},
   "outputs": [],
   "source": [
    "NYSE_df = NYSE_df.dropna()\n",
    "print(NYSE_df.count())"
   ]
  },
  {
   "cell_type": "code",
   "execution_count": null,
   "id": "09d270f0",
   "metadata": {},
   "outputs": [],
   "source": [
    "# Divide Inflation and Deflator by 100?\n",
    "\n",
    "# GDP * 1M\n",
    "\n",
    "# Multiply Population by 1M\n",
    "\n",
    "# Drop unecessary columns\n",
    "\n",
    "# Calculate Real GDP per Capita from GDP and Population\n",
    "\n",
    "\n",
    "NYSE_df.reset_index(inplace=True, drop=True)\n",
    "NYSE_df.head()"
   ]
  },
  {
   "cell_type": "markdown",
   "id": "02b359ba",
   "metadata": {},
   "source": [
    "# Split Data into Training and Testing"
   ]
  },
  {
   "cell_type": "code",
   "execution_count": null,
   "id": "c9609497",
   "metadata": {},
   "outputs": [],
   "source": [
    "# Create our features\n",
    "X = NYSE_df.drop('NYA', axis=1)\n",
    "\n",
    "# Create our target\n",
    "y = NYSE_df['NYA']\n",
    "\n",
    "X.head()"
   ]
  },
  {
   "cell_type": "code",
   "execution_count": null,
   "id": "5994cf5f",
   "metadata": {},
   "outputs": [],
   "source": [
    "# Check features\n",
    "X.describe()"
   ]
  },
  {
   "cell_type": "code",
   "execution_count": null,
   "id": "8d33357e",
   "metadata": {},
   "outputs": [],
   "source": [
    "# Check the balance of our target values\n",
    "y.value_counts()"
   ]
  },
  {
   "cell_type": "code",
   "execution_count": null,
   "id": "1223b2b2",
   "metadata": {},
   "outputs": [],
   "source": [
    "from sklearn.model_selection import train_test_split\n",
    "X_train, X_test, y_train, y_test = train_test_split(X,\n",
    "                                                    y, \n",
    "                                                    random_state=1, \n",
    "                                                    stratify=y)"
   ]
  },
  {
   "cell_type": "code",
   "execution_count": null,
   "id": "6c17e95f",
   "metadata": {},
   "outputs": [],
   "source": [
    "# Calculated the balanced accuracy score\n",
    "from sklearn.metrics import balanced_accuracy_score\n",
    "\n",
    "y_pred = brfc.predict(X_test)\n",
    "\n",
    "balanced_accuracy_score(y_test, y_pred)"
   ]
  },
  {
   "cell_type": "code",
   "execution_count": null,
   "id": "36989095",
   "metadata": {},
   "outputs": [],
   "source": [
    "# Display the confusion matrix\n",
    "from sklearn.metrics import confusion_matrix\n",
    "\n",
    "confusion_matrix(y_test, y_pred)"
   ]
  },
  {
   "cell_type": "code",
   "execution_count": null,
   "id": "faaa2519",
   "metadata": {},
   "outputs": [],
   "source": [
    "# Print the imbalanced classification report\n",
    "from imblearn.metrics import classification_report_imbalanced\n",
    "\n",
    "print(classification_report_imbalanced(y_test, y_pred))"
   ]
  },
  {
   "cell_type": "markdown",
   "id": "bafab84d",
   "metadata": {},
   "source": [
    "# Retraining the Model (if don't achieve desired accuracy score)"
   ]
  },
  {
   "cell_type": "code",
   "execution_count": null,
   "id": "f391486c",
   "metadata": {},
   "outputs": [],
   "source": []
  }
 ],
 "metadata": {
  "kernelspec": {
   "display_name": "mlenv",
   "language": "python",
   "name": "mlenv"
  },
  "language_info": {
   "codemirror_mode": {
    "name": "ipython",
    "version": 3
   },
   "file_extension": ".py",
   "mimetype": "text/x-python",
   "name": "python",
   "nbconvert_exporter": "python",
   "pygments_lexer": "ipython3",
   "version": "3.7.10"
  }
 },
 "nbformat": 4,
 "nbformat_minor": 5
}
