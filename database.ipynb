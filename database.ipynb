{
  "nbformat": 4,
  "nbformat_minor": 0,
  "metadata": {
    "colab": {
      "name": "Untitled8.ipynb",
      "provenance": []
    },
    "kernelspec": {
      "name": "python3",
      "display_name": "Python 3"
    },
    "language_info": {
      "name": "python"
    }
  },
  "cells": [
    {
      "cell_type": "code",
      "metadata": {
        "colab": {
          "base_uri": "https://localhost:8080/"
        },
        "id": "pX7yvci7l6c3",
        "outputId": "1ccad6ef-09ab-4579-c3e8-11687caf242b"
      },
      "source": [
        "#using pyspark \n",
        "\n",
        "import os\n",
        "# Find the latest version of spark 3.0 from http://www.apache.org/dist/spark/ and enter as the spark version\n",
        "# For example:\n",
        "# spark_version = 'spark-3.0.3'\n",
        "spark_version = 'spark-3.0.3'\n",
        "os.environ['SPARK_VERSION']=spark_version\n",
        "\n",
        "# Install Spark and Java\n",
        "!apt-get update\n",
        "!apt-get install openjdk-11-jdk-headless -qq > /dev/null\n",
        "!wget -q http://www.apache.org/dist/spark/$SPARK_VERSION/$SPARK_VERSION-bin-hadoop2.7.tgz\n",
        "!tar xf $SPARK_VERSION-bin-hadoop2.7.tgz\n",
        "!pip install -q findspark\n",
        "\n",
        "# Set Environment Variables\n",
        "import os\n",
        "os.environ[\"JAVA_HOME\"] = \"/usr/lib/jvm/java-11-openjdk-amd64\"\n",
        "os.environ[\"SPARK_HOME\"] = f\"/content/{spark_version}-bin-hadoop2.7\"\n",
        "\n",
        "# Start a SparkSession\n",
        "import findspark\n",
        "findspark.init()"
      ],
      "execution_count": 1,
      "outputs": [
        {
          "output_type": "stream",
          "name": "stdout",
          "text": [
            "Get:1 http://security.ubuntu.com/ubuntu bionic-security InRelease [88.7 kB]\n",
            "Get:2 https://cloud.r-project.org/bin/linux/ubuntu bionic-cran40/ InRelease [3,626 B]\n",
            "Ign:3 https://developer.download.nvidia.com/compute/cuda/repos/ubuntu1804/x86_64  InRelease\n",
            "Get:4 http://ppa.launchpad.net/c2d4u.team/c2d4u4.0+/ubuntu bionic InRelease [15.9 kB]\n",
            "Ign:5 https://developer.download.nvidia.com/compute/machine-learning/repos/ubuntu1804/x86_64  InRelease\n",
            "Get:6 https://developer.download.nvidia.com/compute/cuda/repos/ubuntu1804/x86_64  Release [696 B]\n",
            "Hit:7 https://developer.download.nvidia.com/compute/machine-learning/repos/ubuntu1804/x86_64  Release\n",
            "Get:8 https://developer.download.nvidia.com/compute/cuda/repos/ubuntu1804/x86_64  Release.gpg [836 B]\n",
            "Hit:9 http://archive.ubuntu.com/ubuntu bionic InRelease\n",
            "Get:10 http://archive.ubuntu.com/ubuntu bionic-updates InRelease [88.7 kB]\n",
            "Hit:11 http://ppa.launchpad.net/cran/libgit2/ubuntu bionic InRelease\n",
            "Hit:12 http://ppa.launchpad.net/deadsnakes/ppa/ubuntu bionic InRelease\n",
            "Get:13 http://archive.ubuntu.com/ubuntu bionic-backports InRelease [74.6 kB]\n",
            "Get:14 http://security.ubuntu.com/ubuntu bionic-security/main amd64 Packages [2,398 kB]\n",
            "Get:15 http://ppa.launchpad.net/graphics-drivers/ppa/ubuntu bionic InRelease [21.3 kB]\n",
            "Get:16 http://security.ubuntu.com/ubuntu bionic-security/universe amd64 Packages [1,434 kB]\n",
            "Get:18 https://developer.download.nvidia.com/compute/cuda/repos/ubuntu1804/x86_64  Packages [786 kB]\n",
            "Get:19 http://ppa.launchpad.net/c2d4u.team/c2d4u4.0+/ubuntu bionic/main Sources [1,810 kB]\n",
            "Get:20 http://archive.ubuntu.com/ubuntu bionic-updates/main amd64 Packages [2,835 kB]\n",
            "Get:21 http://ppa.launchpad.net/c2d4u.team/c2d4u4.0+/ubuntu bionic/main amd64 Packages [927 kB]\n",
            "Get:22 http://archive.ubuntu.com/ubuntu bionic-updates/universe amd64 Packages [2,213 kB]\n",
            "Get:23 http://ppa.launchpad.net/graphics-drivers/ppa/ubuntu bionic/main amd64 Packages [44.7 kB]\n",
            "Fetched 12.7 MB in 5s (2,506 kB/s)\n",
            "Reading package lists... Done\n"
          ]
        }
      ]
    },
    {
      "cell_type": "code",
      "metadata": {
        "colab": {
          "base_uri": "https://localhost:8080/"
        },
        "id": "-sb9xU4bl_aF",
        "outputId": "59b36f5f-ff5c-4f51-d64d-4e6a4bcd3dad"
      },
      "source": [
        "#Postgres driver that will allow Spark to interact with Postgres\n",
        "!wget https://jdbc.postgresql.org/download/postgresql-42.2.16.jar"
      ],
      "execution_count": 2,
      "outputs": [
        {
          "output_type": "stream",
          "name": "stdout",
          "text": [
            "--2021-10-31 18:24:14--  https://jdbc.postgresql.org/download/postgresql-42.2.16.jar\n",
            "Resolving jdbc.postgresql.org (jdbc.postgresql.org)... 72.32.157.228, 2001:4800:3e1:1::228\n",
            "Connecting to jdbc.postgresql.org (jdbc.postgresql.org)|72.32.157.228|:443... connected.\n",
            "HTTP request sent, awaiting response... 200 OK\n",
            "Length: 1002883 (979K) [application/java-archive]\n",
            "Saving to: ‘postgresql-42.2.16.jar’\n",
            "\n",
            "postgresql-42.2.16. 100%[===================>] 979.38K  --.-KB/s    in 0.1s    \n",
            "\n",
            "2021-10-31 18:24:14 (9.41 MB/s) - ‘postgresql-42.2.16.jar’ saved [1002883/1002883]\n",
            "\n"
          ]
        }
      ]
    },
    {
      "cell_type": "code",
      "metadata": {
        "id": "AhhXZ3_XmGwm"
      },
      "source": [
        "from pyspark.sql import SparkSession\n",
        "spark = SparkSession.builder.appName(\"CloudETL\").config(\"spark.driver.extraClassPath\",\"/content/postgresql-42.2.16.jar\").getOrCreate()"
      ],
      "execution_count": 3,
      "outputs": []
    },
    {
      "cell_type": "code",
      "metadata": {
        "id": "_zNjpjbemJLU"
      },
      "source": [
        "import pandas as pd"
      ],
      "execution_count": 4,
      "outputs": []
    },
    {
      "cell_type": "code",
      "metadata": {
        "id": "H-TxDRRLmL5S"
      },
      "source": [
        "#get data from S3 Buckets\n",
        "from pyspark import SparkFiles"
      ],
      "execution_count": 5,
      "outputs": []
    },
    {
      "cell_type": "code",
      "metadata": {
        "id": "A3oz6rOamS2w"
      },
      "source": [
        "#Final Output \n",
        "url = \"https://team5-stock-index-bucket.s3.us-east-2.amazonaws.com/final+project+data/Final+Output.csv\"\n",
        "spark.sparkContext.addFile(url)\n",
        "final_output_df = spark.read.csv(SparkFiles.get(\"Final+Output.csv\"), sep=\",\", header=True, inferSchema=True)"
      ],
      "execution_count": 13,
      "outputs": []
    },
    {
      "cell_type": "code",
      "metadata": {
        "colab": {
          "base_uri": "https://localhost:8080/"
        },
        "id": "hjNW2e9on5MU",
        "outputId": "815d1763-a2ed-4937-b63a-401ec42f6152"
      },
      "source": [
        "final_output_df.show()"
      ],
      "execution_count": 14,
      "outputs": [
        {
          "output_type": "stream",
          "name": "stdout",
          "text": [
            "+-----+--------+-------+-------+----------+----------+----------+----------+----------+------+----------+--------+---------+-------+-------+---------+--------+----------+------------------+-------+------------------+---------------+\n",
            "|Index|    Date|  Month|Quarter|      Open|      High|       Low|     Close| Adj Close|Volume|  CloseUSD|LOCATION|INDICATOR|SUBJECT|MEASURE|FREQUENCY|   Value|Flag Codes|observation_date18|  GDPC1|observation_date20|LFWA64TTUSM647S|\n",
            "+-----+--------+-------+-------+----------+----------+----------+----------+----------+------+----------+--------+---------+-------+-------+---------+--------+----------+------------------+-------+------------------+---------------+\n",
            "|  NYA|12/31/65|1965-12|1965-Q4|528.690002|528.690002|528.690002|528.690002|528.690002|     0|528.690002|     USA|      CPI|    TOT|IDX2015|        M|13.41676|      null|           10/1/65|4304.73|           12/1/65|       7.7178E7|\n",
            "|  NYA|  1/3/66| 1966-1|1966-Q1|527.210022|527.210022|527.210022|527.210022|527.210022|     0|527.210022|     USA|      CPI|    TOT|IDX2015|        M|13.41676|      null|            1/1/66|4409.52|            1/1/66|       7.7178E7|\n",
            "|  NYA|  1/4/66| 1966-1|1966-Q1|527.840027|527.840027|527.840027|527.840027|527.840027|     0|527.840027|     USA|      CPI|    TOT|IDX2015|        M|13.41676|      null|            1/1/66|4409.52|            1/1/66|       7.7178E7|\n",
            "|  NYA|  1/5/66| 1966-1|1966-Q1|531.119995|531.119995|531.119995|531.119995|531.119995|     0|531.119995|     USA|      CPI|    TOT|IDX2015|        M|13.41676|      null|            1/1/66|4409.52|            1/1/66|       7.7178E7|\n",
            "|  NYA|  1/6/66| 1966-1|1966-Q1|532.070007|532.070007|532.070007|532.070007|532.070007|     0|532.070007|     USA|      CPI|    TOT|IDX2015|        M|13.41676|      null|            1/1/66|4409.52|            1/1/66|       7.7178E7|\n",
            "|  NYA|  1/7/66| 1966-1|1966-Q1|532.599976|532.599976|532.599976|532.599976|532.599976|     0|532.599976|     USA|      CPI|    TOT|IDX2015|        M|13.41676|      null|            1/1/66|4409.52|            1/1/66|       7.7178E7|\n",
            "|  NYA| 1/10/66| 1966-1|1966-Q1|533.869995|533.869995|533.869995|533.869995|533.869995|     0|533.869995|     USA|      CPI|    TOT|IDX2015|        M|13.41676|      null|            1/1/66|4409.52|            1/1/66|       7.7178E7|\n",
            "|  NYA| 1/11/66| 1966-1|1966-Q1|534.289978|534.289978|534.289978|534.289978|534.289978|     0|534.289978|     USA|      CPI|    TOT|IDX2015|        M|13.41676|      null|            1/1/66|4409.52|            1/1/66|       7.7178E7|\n",
            "|  NYA| 1/12/66| 1966-1|1966-Q1|533.340027|533.340027|533.340027|533.340027|533.340027|     0|533.340027|     USA|      CPI|    TOT|IDX2015|        M|13.41676|      null|            1/1/66|4409.52|            1/1/66|       7.7178E7|\n",
            "|  NYA| 1/13/66| 1966-1|1966-Q1|534.400024|534.400024|534.400024|534.400024|534.400024|     0|534.400024|     USA|      CPI|    TOT|IDX2015|        M|13.41676|      null|            1/1/66|4409.52|            1/1/66|       7.7178E7|\n",
            "|  NYA| 1/14/66| 1966-1|1966-Q1|535.450012|535.450012|535.450012|535.450012|535.450012|     0|535.450012|     USA|      CPI|    TOT|IDX2015|        M|13.41676|      null|            1/1/66|4409.52|            1/1/66|       7.7178E7|\n",
            "|  NYA| 1/17/66| 1966-1|1966-Q1|537.460022|537.460022|537.460022|537.460022|537.460022|     0|537.460022|     USA|      CPI|    TOT|IDX2015|        M|13.41676|      null|            1/1/66|4409.52|            1/1/66|       7.7178E7|\n",
            "|  NYA| 1/18/66| 1966-1|1966-Q1|538.940002|538.940002|538.940002|538.940002|538.940002|     0|538.940002|     USA|      CPI|    TOT|IDX2015|        M|13.41676|      null|            1/1/66|4409.52|            1/1/66|       7.7178E7|\n",
            "|  NYA| 1/19/66| 1966-1|1966-Q1|537.669983|537.669983|537.669983|537.669983|537.669983|     0|537.669983|     USA|      CPI|    TOT|IDX2015|        M|13.41676|      null|            1/1/66|4409.52|            1/1/66|       7.7178E7|\n",
            "|  NYA| 1/20/66| 1966-1|1966-Q1|535.669983|535.669983|535.669983|535.669983|535.669983|     0|535.669983|     USA|      CPI|    TOT|IDX2015|        M|13.41676|      null|            1/1/66|4409.52|            1/1/66|       7.7178E7|\n",
            "|  NYA| 1/21/66| 1966-1|1966-Q1| 535.97998| 535.97998| 535.97998| 535.97998| 535.97998|     0| 535.97998|     USA|      CPI|    TOT|IDX2015|        M|13.41676|      null|            1/1/66|4409.52|            1/1/66|       7.7178E7|\n",
            "|  NYA| 1/24/66| 1966-1|1966-Q1|537.669983|537.669983|537.669983|537.669983|537.669983|     0|537.669983|     USA|      CPI|    TOT|IDX2015|        M|13.41676|      null|            1/1/66|4409.52|            1/1/66|       7.7178E7|\n",
            "|  NYA| 1/25/66| 1966-1|1966-Q1|538.099976|538.099976|538.099976|538.099976|538.099976|     0|538.099976|     USA|      CPI|    TOT|IDX2015|        M|13.41676|      null|            1/1/66|4409.52|            1/1/66|       7.7178E7|\n",
            "|  NYA| 1/26/66| 1966-1|1966-Q1|537.570007|537.570007|537.570007|537.570007|537.570007|     0|537.570007|     USA|      CPI|    TOT|IDX2015|        M|13.41676|      null|            1/1/66|4409.52|            1/1/66|       7.7178E7|\n",
            "|  NYA| 1/27/66| 1966-1|1966-Q1|537.359985|537.359985|537.359985|537.359985|537.359985|     0|537.359985|     USA|      CPI|    TOT|IDX2015|        M|13.41676|      null|            1/1/66|4409.52|            1/1/66|       7.7178E7|\n",
            "+-----+--------+-------+-------+----------+----------+----------+----------+----------+------+----------+--------+---------+-------+-------+---------+--------+----------+------------------+-------+------------------+---------------+\n",
            "only showing top 20 rows\n",
            "\n"
          ]
        }
      ]
    },
    {
      "cell_type": "code",
      "metadata": {
        "id": "wv2yIs_QoHJl"
      },
      "source": [
        "# Inflation\n",
        "url = \"https://team5-stock-index-bucket.s3.us-east-2.amazonaws.com/final+project+data/Inflation.csv\"\n",
        "spark.sparkContext.addFile(url)\n",
        "inflation_df = spark.read.csv(SparkFiles.get(\"Inflation.csv\"), sep=\",\", header=True, inferSchema=True)"
      ],
      "execution_count": 15,
      "outputs": []
    },
    {
      "cell_type": "code",
      "metadata": {
        "colab": {
          "base_uri": "https://localhost:8080/"
        },
        "id": "5mI8UBvuoRMj",
        "outputId": "55f62b8f-311e-4450-be74-77c2a8b6e3c5"
      },
      "source": [
        "inflation_df.show()"
      ],
      "execution_count": 16,
      "outputs": [
        {
          "output_type": "stream",
          "name": "stdout",
          "text": [
            "+--------+---------+-------+-------+---------+-------+--------+----------+\n",
            "|LOCATION|INDICATOR|SUBJECT|MEASURE|FREQUENCY|   TIME|   Value|Flag Codes|\n",
            "+--------+---------+-------+-------+---------+-------+--------+----------+\n",
            "|     USA|      CPI|    TOT|IDX2015|        M| 1955-1|11.26501|      null|\n",
            "|     USA|      CPI|    TOT|IDX2015|        M| 1955-2|11.26501|      null|\n",
            "|     USA|      CPI|    TOT|IDX2015|        M| 1955-3|11.26501|      null|\n",
            "|     USA|      CPI|    TOT|IDX2015|        M| 1955-4|11.26501|      null|\n",
            "|     USA|      CPI|    TOT|IDX2015|        M| 1955-5|11.26501|      null|\n",
            "|     USA|      CPI|    TOT|IDX2015|        M| 1955-6|11.26501|      null|\n",
            "|     USA|      CPI|    TOT|IDX2015|        M| 1955-7|11.30721|      null|\n",
            "|     USA|      CPI|    TOT|IDX2015|        M| 1955-8|11.30721|      null|\n",
            "|     USA|      CPI|    TOT|IDX2015|        M| 1955-9| 11.3494|      null|\n",
            "|     USA|      CPI|    TOT|IDX2015|        M|1955-10| 11.3494|      null|\n",
            "|     USA|      CPI|    TOT|IDX2015|        M|1955-11| 11.3494|      null|\n",
            "|     USA|      CPI|    TOT|IDX2015|        M|1955-12|11.30721|      null|\n",
            "|     USA|      CPI|    TOT|IDX2015|        M| 1956-1|11.30721|      null|\n",
            "|     USA|      CPI|    TOT|IDX2015|        M| 1956-2|11.30721|      null|\n",
            "|     USA|      CPI|    TOT|IDX2015|        M| 1956-3|11.30721|      null|\n",
            "|     USA|      CPI|    TOT|IDX2015|        M| 1956-4| 11.3494|      null|\n",
            "|     USA|      CPI|    TOT|IDX2015|        M| 1956-5|11.39159|      null|\n",
            "|     USA|      CPI|    TOT|IDX2015|        M| 1956-6|11.47597|      null|\n",
            "|     USA|      CPI|    TOT|IDX2015|        M| 1956-7|11.56035|      null|\n",
            "|     USA|      CPI|    TOT|IDX2015|        M| 1956-8|11.51816|      null|\n",
            "+--------+---------+-------+-------+---------+-------+--------+----------+\n",
            "only showing top 20 rows\n",
            "\n"
          ]
        }
      ]
    },
    {
      "cell_type": "code",
      "metadata": {
        "id": "q-HBx0BUoUPg"
      },
      "source": [
        "url = \"https://team5-stock-index-bucket.s3.us-east-2.amazonaws.com/final+project+data/NYA.csv\"\n",
        "spark.sparkContext.addFile(url)\n",
        "NYA_df = spark.read.csv(SparkFiles.get(\"NYA.csv\"), sep=\",\", header=True, inferSchema=True)"
      ],
      "execution_count": 17,
      "outputs": []
    },
    {
      "cell_type": "code",
      "metadata": {
        "colab": {
          "base_uri": "https://localhost:8080/"
        },
        "id": "4GG1V73Pomw5",
        "outputId": "077692dd-317e-47b4-a79c-d918f8b1db1d"
      },
      "source": [
        "NYA_df.show()"
      ],
      "execution_count": 18,
      "outputs": [
        {
          "output_type": "stream",
          "name": "stdout",
          "text": [
            "+-----+--------+-------+-------+----------+----------+----------+----------+----------+------+----------+----+\n",
            "|Index|    Date|  Month|Quarter|      Open|      High|       Low|     Close| Adj Close|Volume|  CloseUSD|_c11|\n",
            "+-----+--------+-------+-------+----------+----------+----------+----------+----------+------+----------+----+\n",
            "|  NYA|12/31/65|1965-12|1965-Q4|528.690002|528.690002|528.690002|528.690002|528.690002|     0|528.690002|null|\n",
            "|  NYA|  1/3/66| 1966-1|1966-Q1|527.210022|527.210022|527.210022|527.210022|527.210022|     0|527.210022|null|\n",
            "|  NYA|  1/4/66| 1966-1|1966-Q1|527.840027|527.840027|527.840027|527.840027|527.840027|     0|527.840027|null|\n",
            "|  NYA|  1/5/66| 1966-1|1966-Q1|531.119995|531.119995|531.119995|531.119995|531.119995|     0|531.119995|null|\n",
            "|  NYA|  1/6/66| 1966-1|1966-Q1|532.070007|532.070007|532.070007|532.070007|532.070007|     0|532.070007|null|\n",
            "|  NYA|  1/7/66| 1966-1|1966-Q1|532.599976|532.599976|532.599976|532.599976|532.599976|     0|532.599976|null|\n",
            "|  NYA| 1/10/66| 1966-1|1966-Q1|533.869995|533.869995|533.869995|533.869995|533.869995|     0|533.869995|null|\n",
            "|  NYA| 1/11/66| 1966-1|1966-Q1|534.289978|534.289978|534.289978|534.289978|534.289978|     0|534.289978|null|\n",
            "|  NYA| 1/12/66| 1966-1|1966-Q1|533.340027|533.340027|533.340027|533.340027|533.340027|     0|533.340027|null|\n",
            "|  NYA| 1/13/66| 1966-1|1966-Q1|534.400024|534.400024|534.400024|534.400024|534.400024|     0|534.400024|null|\n",
            "|  NYA| 1/14/66| 1966-1|1966-Q1|535.450012|535.450012|535.450012|535.450012|535.450012|     0|535.450012|null|\n",
            "|  NYA| 1/17/66| 1966-1|1966-Q1|537.460022|537.460022|537.460022|537.460022|537.460022|     0|537.460022|null|\n",
            "|  NYA| 1/18/66| 1966-1|1966-Q1|538.940002|538.940002|538.940002|538.940002|538.940002|     0|538.940002|null|\n",
            "|  NYA| 1/19/66| 1966-1|1966-Q1|537.669983|537.669983|537.669983|537.669983|537.669983|     0|537.669983|null|\n",
            "|  NYA| 1/20/66| 1966-1|1966-Q1|535.669983|535.669983|535.669983|535.669983|535.669983|     0|535.669983|null|\n",
            "|  NYA| 1/21/66| 1966-1|1966-Q1| 535.97998| 535.97998| 535.97998| 535.97998| 535.97998|     0| 535.97998|null|\n",
            "|  NYA| 1/24/66| 1966-1|1966-Q1|537.669983|537.669983|537.669983|537.669983|537.669983|     0|537.669983|null|\n",
            "|  NYA| 1/25/66| 1966-1|1966-Q1|538.099976|538.099976|538.099976|538.099976|538.099976|     0|538.099976|null|\n",
            "|  NYA| 1/26/66| 1966-1|1966-Q1|537.570007|537.570007|537.570007|537.570007|537.570007|     0|537.570007|null|\n",
            "|  NYA| 1/27/66| 1966-1|1966-Q1|537.359985|537.359985|537.359985|537.359985|537.359985|     0|537.359985|null|\n",
            "+-----+--------+-------+-------+----------+----------+----------+----------+----------+------+----------+----+\n",
            "only showing top 20 rows\n",
            "\n"
          ]
        }
      ]
    },
    {
      "cell_type": "code",
      "metadata": {
        "id": "t379iXcwpALP"
      },
      "source": [
        "url = \"https://team5-stock-index-bucket.s3.us-east-2.amazonaws.com/final+project+data/Real+GDP.csv\"\n",
        "spark.sparkContext.addFile(url)\n",
        "real_gdp_df = spark.read.csv(SparkFiles.get(\"Real+GDP.csv\"), sep=\",\", header=True, inferSchema=True)"
      ],
      "execution_count": 19,
      "outputs": []
    },
    {
      "cell_type": "code",
      "metadata": {
        "colab": {
          "base_uri": "https://localhost:8080/"
        },
        "id": "FSh4fhI9pMAV",
        "outputId": "403799e9-8116-423f-ff38-3247dc2e3ccf"
      },
      "source": [
        "real_gdp_df.show()"
      ],
      "execution_count": 20,
      "outputs": [
        {
          "output_type": "stream",
          "name": "stdout",
          "text": [
            "+----------------+-------+--------+----+\n",
            "|observation_date|Quarter|   GDPC1| _c3|\n",
            "+----------------+-------+--------+----+\n",
            "|      1947-01-01|1947-Q1| 2034.45|null|\n",
            "|      1947-04-01|1947-Q2|2029.024|null|\n",
            "|      1947-07-01|1947-Q3|2024.834|null|\n",
            "|      1947-10-01|1947-Q4|2056.508|null|\n",
            "|      1948-01-01|1948-Q1|2087.442|null|\n",
            "|      1948-04-01|1948-Q2|2121.899|null|\n",
            "|      1948-07-01|1948-Q3|2134.056|null|\n",
            "|      1948-10-01|1948-Q4| 2136.44|null|\n",
            "|      1949-01-01|1949-Q1|2107.001|null|\n",
            "|      1949-04-01|1949-Q2|2099.814|null|\n",
            "|      1949-07-01|1949-Q3|2121.493|null|\n",
            "|      1949-10-01|1949-Q4|2103.688|null|\n",
            "|      1950-01-01|1950-Q1|2186.365|null|\n",
            "|      1950-04-01|1950-Q2|2253.045|null|\n",
            "|      1950-07-01|1950-Q3|2340.112|null|\n",
            "|      1950-10-01|1950-Q4| 2384.92|null|\n",
            "|      1951-01-01|1951-Q1|2417.311|null|\n",
            "|      1951-04-01|1951-Q2|2459.196|null|\n",
            "|      1951-07-01|1951-Q3| 2509.88|null|\n",
            "|      1951-10-01|1951-Q4|2515.408|null|\n",
            "+----------------+-------+--------+----+\n",
            "only showing top 20 rows\n",
            "\n"
          ]
        }
      ]
    },
    {
      "cell_type": "code",
      "metadata": {
        "id": "6nbqmkLTpSuE"
      },
      "source": [
        "url = \"https://team5-stock-index-bucket.s3.us-east-2.amazonaws.com/final+project+data/Working+Pop.csv\"\n",
        "spark.sparkContext.addFile(url)\n",
        "population_df = spark.read.csv(SparkFiles.get(\"Working+Pop.csv\"), sep=\",\", header=True, inferSchema=True)"
      ],
      "execution_count": 21,
      "outputs": []
    },
    {
      "cell_type": "code",
      "metadata": {
        "id": "BPZQkK_ppbpL",
        "outputId": "30aac985-5caa-4e7f-bebd-407e4e5604e3",
        "colab": {
          "base_uri": "https://localhost:8080/"
        }
      },
      "source": [
        "population_df.show()"
      ],
      "execution_count": 22,
      "outputs": [
        {
          "output_type": "stream",
          "name": "stdout",
          "text": [
            "+----------------+-------+---------------+\n",
            "|observation_date|  Month|LFWA64TTUSM647S|\n",
            "+----------------+-------+---------------+\n",
            "|      1965-12-01|1965-12|       7.7178E7|\n",
            "|      1966-01-01| 1966-1|       7.7178E7|\n",
            "|      1966-02-01| 1966-2|       7.7178E7|\n",
            "|      1966-03-01| 1966-3|       7.7178E7|\n",
            "|      1966-04-01| 1966-4|       7.7178E7|\n",
            "|      1966-05-01| 1966-5|       7.7178E7|\n",
            "|      1966-06-01| 1966-6|       7.7178E7|\n",
            "|      1966-07-01| 1966-7|       7.7178E7|\n",
            "|      1966-08-01| 1966-8|       7.7178E7|\n",
            "|      1966-09-01| 1966-9|       7.7178E7|\n",
            "|      1966-10-01|1966-10|       7.7178E7|\n",
            "|      1966-11-01|1966-11|       7.7178E7|\n",
            "|      1966-12-01|1966-12|       7.7178E7|\n",
            "|      1967-01-01| 1967-1|       7.7178E7|\n",
            "|      1967-02-01| 1967-2|       7.7178E7|\n",
            "|      1967-03-01| 1967-3|       7.7178E7|\n",
            "|      1967-04-01| 1967-4|       7.7178E7|\n",
            "|      1967-05-01| 1967-5|       7.7178E7|\n",
            "|      1967-06-01| 1967-6|       7.7178E7|\n",
            "|      1967-07-01| 1967-7|       7.7178E7|\n",
            "+----------------+-------+---------------+\n",
            "only showing top 20 rows\n",
            "\n"
          ]
        }
      ]
    }
  ]
}