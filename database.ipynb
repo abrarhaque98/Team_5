{
  "nbformat": 4,
  "nbformat_minor": 0,
  "metadata": {
    "colab": {
      "name": "Untitled8.ipynb",
      "provenance": []
    },
    "kernelspec": {
      "name": "python3",
      "display_name": "Python 3"
    },
    "language_info": {
      "name": "python"
    }
  },
  "cells": [
    {
      "cell_type": "code",
      "metadata": {
        "colab": {
          "base_uri": "https://localhost:8080/"
        },
        "id": "pX7yvci7l6c3",
        "outputId": "335c9e8e-7f51-4637-e0a6-5eab41152c62"
      },
      "source": [
        "#using pyspark \n",
        "\n",
        "import os\n",
        "# Find the latest version of spark 3.0 from http://www.apache.org/dist/spark/ and enter as the spark version\n",
        "# For example:\n",
        "# spark_version = 'spark-3.0.3'\n",
        "spark_version = 'spark-3.0.3'\n",
        "os.environ['SPARK_VERSION']=spark_version\n",
        "\n",
        "# Install Spark and Java\n",
        "!apt-get update\n",
        "!apt-get install openjdk-11-jdk-headless -qq > /dev/null\n",
        "!wget -q http://www.apache.org/dist/spark/$SPARK_VERSION/$SPARK_VERSION-bin-hadoop2.7.tgz\n",
        "!tar xf $SPARK_VERSION-bin-hadoop2.7.tgz\n",
        "!pip install -q findspark\n",
        "\n",
        "# Set Environment Variables\n",
        "import os\n",
        "os.environ[\"JAVA_HOME\"] = \"/usr/lib/jvm/java-11-openjdk-amd64\"\n",
        "os.environ[\"SPARK_HOME\"] = f\"/content/{spark_version}-bin-hadoop2.7\"\n",
        "\n",
        "# Start a SparkSession\n",
        "import findspark\n",
        "findspark.init()"
      ],
      "execution_count": 1,
      "outputs": [
        {
          "output_type": "stream",
          "name": "stdout",
          "text": [
            "\r0% [Working]\r            \rGet:1 http://security.ubuntu.com/ubuntu bionic-security InRelease [88.7 kB]\n",
            "\r0% [Connecting to archive.ubuntu.com (91.189.88.152)] [1 InRelease 14.2 kB/88.7\r                                                                               \rHit:2 https://cloud.r-project.org/bin/linux/ubuntu bionic-cran40/ InRelease\n",
            "\r0% [Connecting to archive.ubuntu.com (91.189.88.152)] [1 InRelease 14.2 kB/88.7\r0% [2 InRelease gpgv 3,626 B] [Connecting to archive.ubuntu.com (91.189.88.152)\r                                                                               \rIgn:3 https://developer.download.nvidia.com/compute/cuda/repos/ubuntu1804/x86_64  InRelease\n",
            "\r0% [2 InRelease gpgv 3,626 B] [Connecting to archive.ubuntu.com (91.189.88.152)\r0% [2 InRelease gpgv 3,626 B] [Waiting for headers] [Waiting for headers] [Wait\r                                                                               \rHit:4 http://ppa.launchpad.net/c2d4u.team/c2d4u4.0+/ubuntu bionic InRelease\n",
            "\r                                                                               \r0% [2 InRelease gpgv 3,626 B] [Waiting for headers] [Waiting for headers]\r                                                                         \rIgn:5 https://developer.download.nvidia.com/compute/machine-learning/repos/ubuntu1804/x86_64  InRelease\n",
            "\r0% [2 InRelease gpgv 3,626 B] [Waiting for headers] [Connecting to ppa.launchpa\r                                                                               \rHit:6 https://developer.download.nvidia.com/compute/cuda/repos/ubuntu1804/x86_64  Release\n",
            "\r0% [2 InRelease gpgv 3,626 B] [Waiting for headers] [Connecting to ppa.launchpa\r                                                                               \rHit:7 https://developer.download.nvidia.com/compute/machine-learning/repos/ubuntu1804/x86_64  Release\n",
            "Hit:8 http://archive.ubuntu.com/ubuntu bionic InRelease\n",
            "Get:9 http://archive.ubuntu.com/ubuntu bionic-updates InRelease [88.7 kB]\n",
            "Hit:10 http://ppa.launchpad.net/cran/libgit2/ubuntu bionic InRelease\n",
            "Hit:11 http://ppa.launchpad.net/deadsnakes/ppa/ubuntu bionic InRelease\n",
            "Get:12 http://archive.ubuntu.com/ubuntu bionic-backports InRelease [74.6 kB]\n",
            "Hit:13 http://ppa.launchpad.net/graphics-drivers/ppa/ubuntu bionic InRelease\n",
            "Fetched 252 kB in 2s (107 kB/s)\n",
            "Reading package lists... Done\n"
          ]
        }
      ]
    },
    {
      "cell_type": "code",
      "metadata": {
        "colab": {
          "base_uri": "https://localhost:8080/"
        },
        "id": "-sb9xU4bl_aF",
        "outputId": "179d6cab-68fd-4e12-f9a6-c4d415d75ec1"
      },
      "source": [
        "#Postgres driver that will allow Spark to interact with Postgres\n",
        "!wget https://jdbc.postgresql.org/download/postgresql-42.2.16.jar"
      ],
      "execution_count": 2,
      "outputs": [
        {
          "output_type": "stream",
          "name": "stdout",
          "text": [
            "--2021-10-31 22:07:35--  https://jdbc.postgresql.org/download/postgresql-42.2.16.jar\n",
            "Resolving jdbc.postgresql.org (jdbc.postgresql.org)... 72.32.157.228, 2001:4800:3e1:1::228\n",
            "Connecting to jdbc.postgresql.org (jdbc.postgresql.org)|72.32.157.228|:443... connected.\n",
            "HTTP request sent, awaiting response... 200 OK\n",
            "Length: 1002883 (979K) [application/java-archive]\n",
            "Saving to: ‘postgresql-42.2.16.jar.1’\n",
            "\n",
            "postgresql-42.2.16. 100%[===================>] 979.38K  --.-KB/s    in 0.1s    \n",
            "\n",
            "2021-10-31 22:07:36 (9.59 MB/s) - ‘postgresql-42.2.16.jar.1’ saved [1002883/1002883]\n",
            "\n"
          ]
        }
      ]
    },
    {
      "cell_type": "code",
      "metadata": {
        "id": "AhhXZ3_XmGwm"
      },
      "source": [
        "from pyspark.sql import SparkSession\n",
        "spark = SparkSession.builder.appName(\"CloudETL\").config(\"spark.driver.extraClassPath\",\"/content/postgresql-42.2.16.jar\").getOrCreate()"
      ],
      "execution_count": 3,
      "outputs": []
    },
    {
      "cell_type": "code",
      "metadata": {
        "id": "_zNjpjbemJLU"
      },
      "source": [
        "import pandas as pd"
      ],
      "execution_count": 4,
      "outputs": []
    },
    {
      "cell_type": "code",
      "metadata": {
        "id": "H-TxDRRLmL5S"
      },
      "source": [
        "#get data from S3 Buckets\n",
        "from pyspark import SparkFiles"
      ],
      "execution_count": 5,
      "outputs": []
    },
    {
      "cell_type": "code",
      "metadata": {
        "id": "wv2yIs_QoHJl"
      },
      "source": [
        "# Inflation\n",
        "url = \"https://team5-stock-index-bucket.s3.us-east-2.amazonaws.com/final+project+data/Inflation.csv\"\n",
        "spark.sparkContext.addFile(url)\n",
        "inflation_df = spark.read.csv(SparkFiles.get(\"Inflation.csv\"), sep=\",\", header=True, inferSchema=True)"
      ],
      "execution_count": 6,
      "outputs": []
    },
    {
      "cell_type": "code",
      "metadata": {
        "colab": {
          "base_uri": "https://localhost:8080/"
        },
        "id": "5mI8UBvuoRMj",
        "outputId": "6081242d-0fdd-4b33-b3dd-7230583cabb9"
      },
      "source": [
        "inflation_df.show()"
      ],
      "execution_count": 7,
      "outputs": [
        {
          "output_type": "stream",
          "name": "stdout",
          "text": [
            "+--------+---------+-------+-------+---------+-------+--------+----------+\n",
            "|LOCATION|INDICATOR|SUBJECT|MEASURE|FREQUENCY|   TIME|   Value|Flag Codes|\n",
            "+--------+---------+-------+-------+---------+-------+--------+----------+\n",
            "|     USA|      CPI|    TOT|IDX2015|        M| 1955-1|11.26501|      null|\n",
            "|     USA|      CPI|    TOT|IDX2015|        M| 1955-2|11.26501|      null|\n",
            "|     USA|      CPI|    TOT|IDX2015|        M| 1955-3|11.26501|      null|\n",
            "|     USA|      CPI|    TOT|IDX2015|        M| 1955-4|11.26501|      null|\n",
            "|     USA|      CPI|    TOT|IDX2015|        M| 1955-5|11.26501|      null|\n",
            "|     USA|      CPI|    TOT|IDX2015|        M| 1955-6|11.26501|      null|\n",
            "|     USA|      CPI|    TOT|IDX2015|        M| 1955-7|11.30721|      null|\n",
            "|     USA|      CPI|    TOT|IDX2015|        M| 1955-8|11.30721|      null|\n",
            "|     USA|      CPI|    TOT|IDX2015|        M| 1955-9| 11.3494|      null|\n",
            "|     USA|      CPI|    TOT|IDX2015|        M|1955-10| 11.3494|      null|\n",
            "|     USA|      CPI|    TOT|IDX2015|        M|1955-11| 11.3494|      null|\n",
            "|     USA|      CPI|    TOT|IDX2015|        M|1955-12|11.30721|      null|\n",
            "|     USA|      CPI|    TOT|IDX2015|        M| 1956-1|11.30721|      null|\n",
            "|     USA|      CPI|    TOT|IDX2015|        M| 1956-2|11.30721|      null|\n",
            "|     USA|      CPI|    TOT|IDX2015|        M| 1956-3|11.30721|      null|\n",
            "|     USA|      CPI|    TOT|IDX2015|        M| 1956-4| 11.3494|      null|\n",
            "|     USA|      CPI|    TOT|IDX2015|        M| 1956-5|11.39159|      null|\n",
            "|     USA|      CPI|    TOT|IDX2015|        M| 1956-6|11.47597|      null|\n",
            "|     USA|      CPI|    TOT|IDX2015|        M| 1956-7|11.56035|      null|\n",
            "|     USA|      CPI|    TOT|IDX2015|        M| 1956-8|11.51816|      null|\n",
            "+--------+---------+-------+-------+---------+-------+--------+----------+\n",
            "only showing top 20 rows\n",
            "\n"
          ]
        }
      ]
    },
    {
      "cell_type": "code",
      "metadata": {
        "id": "QJl80xHKNMnc"
      },
      "source": [
        "inflation_df = inflation_df.withColumnRenamed(\"Flag Codes\", \"flag_codes\")"
      ],
      "execution_count": 8,
      "outputs": []
    },
    {
      "cell_type": "code",
      "metadata": {
        "id": "q-HBx0BUoUPg"
      },
      "source": [
        "url = \"https://team5-stock-index-bucket.s3.us-east-2.amazonaws.com/final+project+data/NYA.csv\"\n",
        "spark.sparkContext.addFile(url)\n",
        "NYA_df = spark.read.csv(SparkFiles.get(\"NYA.csv\"), sep=\",\", header=True, inferSchema=True)"
      ],
      "execution_count": 9,
      "outputs": []
    },
    {
      "cell_type": "code",
      "metadata": {
        "colab": {
          "base_uri": "https://localhost:8080/"
        },
        "id": "4GG1V73Pomw5",
        "outputId": "fd2fc6a1-4c69-4dc6-875b-97c6b845b372"
      },
      "source": [
        "NYA_df.show()"
      ],
      "execution_count": 10,
      "outputs": [
        {
          "output_type": "stream",
          "name": "stdout",
          "text": [
            "+-----+--------+-------+-------+----------+----------+----------+----------+----------+------+----------+----+\n",
            "|Index|    Date|  Month|Quarter|      Open|      High|       Low|     Close| Adj Close|Volume|  CloseUSD|_c11|\n",
            "+-----+--------+-------+-------+----------+----------+----------+----------+----------+------+----------+----+\n",
            "|  NYA|12/31/65|1965-12|1965-Q4|528.690002|528.690002|528.690002|528.690002|528.690002|     0|528.690002|null|\n",
            "|  NYA|  1/3/66| 1966-1|1966-Q1|527.210022|527.210022|527.210022|527.210022|527.210022|     0|527.210022|null|\n",
            "|  NYA|  1/4/66| 1966-1|1966-Q1|527.840027|527.840027|527.840027|527.840027|527.840027|     0|527.840027|null|\n",
            "|  NYA|  1/5/66| 1966-1|1966-Q1|531.119995|531.119995|531.119995|531.119995|531.119995|     0|531.119995|null|\n",
            "|  NYA|  1/6/66| 1966-1|1966-Q1|532.070007|532.070007|532.070007|532.070007|532.070007|     0|532.070007|null|\n",
            "|  NYA|  1/7/66| 1966-1|1966-Q1|532.599976|532.599976|532.599976|532.599976|532.599976|     0|532.599976|null|\n",
            "|  NYA| 1/10/66| 1966-1|1966-Q1|533.869995|533.869995|533.869995|533.869995|533.869995|     0|533.869995|null|\n",
            "|  NYA| 1/11/66| 1966-1|1966-Q1|534.289978|534.289978|534.289978|534.289978|534.289978|     0|534.289978|null|\n",
            "|  NYA| 1/12/66| 1966-1|1966-Q1|533.340027|533.340027|533.340027|533.340027|533.340027|     0|533.340027|null|\n",
            "|  NYA| 1/13/66| 1966-1|1966-Q1|534.400024|534.400024|534.400024|534.400024|534.400024|     0|534.400024|null|\n",
            "|  NYA| 1/14/66| 1966-1|1966-Q1|535.450012|535.450012|535.450012|535.450012|535.450012|     0|535.450012|null|\n",
            "|  NYA| 1/17/66| 1966-1|1966-Q1|537.460022|537.460022|537.460022|537.460022|537.460022|     0|537.460022|null|\n",
            "|  NYA| 1/18/66| 1966-1|1966-Q1|538.940002|538.940002|538.940002|538.940002|538.940002|     0|538.940002|null|\n",
            "|  NYA| 1/19/66| 1966-1|1966-Q1|537.669983|537.669983|537.669983|537.669983|537.669983|     0|537.669983|null|\n",
            "|  NYA| 1/20/66| 1966-1|1966-Q1|535.669983|535.669983|535.669983|535.669983|535.669983|     0|535.669983|null|\n",
            "|  NYA| 1/21/66| 1966-1|1966-Q1| 535.97998| 535.97998| 535.97998| 535.97998| 535.97998|     0| 535.97998|null|\n",
            "|  NYA| 1/24/66| 1966-1|1966-Q1|537.669983|537.669983|537.669983|537.669983|537.669983|     0|537.669983|null|\n",
            "|  NYA| 1/25/66| 1966-1|1966-Q1|538.099976|538.099976|538.099976|538.099976|538.099976|     0|538.099976|null|\n",
            "|  NYA| 1/26/66| 1966-1|1966-Q1|537.570007|537.570007|537.570007|537.570007|537.570007|     0|537.570007|null|\n",
            "|  NYA| 1/27/66| 1966-1|1966-Q1|537.359985|537.359985|537.359985|537.359985|537.359985|     0|537.359985|null|\n",
            "+-----+--------+-------+-------+----------+----------+----------+----------+----------+------+----------+----+\n",
            "only showing top 20 rows\n",
            "\n"
          ]
        }
      ]
    },
    {
      "cell_type": "code",
      "metadata": {
        "id": "ZvSACeJtOSMh"
      },
      "source": [
        "NYA_df = NYA_df.withColumnRenamed(\"Adj Close\", \"adj_close\")"
      ],
      "execution_count": 11,
      "outputs": []
    },
    {
      "cell_type": "code",
      "metadata": {
        "id": "t379iXcwpALP"
      },
      "source": [
        "url = \"https://team5-stock-index-bucket.s3.us-east-2.amazonaws.com/final+project+data/Real+GDP.csv\"\n",
        "spark.sparkContext.addFile(url)\n",
        "real_gdp_df = spark.read.csv(SparkFiles.get(\"Real+GDP.csv\"), sep=\",\", header=True, inferSchema=True)"
      ],
      "execution_count": 12,
      "outputs": []
    },
    {
      "cell_type": "code",
      "metadata": {
        "colab": {
          "base_uri": "https://localhost:8080/"
        },
        "id": "FSh4fhI9pMAV",
        "outputId": "4a734227-a476-475f-fc41-18850e1bf511"
      },
      "source": [
        "real_gdp_df.show()"
      ],
      "execution_count": 13,
      "outputs": [
        {
          "output_type": "stream",
          "name": "stdout",
          "text": [
            "+----------------+-------+--------+----+\n",
            "|observation_date|Quarter|   GDPC1| _c3|\n",
            "+----------------+-------+--------+----+\n",
            "|      1947-01-01|1947-Q1| 2034.45|null|\n",
            "|      1947-04-01|1947-Q2|2029.024|null|\n",
            "|      1947-07-01|1947-Q3|2024.834|null|\n",
            "|      1947-10-01|1947-Q4|2056.508|null|\n",
            "|      1948-01-01|1948-Q1|2087.442|null|\n",
            "|      1948-04-01|1948-Q2|2121.899|null|\n",
            "|      1948-07-01|1948-Q3|2134.056|null|\n",
            "|      1948-10-01|1948-Q4| 2136.44|null|\n",
            "|      1949-01-01|1949-Q1|2107.001|null|\n",
            "|      1949-04-01|1949-Q2|2099.814|null|\n",
            "|      1949-07-01|1949-Q3|2121.493|null|\n",
            "|      1949-10-01|1949-Q4|2103.688|null|\n",
            "|      1950-01-01|1950-Q1|2186.365|null|\n",
            "|      1950-04-01|1950-Q2|2253.045|null|\n",
            "|      1950-07-01|1950-Q3|2340.112|null|\n",
            "|      1950-10-01|1950-Q4| 2384.92|null|\n",
            "|      1951-01-01|1951-Q1|2417.311|null|\n",
            "|      1951-04-01|1951-Q2|2459.196|null|\n",
            "|      1951-07-01|1951-Q3| 2509.88|null|\n",
            "|      1951-10-01|1951-Q4|2515.408|null|\n",
            "+----------------+-------+--------+----+\n",
            "only showing top 20 rows\n",
            "\n"
          ]
        }
      ]
    },
    {
      "cell_type": "code",
      "metadata": {
        "id": "6nbqmkLTpSuE"
      },
      "source": [
        "url = \"https://team5-stock-index-bucket.s3.us-east-2.amazonaws.com/final+project+data/Working+Pop.csv\"\n",
        "spark.sparkContext.addFile(url)\n",
        "population_df = spark.read.csv(SparkFiles.get(\"Working+Pop.csv\"), sep=\",\", header=True, inferSchema=True)"
      ],
      "execution_count": 14,
      "outputs": []
    },
    {
      "cell_type": "code",
      "metadata": {
        "colab": {
          "base_uri": "https://localhost:8080/"
        },
        "id": "BPZQkK_ppbpL",
        "outputId": "17821421-d631-4cb7-a842-43d0f75e8d10"
      },
      "source": [
        "population_df.show()"
      ],
      "execution_count": 15,
      "outputs": [
        {
          "output_type": "stream",
          "name": "stdout",
          "text": [
            "+----------------+-------+---------------+\n",
            "|observation_date|  Month|LFWA64TTUSM647S|\n",
            "+----------------+-------+---------------+\n",
            "|      1965-12-01|1965-12|       7.7178E7|\n",
            "|      1966-01-01| 1966-1|       7.7178E7|\n",
            "|      1966-02-01| 1966-2|       7.7178E7|\n",
            "|      1966-03-01| 1966-3|       7.7178E7|\n",
            "|      1966-04-01| 1966-4|       7.7178E7|\n",
            "|      1966-05-01| 1966-5|       7.7178E7|\n",
            "|      1966-06-01| 1966-6|       7.7178E7|\n",
            "|      1966-07-01| 1966-7|       7.7178E7|\n",
            "|      1966-08-01| 1966-8|       7.7178E7|\n",
            "|      1966-09-01| 1966-9|       7.7178E7|\n",
            "|      1966-10-01|1966-10|       7.7178E7|\n",
            "|      1966-11-01|1966-11|       7.7178E7|\n",
            "|      1966-12-01|1966-12|       7.7178E7|\n",
            "|      1967-01-01| 1967-1|       7.7178E7|\n",
            "|      1967-02-01| 1967-2|       7.7178E7|\n",
            "|      1967-03-01| 1967-3|       7.7178E7|\n",
            "|      1967-04-01| 1967-4|       7.7178E7|\n",
            "|      1967-05-01| 1967-5|       7.7178E7|\n",
            "|      1967-06-01| 1967-6|       7.7178E7|\n",
            "|      1967-07-01| 1967-7|       7.7178E7|\n",
            "+----------------+-------+---------------+\n",
            "only showing top 20 rows\n",
            "\n"
          ]
        }
      ]
    },
    {
      "cell_type": "code",
      "metadata": {
        "colab": {
          "base_uri": "https://localhost:8080/"
        },
        "id": "kAE7pIq-rOHI",
        "outputId": "58ca11fe-48e3-401a-e832-ff47adac0a2d"
      },
      "source": [
        "#checking data types of each df \n",
        "print(inflation_df.dtypes)\n",
        "print(NYA_df.dtypes)\n",
        "print(real_gdp_df.dtypes)\n",
        "print(population_df.dtypes)"
      ],
      "execution_count": 16,
      "outputs": [
        {
          "output_type": "stream",
          "name": "stdout",
          "text": [
            "[('LOCATION', 'string'), ('INDICATOR', 'string'), ('SUBJECT', 'string'), ('MEASURE', 'string'), ('FREQUENCY', 'string'), ('TIME', 'string'), ('Value', 'double'), ('flag_codes', 'string')]\n",
            "[('Index', 'string'), ('Date', 'string'), ('Month', 'string'), ('Quarter', 'string'), ('Open', 'double'), ('High', 'double'), ('Low', 'double'), ('Close', 'double'), ('adj_close', 'double'), ('Volume', 'bigint'), ('CloseUSD', 'double'), ('_c11', 'string')]\n",
            "[('observation_date', 'string'), ('Quarter', 'string'), ('GDPC1', 'double'), ('_c3', 'string')]\n",
            "[('observation_date', 'string'), ('Month', 'string'), ('LFWA64TTUSM647S', 'double')]\n"
          ]
        }
      ]
    },
    {
      "cell_type": "code",
      "metadata": {
        "id": "8BIlLQkptiRh"
      },
      "source": [
        "# Store environmental variable\n",
        "from getpass import getpass\n",
        "password = getpass('finalproject99')\n",
        "# Configure settings for RDS\n",
        "mode = \"append\"\n",
        "jdbc_url=\"jdbc:postgresql://team5-stock-index-analysis.c5eoj6us86ug.us-east-2.rds.amazonaws.com:5432/postgres\"\n",
        "config = {\"user\":\"postgres\",\n",
        "          \"password\": password,\n",
        "          \"driver\":\"org.postgresql.Driver\"}"
      ],
      "execution_count": null,
      "outputs": []
    },
    {
      "cell_type": "code",
      "metadata": {
        "id": "9sBDbuyj_T_r"
      },
      "source": [
        "#write real_gdp_df to realGDP table in RDS\n",
        "real_gdp_df.write.jdbc(url=jdbc_url, table='realGDP', mode=mode, properties=config)"
      ],
      "execution_count": null,
      "outputs": []
    },
    {
      "cell_type": "code",
      "metadata": {
        "id": "pJ2qzJX8MyJr"
      },
      "source": [
        "#write inflation_df to inflation table in RDS \n",
        "inflation_df.write.jdbc(url=jdbc_url, table='inflation', mode=mode, properties=config)"
      ],
      "execution_count": null,
      "outputs": []
    },
    {
      "cell_type": "code",
      "metadata": {
        "id": "bBTF_oEJNlH6"
      },
      "source": [
        "#write NYA_df to NYA table in RDS \n",
        "NYA_df.write.jdbc(url=jdbc_url, table='NYA', mode=mode, properties=config)"
      ],
      "execution_count": null,
      "outputs": []
    },
    {
      "cell_type": "code",
      "metadata": {
        "id": "KmMN-gPwOue-"
      },
      "source": [
        "#write population_df to population table in RDS \n",
        "population_df.write.jdbc(url=jdbc_url, table='population', mode=mode, properties=config)"
      ],
      "execution_count": null,
      "outputs": []
    }
  ]
}