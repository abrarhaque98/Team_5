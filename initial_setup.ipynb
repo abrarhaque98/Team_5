{
  "nbformat": 4,
  "nbformat_minor": 0,
  "metadata": {
    "colab": {
      "name": "Untitled6.ipynb",
      "provenance": [],
      "collapsed_sections": []
    },
    "kernelspec": {
      "name": "python3",
      "display_name": "Python 3"
    },
    "language_info": {
      "name": "python"
    }
  },
  "cells": [
    {
      "cell_type": "code",
      "metadata": {
        "colab": {
          "base_uri": "https://localhost:8080/"
        },
        "id": "dk7hIxozdET_",
        "outputId": "c343d9e0-4708-4d06-805b-bd873c3ba9dc"
      },
      "source": [
        "#using pyspark \n",
        "\n",
        "import os\n",
        "# Find the latest version of spark 3.0 from http://www.apache.org/dist/spark/ and enter as the spark version\n",
        "# For example:\n",
        "# spark_version = 'spark-3.0.3'\n",
        "spark_version = 'spark-3.0.3'\n",
        "os.environ['SPARK_VERSION']=spark_version\n",
        "\n",
        "# Install Spark and Java\n",
        "!apt-get update\n",
        "!apt-get install openjdk-11-jdk-headless -qq > /dev/null\n",
        "!wget -q http://www.apache.org/dist/spark/$SPARK_VERSION/$SPARK_VERSION-bin-hadoop2.7.tgz\n",
        "!tar xf $SPARK_VERSION-bin-hadoop2.7.tgz\n",
        "!pip install -q findspark\n",
        "\n",
        "# Set Environment Variables\n",
        "import os\n",
        "os.environ[\"JAVA_HOME\"] = \"/usr/lib/jvm/java-11-openjdk-amd64\"\n",
        "os.environ[\"SPARK_HOME\"] = f\"/content/{spark_version}-bin-hadoop2.7\"\n",
        "\n",
        "# Start a SparkSession\n",
        "import findspark\n",
        "findspark.init()"
      ],
      "execution_count": 1,
      "outputs": [
        {
          "output_type": "stream",
          "name": "stdout",
          "text": [
            "\r0% [Working]\r            \rHit:1 https://cloud.r-project.org/bin/linux/ubuntu bionic-cran40/ InRelease\n",
            "\r0% [Connecting to archive.ubuntu.com (91.189.88.142)] [Connecting to security.u\r                                                                               \rIgn:2 https://developer.download.nvidia.com/compute/cuda/repos/ubuntu1804/x86_64  InRelease\n",
            "\r0% [Connecting to archive.ubuntu.com (91.189.88.142)] [Waiting for headers] [Co\r0% [1 InRelease gpgv 3,626 B] [Connecting to archive.ubuntu.com (91.189.88.142)\r                                                                               \rIgn:3 https://developer.download.nvidia.com/compute/machine-learning/repos/ubuntu1804/x86_64  InRelease\n",
            "\r0% [1 InRelease gpgv 3,626 B] [Connecting to archive.ubuntu.com (91.189.88.142)\r                                                                               \rHit:4 https://developer.download.nvidia.com/compute/cuda/repos/ubuntu1804/x86_64  Release\n",
            "\r0% [1 InRelease gpgv 3,626 B] [Connecting to archive.ubuntu.com (91.189.88.142)\r                                                                               \rHit:5 https://developer.download.nvidia.com/compute/machine-learning/repos/ubuntu1804/x86_64  Release\n",
            "\r0% [1 InRelease gpgv 3,626 B] [Connecting to archive.ubuntu.com (91.189.88.142)\r                                                                               \rHit:6 http://security.ubuntu.com/ubuntu bionic-security InRelease\n",
            "\r                                                                               \r0% [1 InRelease gpgv 3,626 B] [Waiting for headers] [Waiting for headers]\r                                                                         \rHit:7 http://archive.ubuntu.com/ubuntu bionic InRelease\n",
            "Hit:8 http://ppa.launchpad.net/c2d4u.team/c2d4u4.0+/ubuntu bionic InRelease\n",
            "Hit:9 http://archive.ubuntu.com/ubuntu bionic-updates InRelease\n",
            "Hit:11 http://archive.ubuntu.com/ubuntu bionic-backports InRelease\n",
            "Hit:12 http://ppa.launchpad.net/cran/libgit2/ubuntu bionic InRelease\n",
            "Hit:14 http://ppa.launchpad.net/deadsnakes/ppa/ubuntu bionic InRelease\n",
            "Hit:15 http://ppa.launchpad.net/graphics-drivers/ppa/ubuntu bionic InRelease\n",
            "Reading package lists... Done\n"
          ]
        }
      ]
    },
    {
      "cell_type": "code",
      "metadata": {
        "colab": {
          "base_uri": "https://localhost:8080/"
        },
        "id": "7GhJyx51drJ_",
        "outputId": "9e827ff3-5464-4ed4-a2c2-10f503c56503"
      },
      "source": [
        "#Postgres driver that will allow Spark to interact with Postgres\n",
        "!wget https://jdbc.postgresql.org/download/postgresql-42.2.16.jar"
      ],
      "execution_count": 2,
      "outputs": [
        {
          "output_type": "stream",
          "name": "stdout",
          "text": [
            "--2021-10-28 17:19:46--  https://jdbc.postgresql.org/download/postgresql-42.2.16.jar\n",
            "Resolving jdbc.postgresql.org (jdbc.postgresql.org)... 72.32.157.228, 2001:4800:3e1:1::228\n",
            "Connecting to jdbc.postgresql.org (jdbc.postgresql.org)|72.32.157.228|:443... connected.\n",
            "HTTP request sent, awaiting response... 200 OK\n",
            "Length: 1002883 (979K) [application/java-archive]\n",
            "Saving to: ‘postgresql-42.2.16.jar.6’\n",
            "\n",
            "postgresql-42.2.16. 100%[===================>] 979.38K  6.07MB/s    in 0.2s    \n",
            "\n",
            "2021-10-28 17:19:47 (6.07 MB/s) - ‘postgresql-42.2.16.jar.6’ saved [1002883/1002883]\n",
            "\n"
          ]
        }
      ]
    },
    {
      "cell_type": "code",
      "metadata": {
        "id": "7lm_aG6_eWUj"
      },
      "source": [
        "from pyspark.sql import SparkSession\n",
        "spark = SparkSession.builder.appName(\"CloudETL\").config(\"spark.driver.extraClassPath\",\"/content/postgresql-42.2.16.jar\").getOrCreate()"
      ],
      "execution_count": 3,
      "outputs": []
    },
    {
      "cell_type": "code",
      "metadata": {
        "id": "6aB2AEQZem_7"
      },
      "source": [
        "#get data from S3 Buckets\n",
        "from pyspark import SparkFiles\n",
        "url = \"https://team5-stock-index-bucket.s3.us-east-2.amazonaws.com/final+project+data/GDP.csv\"\n",
        "spark.sparkContext.addFile(url)\n",
        "gdp_df = spark.read.csv(SparkFiles.get(\"GDP.csv\"), sep=\",\", header=True, inferSchema=True)"
      ],
      "execution_count": 4,
      "outputs": []
    },
    {
      "cell_type": "code",
      "metadata": {
        "colab": {
          "base_uri": "https://localhost:8080/"
        },
        "id": "eeAXnP5benHE",
        "outputId": "ad756681-a551-4c3e-ea4c-4ee579917e86"
      },
      "source": [
        "gdp_df.show(truncate = False)"
      ],
      "execution_count": 5,
      "outputs": [
        {
          "output_type": "stream",
          "name": "stdout",
          "text": [
            "+---------------------------+----------------------------+-----------------+\n",
            "|Data Source                |World Development Indicators|_c2              |\n",
            "+---------------------------+----------------------------+-----------------+\n",
            "|Last Updated Date          |2021-09-15                  |null             |\n",
            "|Country Name               |Country Code                |Indicator Name   |\n",
            "|Aruba                      |ABW                         |GDP (current US$)|\n",
            "|Africa Eastern and Southern|AFE                         |GDP (current US$)|\n",
            "|Afghanistan                |AFG                         |GDP (current US$)|\n",
            "|Africa Western and Central |AFW                         |GDP (current US$)|\n",
            "|Angola                     |AGO                         |GDP (current US$)|\n",
            "|Albania                    |ALB                         |GDP (current US$)|\n",
            "|Andorra                    |AND                         |GDP (current US$)|\n",
            "|Arab World                 |ARB                         |GDP (current US$)|\n",
            "|United Arab Emirates       |ARE                         |GDP (current US$)|\n",
            "|Argentina                  |ARG                         |GDP (current US$)|\n",
            "|Armenia                    |ARM                         |GDP (current US$)|\n",
            "|American Samoa             |ASM                         |GDP (current US$)|\n",
            "|Antigua and Barbuda        |ATG                         |GDP (current US$)|\n",
            "|Australia                  |AUS                         |GDP (current US$)|\n",
            "|Austria                    |AUT                         |GDP (current US$)|\n",
            "|Azerbaijan                 |AZE                         |GDP (current US$)|\n",
            "|Burundi                    |BDI                         |GDP (current US$)|\n",
            "|Belgium                    |BEL                         |GDP (current US$)|\n",
            "+---------------------------+----------------------------+-----------------+\n",
            "only showing top 20 rows\n",
            "\n"
          ]
        }
      ]
    },
    {
      "cell_type": "code",
      "metadata": {
        "id": "i9s0IR3MfW0r"
      },
      "source": [
        "url = \"https://team5-stock-index-bucket.s3.us-east-2.amazonaws.com/final+project+data/indexProcessed.csv\"\n",
        "spark.sparkContext.addFile(url)\n",
        "indexProcessed_df = spark.read.csv(SparkFiles.get(\"indexProcessed.csv\"), sep=\",\", header=True, inferSchema=True)"
      ],
      "execution_count": 6,
      "outputs": []
    },
    {
      "cell_type": "code",
      "metadata": {
        "colab": {
          "base_uri": "https://localhost:8080/"
        },
        "id": "qKRH1_HSogtL",
        "outputId": "4e0aca6a-42f8-4873-dea3-4ac32befc199"
      },
      "source": [
        "indexProcessed_df.describe"
      ],
      "execution_count": 7,
      "outputs": [
        {
          "output_type": "execute_result",
          "data": {
            "text/plain": [
              "<bound method DataFrame.describe of DataFrame[Index: string, Date: string, Open: double, High: double, Low: double, Close: double, Adj Close: double, Volume: double, CloseUSD: double]>"
            ]
          },
          "metadata": {},
          "execution_count": 7
        }
      ]
    },
    {
      "cell_type": "code",
      "metadata": {
        "id": "p7QLpaxHhFQ5"
      },
      "source": [
        "indexProcessed_df = indexProcessed_df.withColumnRenamed(\"Adj Close\", \"Adj_Close\")"
      ],
      "execution_count": 8,
      "outputs": []
    },
    {
      "cell_type": "code",
      "metadata": {
        "id": "zIJ9lH9Korod"
      },
      "source": [
        "# change Date column data type from string to date \n",
        "#from pyspark.sql.functions import col\n",
        "#from pyspark.sql.functions import to_date\n",
        "#indexProcessed_df = indexProcessed_df.select([\"Date\", to_date(\"Date\", 'yyyy-MM-dd').alias(\"Date\")])"
      ],
      "execution_count": 9,
      "outputs": []
    },
    {
      "cell_type": "code",
      "metadata": {
        "colab": {
          "base_uri": "https://localhost:8080/"
        },
        "id": "4fmkbUUC1TYx",
        "outputId": "ac6d8a88-c3cd-41c7-8802-2aaa950d75a7"
      },
      "source": [
        "indexProcessed_df.show()"
      ],
      "execution_count": 10,
      "outputs": [
        {
          "output_type": "stream",
          "name": "stdout",
          "text": [
            "+-----+----------+-----------+-----------+-----------+-----------+-----------+------+------------------+\n",
            "|Index|      Date|       Open|       High|        Low|      Close|  Adj_Close|Volume|          CloseUSD|\n",
            "+-----+----------+-----------+-----------+-----------+-----------+-----------+------+------------------+\n",
            "|  HSI|1986-12-31|2568.300049|2568.300049|2568.300049|2568.300049|2568.300049|   0.0|      333.87900637|\n",
            "|  HSI|1987-01-02|2540.100098|2540.100098|2540.100098|2540.100098|2540.100098|   0.0|      330.21301274|\n",
            "|  HSI|1987-01-05|2552.399902|2552.399902|2552.399902|2552.399902|2552.399902|   0.0|      331.81198726|\n",
            "|  HSI|1987-01-06|2583.899902|2583.899902|2583.899902|2583.899902|2583.899902|   0.0|335.90698726000005|\n",
            "|  HSI|1987-01-07|2607.100098|2607.100098|2607.100098|2607.100098|2607.100098|   0.0|      338.92301274|\n",
            "|  HSI|1987-01-08|2603.300049|2603.300049|2603.300049|2603.300049|2603.300049|   0.0|      338.42900637|\n",
            "|  HSI|1987-01-09|2561.699951|2561.699951|2561.699951|2561.699951|2561.699951|   0.0|      333.02099363|\n",
            "|  HSI|1987-01-12|2614.899902|2614.899902|2614.899902|2614.899902|2614.899902|   0.0|      339.93698726|\n",
            "|  HSI|1987-01-13|2590.800049|2590.800049|2590.800049|2590.800049|2590.800049|   0.0|      336.80400637|\n",
            "|  HSI|1987-01-14|2578.199951|2578.199951|2578.199951|2578.199951|2578.199951|   0.0|      335.16599363|\n",
            "|  HSI|1987-01-15|2559.100098|2559.100098|2559.100098|2559.100098|2559.100098|   0.0|      332.68301274|\n",
            "|  HSI|1987-01-16|2542.600098|2542.600098|2542.600098|2542.600098|2542.600098|   0.0|      330.53801274|\n",
            "|  HSI|1987-01-19|     2460.5|     2460.5|     2460.5|     2460.5|     2460.5|   0.0|           319.865|\n",
            "|  HSI|1987-01-20|2449.899902|2449.899902|2449.899902|2449.899902|2449.899902|   0.0|318.48698726000003|\n",
            "|  HSI|1987-01-21|2533.899902|2533.899902|2533.899902|2533.899902|2533.899902|   0.0|329.40698726000005|\n",
            "|  HSI|1987-01-22|2536.899902|2536.899902|2536.899902|2536.899902|2536.899902|   0.0|329.79698726000004|\n",
            "|  HSI|1987-01-23|2499.399902|2499.399902|2499.399902|2499.399902|2499.399902|   0.0|324.92198726000004|\n",
            "|  HSI|1987-01-26|2484.399902|2484.399902|2484.399902|2484.399902|2484.399902|   0.0|322.97198726000005|\n",
            "|  HSI|1987-01-27|     2524.0|     2524.0|     2524.0|     2524.0|     2524.0|   0.0|            328.12|\n",
            "|  HSI|1987-01-28|2553.300049|2553.300049|2553.300049|2553.300049|2553.300049|   0.0|      331.92900637|\n",
            "+-----+----------+-----------+-----------+-----------+-----------+-----------+------+------------------+\n",
            "only showing top 20 rows\n",
            "\n"
          ]
        }
      ]
    },
    {
      "cell_type": "code",
      "metadata": {
        "id": "C3V78aleu_YR"
      },
      "source": [
        "url = \"https://team5-stock-index-bucket.s3.us-east-2.amazonaws.com/final+project+data/indexInfo.csv\"\n",
        "spark.sparkContext.addFile(url)\n",
        "indexInfo_df = spark.read.csv(SparkFiles.get(\"indexInfo.csv\"), sep=\",\", header=True, inferSchema=True)"
      ],
      "execution_count": 11,
      "outputs": []
    },
    {
      "cell_type": "code",
      "metadata": {
        "colab": {
          "base_uri": "https://localhost:8080/"
        },
        "id": "d9IJkd9NvS0y",
        "outputId": "218452f0-ce31-4109-bc0b-8ee8e4cddae8"
      },
      "source": [
        "indexInfo_df.show()"
      ],
      "execution_count": 12,
      "outputs": [
        {
          "output_type": "stream",
          "name": "stdout",
          "text": [
            "+-------------+--------------------+---------+--------+\n",
            "|       Region|            Exchange|    Index|Currency|\n",
            "+-------------+--------------------+---------+--------+\n",
            "|United States|New York Stock Ex...|      NYA|     USD|\n",
            "|United States|              NASDAQ|     IXIC|     USD|\n",
            "|    Hong Kong|Hong Kong Stock E...|      HSI|     HKD|\n",
            "|        China|Shanghai Stock Ex...|000001.SS|     CNY|\n",
            "|        Japan|Tokyo Stock Exchange|     N225|     JPY|\n",
            "|       Europe|            Euronext|     N100|     EUR|\n",
            "|        China|Shenzhen Stock Ex...|399001.SZ|     CNY|\n",
            "|       Canada|Toronto Stock Exc...|   GSPTSE|     CAD|\n",
            "|        India|National Stock Ex...|     NSEI|     INR|\n",
            "|      Germany|Frankfurt Stock E...|    GDAXI|     EUR|\n",
            "|        Korea|      Korea Exchange|     KS11|     KRW|\n",
            "|  Switzerland|  SIX Swiss Exchange|     SSMI|     CHF|\n",
            "|       Taiwan|Taiwan Stock Exch...|     TWII|     TWD|\n",
            "| South Africa|Johannesburg Stoc...|  J203.JO|     ZAR|\n",
            "+-------------+--------------------+---------+--------+\n",
            "\n"
          ]
        }
      ]
    },
    {
      "cell_type": "code",
      "metadata": {
        "colab": {
          "base_uri": "https://localhost:8080/"
        },
        "id": "erg33VyChNmc",
        "outputId": "7e26d639-301c-4d16-84de-a772ed85903a"
      },
      "source": [
        "# Store environmental variable\n",
        "from getpass import getpass\n",
        "password = getpass('finalproject99')\n",
        "# Configure settings for RDS\n",
        "mode = \"append\"\n",
        "jdbc_url=\"jdbc:postgresql://team5-stock-index-analysis.c5eoj6us86ug.us-east-2.rds.amazonaws.com:5432/postgres\"\n",
        "config = {\"user\":\"postgres\",\n",
        "          \"password\": password,\n",
        "          \"driver\":\"org.postgresql.Driver\"}"
      ],
      "execution_count": 13,
      "outputs": [
        {
          "name": "stdout",
          "output_type": "stream",
          "text": [
            "finalproject99··········\n"
          ]
        }
      ]
    },
    {
      "cell_type": "code",
      "metadata": {
        "id": "RDxB5fDjv4Y4"
      },
      "source": [
        "#write indexInfo_df to indexInfo table in RDS\n",
        "indexInfo_df.write.jdbc(url=jdbc_url, table='indexInfo', mode=mode, properties=config)"
      ],
      "execution_count": 16,
      "outputs": []
    },
    {
      "cell_type": "code",
      "metadata": {
        "id": "nYPjHMulksiz"
      },
      "source": [
        "#write indexProecessed_df to indexProcessed table in RDS\n",
        "indexProcessed_df.write.jdbc(url=jdbc_url, table='indexProcessed', mode=mode, properties=config)"
      ],
      "execution_count": 17,
      "outputs": []
    }
  ]
}