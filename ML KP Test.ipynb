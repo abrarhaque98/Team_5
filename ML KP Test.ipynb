{
 "cells": [
  {
   "cell_type": "markdown",
   "id": "2a74fe98",
   "metadata": {},
   "source": [
    "# Initialize Spark Session and Read in Dataset"
   ]
  },
  {
   "cell_type": "code",
   "execution_count": 1,
   "id": "3b58ffad",
   "metadata": {},
   "outputs": [],
   "source": [
    "import numpy as np\n",
    "import pandas as pd\n",
    "import datetime as dt\n",
    "from pathlib import Path\n",
    "from collections import Counter\n",
    "from sklearn.metrics import balanced_accuracy_score\n",
    "from sklearn.metrics import confusion_matrix\n",
    "from imblearn.metrics import classification_report_imbalanced"
   ]
  },
  {
   "cell_type": "code",
   "execution_count": null,
   "id": "d8368433",
   "metadata": {},
   "outputs": [],
   "source": [
    "import os\n",
    "# Find the latest version of spark 3.0  from http://www-us.apache.org/dist/spark/ and enter as the spark version\n",
    "spark_version = 'spark-3.1.2'\n",
    "os.environ['SPARK_VERSION']=spark_version\n",
    "\n",
    "# Install Spark and Java\n",
    "!apt-get update\n",
    "!apt-get install openjdk-11-jdk-headless -qq > /dev/null\n",
    "!wget -q https://archive.apache.org/dist/spark/$SPARK_VERSION/$SPARK_VERSION-bin-hadoop2.7.tgz\n",
    "!tar xf $SPARK_VERSION-bin-hadoop2.7.tgz\n",
    "!pip install -q findspark\n",
    "\n",
    "# Set Environment Variables\n",
    "os.environ[\"JAVA_HOME\"] = \"/usr/lib/jvm/java-11-openjdk-amd64\"\n",
    "os.environ[\"SPARK_HOME\"] = f\"/content/{spark_version}-bin-hadoop2.7\"\n",
    "\n",
    "# Start a SparkSession\n",
    "import findspark\n",
    "findspark.init()"
   ]
  },
  {
   "cell_type": "code",
   "execution_count": null,
   "id": "c62fc457",
   "metadata": {},
   "outputs": [],
   "source": [
    "# Load in the Postgress Driver\n",
    "!wget https://jdbc.postgresql.org/download/postgresql-42.2.9.jar"
   ]
  },
  {
   "cell_type": "code",
   "execution_count": null,
   "id": "5e8fce1a",
   "metadata": {},
   "outputs": [],
   "source": [
    "# Import Spark Session\n",
    "from pyspark.sql import SparkSession\n",
    "spark = SparkSession.builder.appName(\"CloudETL\").config(\"spark.driver.extraClassPath\",\"/content/postgresql-42.2.9.jar\").getOrCreate()"
   ]
  },
  {
   "cell_type": "code",
   "execution_count": null,
   "id": "4be8af25",
   "metadata": {},
   "outputs": [],
   "source": [
    "from pyspark import SparkFiles\n",
    "# Load in employee.csv from S3 into a DataFrame\n",
    "## CHANGE TO OUR S3 BUCKET:  url = \"https://<bucket name>.s3.amazonaws.com/employee.csv\"\n",
    "spark.sparkContext.addFile(url)\n",
    "\n",
    "## CHANGE CSV NAME:  NYSE_df = spark.read.option('header', 'true').csv(SparkFiles.get(\"NYSE_Data.csv\"), inferSchema=True, sep=',', timestampFormat=\"mm/dd/yy\")\n"
   ]
  },
  {
   "cell_type": "markdown",
   "id": "95debaec",
   "metadata": {},
   "source": [
    "# Work around"
   ]
  },
  {
   "cell_type": "code",
   "execution_count": 2,
   "id": "f606bd35",
   "metadata": {},
   "outputs": [],
   "source": [
    "# Load the data\n",
    "NYSE_df = pd.read_excel('Final_Output.xlsx')"
   ]
  },
  {
   "cell_type": "markdown",
   "id": "7e06f563",
   "metadata": {},
   "source": [
    "# Data Preprocessing"
   ]
  },
  {
   "cell_type": "code",
   "execution_count": 3,
   "id": "6938e7c3",
   "metadata": {},
   "outputs": [
    {
     "name": "stdout",
     "output_type": "stream",
     "text": [
      "Index                 13947\n",
      "Date                  13947\n",
      "Month                 13947\n",
      "Quarter               13947\n",
      "Open                  13947\n",
      "High                  13947\n",
      "Low                   13947\n",
      "Close                 13947\n",
      "Adj Close             13947\n",
      "Volume                13947\n",
      "CloseUSD              13947\n",
      "LOCATION              13947\n",
      "INDICATOR             13947\n",
      "SUBJECT               13947\n",
      "MEASURE               13947\n",
      "FREQUENCY             13947\n",
      "Value                 13947\n",
      "Flag Codes                0\n",
      "observation_date      13947\n",
      "GDPC1                 13947\n",
      "observation_date.1    13947\n",
      "LFWA64TTUSM647S       13947\n",
      "dtype: int64\n"
     ]
    }
   ],
   "source": [
    "NYSE_df.head(10)\n",
    "print(NYSE_df.count())"
   ]
  },
  {
   "cell_type": "code",
   "execution_count": 4,
   "id": "ff39e5ed",
   "metadata": {},
   "outputs": [
    {
     "data": {
      "text/plain": [
       "Index                         object\n",
       "Date                  datetime64[ns]\n",
       "Month                         object\n",
       "Quarter                       object\n",
       "Open                         float64\n",
       "High                         float64\n",
       "Low                          float64\n",
       "Close                        float64\n",
       "Adj Close                    float64\n",
       "Volume                         int64\n",
       "CloseUSD                     float64\n",
       "LOCATION                      object\n",
       "INDICATOR                     object\n",
       "SUBJECT                       object\n",
       "MEASURE                       object\n",
       "FREQUENCY                     object\n",
       "Value                        float64\n",
       "Flag Codes                   float64\n",
       "observation_date      datetime64[ns]\n",
       "GDPC1                        float64\n",
       "observation_date.1    datetime64[ns]\n",
       "LFWA64TTUSM647S              float64\n",
       "dtype: object"
      ]
     },
     "execution_count": 4,
     "metadata": {},
     "output_type": "execute_result"
    }
   ],
   "source": [
    "# Column Types\n",
    "NYSE_df.dtypes"
   ]
  },
  {
   "cell_type": "code",
   "execution_count": 5,
   "id": "cf860a1d",
   "metadata": {},
   "outputs": [],
   "source": [
    "# Drop null and uncesessary columns\n",
    "NYSE_df = NYSE_df.drop(columns=['Date', 'Flag Codes','Index','Month','Quarter','Open','High','Low','Close','Adj Close','Volume','LOCATION','INDICATOR','SUBJECT','MEASURE','FREQUENCY','observation_date','observation_date.1'])\n",
    "\n",
    "# Drop blank rows\n",
    "NYSE_df = NYSE_df.dropna()"
   ]
  },
  {
   "cell_type": "code",
   "execution_count": 6,
   "id": "cab9f926",
   "metadata": {},
   "outputs": [],
   "source": [
    "# Rename Columns\n",
    "NYSE_df = NYSE_df.rename(columns={'CloseUSD':'NYA_Close_Price','Value':'Inflation','GDPC1':'Real_GDP','LFWA64TTUSM647S':'Working_Pop'})\n"
   ]
  },
  {
   "cell_type": "code",
   "execution_count": 7,
   "id": "29e0f2b9",
   "metadata": {},
   "outputs": [
    {
     "data": {
      "text/html": [
       "<div>\n",
       "<style scoped>\n",
       "    .dataframe tbody tr th:only-of-type {\n",
       "        vertical-align: middle;\n",
       "    }\n",
       "\n",
       "    .dataframe tbody tr th {\n",
       "        vertical-align: top;\n",
       "    }\n",
       "\n",
       "    .dataframe thead th {\n",
       "        text-align: right;\n",
       "    }\n",
       "</style>\n",
       "<table border=\"1\" class=\"dataframe\">\n",
       "  <thead>\n",
       "    <tr style=\"text-align: right;\">\n",
       "      <th></th>\n",
       "      <th>NYA_Close_Price</th>\n",
       "      <th>Inflation</th>\n",
       "      <th>Real_GDP</th>\n",
       "      <th>Working_Pop</th>\n",
       "    </tr>\n",
       "  </thead>\n",
       "  <tbody>\n",
       "    <tr>\n",
       "      <th>0</th>\n",
       "      <td>528.690002</td>\n",
       "      <td>13.41676</td>\n",
       "      <td>4304.731</td>\n",
       "      <td>77178000.0</td>\n",
       "    </tr>\n",
       "    <tr>\n",
       "      <th>1</th>\n",
       "      <td>527.210022</td>\n",
       "      <td>13.41676</td>\n",
       "      <td>4409.518</td>\n",
       "      <td>77178000.0</td>\n",
       "    </tr>\n",
       "    <tr>\n",
       "      <th>2</th>\n",
       "      <td>527.840027</td>\n",
       "      <td>13.41676</td>\n",
       "      <td>4409.518</td>\n",
       "      <td>77178000.0</td>\n",
       "    </tr>\n",
       "    <tr>\n",
       "      <th>3</th>\n",
       "      <td>531.119995</td>\n",
       "      <td>13.41676</td>\n",
       "      <td>4409.518</td>\n",
       "      <td>77178000.0</td>\n",
       "    </tr>\n",
       "    <tr>\n",
       "      <th>4</th>\n",
       "      <td>532.070007</td>\n",
       "      <td>13.41676</td>\n",
       "      <td>4409.518</td>\n",
       "      <td>77178000.0</td>\n",
       "    </tr>\n",
       "  </tbody>\n",
       "</table>\n",
       "</div>"
      ],
      "text/plain": [
       "   NYA_Close_Price  Inflation  Real_GDP  Working_Pop\n",
       "0       528.690002   13.41676  4304.731   77178000.0\n",
       "1       527.210022   13.41676  4409.518   77178000.0\n",
       "2       527.840027   13.41676  4409.518   77178000.0\n",
       "3       531.119995   13.41676  4409.518   77178000.0\n",
       "4       532.070007   13.41676  4409.518   77178000.0"
      ]
     },
     "execution_count": 7,
     "metadata": {},
     "output_type": "execute_result"
    }
   ],
   "source": [
    "NYSE_df.head()"
   ]
  },
  {
   "cell_type": "code",
   "execution_count": 8,
   "id": "09d270f0",
   "metadata": {},
   "outputs": [],
   "source": [
    "# Convert Date to Datetime\n",
    "#NYSE_df['Date'] = (pd.to_datetime(NYSE_df['Date'], infer_datetime_format=True) - dt.datetime(1970,1,1)).dt.total_seconds()\n",
    "\n",
    "# Divide Inflation by 100\n",
    "NYSE_df['Inflation'] = NYSE_df['Inflation'] / 100\n",
    "\n",
    "# Real GDP * 1B\n",
    "NYSE_df['Real_GDP'] = NYSE_df['Real_GDP'] * 1000000000\n",
    "\n",
    "# Calculate Real GDP per Capita from GDP and Population\n",
    "NYSE_df['Real_GDP_per_Capita'] = NYSE_df['Real_GDP'] / NYSE_df['Working_Pop']\n",
    "\n",
    "# Drop Real_GDP column\n",
    "NYSE_df = NYSE_df.drop(columns=['Real_GDP'])\n"
   ]
  },
  {
   "cell_type": "code",
   "execution_count": 9,
   "id": "c1399758",
   "metadata": {},
   "outputs": [
    {
     "data": {
      "text/html": [
       "<div>\n",
       "<style scoped>\n",
       "    .dataframe tbody tr th:only-of-type {\n",
       "        vertical-align: middle;\n",
       "    }\n",
       "\n",
       "    .dataframe tbody tr th {\n",
       "        vertical-align: top;\n",
       "    }\n",
       "\n",
       "    .dataframe thead th {\n",
       "        text-align: right;\n",
       "    }\n",
       "</style>\n",
       "<table border=\"1\" class=\"dataframe\">\n",
       "  <thead>\n",
       "    <tr style=\"text-align: right;\">\n",
       "      <th></th>\n",
       "      <th>NYA_Close_Price</th>\n",
       "      <th>Inflation</th>\n",
       "      <th>Working_Pop</th>\n",
       "      <th>Real_GDP_per_Capita</th>\n",
       "    </tr>\n",
       "  </thead>\n",
       "  <tbody>\n",
       "    <tr>\n",
       "      <th>0</th>\n",
       "      <td>528.690002</td>\n",
       "      <td>0.134168</td>\n",
       "      <td>77178000.0</td>\n",
       "      <td>55776.659152</td>\n",
       "    </tr>\n",
       "    <tr>\n",
       "      <th>1</th>\n",
       "      <td>527.210022</td>\n",
       "      <td>0.134168</td>\n",
       "      <td>77178000.0</td>\n",
       "      <td>57134.390629</td>\n",
       "    </tr>\n",
       "    <tr>\n",
       "      <th>2</th>\n",
       "      <td>527.840027</td>\n",
       "      <td>0.134168</td>\n",
       "      <td>77178000.0</td>\n",
       "      <td>57134.390629</td>\n",
       "    </tr>\n",
       "    <tr>\n",
       "      <th>3</th>\n",
       "      <td>531.119995</td>\n",
       "      <td>0.134168</td>\n",
       "      <td>77178000.0</td>\n",
       "      <td>57134.390629</td>\n",
       "    </tr>\n",
       "    <tr>\n",
       "      <th>4</th>\n",
       "      <td>532.070007</td>\n",
       "      <td>0.134168</td>\n",
       "      <td>77178000.0</td>\n",
       "      <td>57134.390629</td>\n",
       "    </tr>\n",
       "  </tbody>\n",
       "</table>\n",
       "</div>"
      ],
      "text/plain": [
       "   NYA_Close_Price  Inflation  Working_Pop  Real_GDP_per_Capita\n",
       "0       528.690002   0.134168   77178000.0         55776.659152\n",
       "1       527.210022   0.134168   77178000.0         57134.390629\n",
       "2       527.840027   0.134168   77178000.0         57134.390629\n",
       "3       531.119995   0.134168   77178000.0         57134.390629\n",
       "4       532.070007   0.134168   77178000.0         57134.390629"
      ]
     },
     "execution_count": 9,
     "metadata": {},
     "output_type": "execute_result"
    }
   ],
   "source": [
    "#NYSE_df.set_index('Date', inplace=True)\n",
    "NYSE_df.head()"
   ]
  },
  {
   "cell_type": "markdown",
   "id": "02b359ba",
   "metadata": {},
   "source": [
    "# Split Data into Training and Testing"
   ]
  },
  {
   "cell_type": "code",
   "execution_count": 10,
   "id": "c9609497",
   "metadata": {},
   "outputs": [
    {
     "data": {
      "text/html": [
       "<div>\n",
       "<style scoped>\n",
       "    .dataframe tbody tr th:only-of-type {\n",
       "        vertical-align: middle;\n",
       "    }\n",
       "\n",
       "    .dataframe tbody tr th {\n",
       "        vertical-align: top;\n",
       "    }\n",
       "\n",
       "    .dataframe thead th {\n",
       "        text-align: right;\n",
       "    }\n",
       "</style>\n",
       "<table border=\"1\" class=\"dataframe\">\n",
       "  <thead>\n",
       "    <tr style=\"text-align: right;\">\n",
       "      <th></th>\n",
       "      <th>Inflation</th>\n",
       "      <th>Working_Pop</th>\n",
       "      <th>Real_GDP_per_Capita</th>\n",
       "    </tr>\n",
       "  </thead>\n",
       "  <tbody>\n",
       "    <tr>\n",
       "      <th>0</th>\n",
       "      <td>0.134168</td>\n",
       "      <td>77178000.0</td>\n",
       "      <td>55776.659152</td>\n",
       "    </tr>\n",
       "    <tr>\n",
       "      <th>1</th>\n",
       "      <td>0.134168</td>\n",
       "      <td>77178000.0</td>\n",
       "      <td>57134.390629</td>\n",
       "    </tr>\n",
       "    <tr>\n",
       "      <th>2</th>\n",
       "      <td>0.134168</td>\n",
       "      <td>77178000.0</td>\n",
       "      <td>57134.390629</td>\n",
       "    </tr>\n",
       "    <tr>\n",
       "      <th>3</th>\n",
       "      <td>0.134168</td>\n",
       "      <td>77178000.0</td>\n",
       "      <td>57134.390629</td>\n",
       "    </tr>\n",
       "    <tr>\n",
       "      <th>4</th>\n",
       "      <td>0.134168</td>\n",
       "      <td>77178000.0</td>\n",
       "      <td>57134.390629</td>\n",
       "    </tr>\n",
       "  </tbody>\n",
       "</table>\n",
       "</div>"
      ],
      "text/plain": [
       "   Inflation  Working_Pop  Real_GDP_per_Capita\n",
       "0   0.134168   77178000.0         55776.659152\n",
       "1   0.134168   77178000.0         57134.390629\n",
       "2   0.134168   77178000.0         57134.390629\n",
       "3   0.134168   77178000.0         57134.390629\n",
       "4   0.134168   77178000.0         57134.390629"
      ]
     },
     "execution_count": 10,
     "metadata": {},
     "output_type": "execute_result"
    }
   ],
   "source": [
    "# Create our features\n",
    "X = NYSE_df.drop('NYA_Close_Price', axis=1)\n",
    "\n",
    "# Create our target\n",
    "y = NYSE_df['NYA_Close_Price']\n",
    "\n",
    "X.head()"
   ]
  },
  {
   "cell_type": "code",
   "execution_count": 11,
   "id": "5994cf5f",
   "metadata": {},
   "outputs": [
    {
     "data": {
      "text/html": [
       "<div>\n",
       "<style scoped>\n",
       "    .dataframe tbody tr th:only-of-type {\n",
       "        vertical-align: middle;\n",
       "    }\n",
       "\n",
       "    .dataframe tbody tr th {\n",
       "        vertical-align: top;\n",
       "    }\n",
       "\n",
       "    .dataframe thead th {\n",
       "        text-align: right;\n",
       "    }\n",
       "</style>\n",
       "<table border=\"1\" class=\"dataframe\">\n",
       "  <thead>\n",
       "    <tr style=\"text-align: right;\">\n",
       "      <th></th>\n",
       "      <th>Inflation</th>\n",
       "      <th>Working_Pop</th>\n",
       "      <th>Real_GDP_per_Capita</th>\n",
       "    </tr>\n",
       "  </thead>\n",
       "  <tbody>\n",
       "    <tr>\n",
       "      <th>count</th>\n",
       "      <td>13947.000000</td>\n",
       "      <td>1.394700e+04</td>\n",
       "      <td>13947.000000</td>\n",
       "    </tr>\n",
       "    <tr>\n",
       "      <th>mean</th>\n",
       "      <td>0.600693</td>\n",
       "      <td>1.583339e+08</td>\n",
       "      <td>66646.780021</td>\n",
       "    </tr>\n",
       "    <tr>\n",
       "      <th>std</th>\n",
       "      <td>0.302497</td>\n",
       "      <td>4.087420e+07</td>\n",
       "      <td>13220.003577</td>\n",
       "    </tr>\n",
       "    <tr>\n",
       "      <th>min</th>\n",
       "      <td>0.134168</td>\n",
       "      <td>7.717800e+07</td>\n",
       "      <td>44850.680326</td>\n",
       "    </tr>\n",
       "    <tr>\n",
       "      <th>25%</th>\n",
       "      <td>0.323606</td>\n",
       "      <td>1.420226e+08</td>\n",
       "      <td>57815.089792</td>\n",
       "    </tr>\n",
       "    <tr>\n",
       "      <th>50%</th>\n",
       "      <td>0.612192</td>\n",
       "      <td>1.645849e+08</td>\n",
       "      <td>62365.311951</td>\n",
       "    </tr>\n",
       "    <tr>\n",
       "      <th>75%</th>\n",
       "      <td>0.878836</td>\n",
       "      <td>1.958470e+08</td>\n",
       "      <td>78420.432990</td>\n",
       "    </tr>\n",
       "    <tr>\n",
       "      <th>max</th>\n",
       "      <td>1.135762</td>\n",
       "      <td>2.073116e+08</td>\n",
       "      <td>94220.229869</td>\n",
       "    </tr>\n",
       "  </tbody>\n",
       "</table>\n",
       "</div>"
      ],
      "text/plain": [
       "          Inflation   Working_Pop  Real_GDP_per_Capita\n",
       "count  13947.000000  1.394700e+04         13947.000000\n",
       "mean       0.600693  1.583339e+08         66646.780021\n",
       "std        0.302497  4.087420e+07         13220.003577\n",
       "min        0.134168  7.717800e+07         44850.680326\n",
       "25%        0.323606  1.420226e+08         57815.089792\n",
       "50%        0.612192  1.645849e+08         62365.311951\n",
       "75%        0.878836  1.958470e+08         78420.432990\n",
       "max        1.135762  2.073116e+08         94220.229869"
      ]
     },
     "execution_count": 11,
     "metadata": {},
     "output_type": "execute_result"
    }
   ],
   "source": [
    "# Check features\n",
    "X.describe()"
   ]
  },
  {
   "cell_type": "code",
   "execution_count": 12,
   "id": "8d33357e",
   "metadata": {},
   "outputs": [
    {
     "data": {
      "text/plain": [
       "569.919983      11\n",
       "586.630005       9\n",
       "555.020020       8\n",
       "567.599976       8\n",
       "580.500000       7\n",
       "                ..\n",
       "2636.560059      1\n",
       "2616.469971      1\n",
       "2619.219971      1\n",
       "2603.889893      1\n",
       "16555.660160     1\n",
       "Name: NYA_Close_Price, Length: 11590, dtype: int64"
      ]
     },
     "execution_count": 12,
     "metadata": {},
     "output_type": "execute_result"
    }
   ],
   "source": [
    "# Check the balance of our target values\n",
    "y.value_counts()"
   ]
  },
  {
   "cell_type": "code",
   "execution_count": 13,
   "id": "1223b2b2",
   "metadata": {},
   "outputs": [],
   "source": [
    "# Split into training and testing \n",
    "from sklearn.model_selection import train_test_split\n",
    "X_train, X_test, y_train, y_test = train_test_split(X,\n",
    "                                                    y, \n",
    "                                                    random_state=1\n",
    "                                                )"
   ]
  },
  {
   "cell_type": "code",
   "execution_count": 14,
   "id": "06b5d0d2",
   "metadata": {},
   "outputs": [],
   "source": [
    "# Initialize the model\n",
    "from sklearn.linear_model import LinearRegression\n",
    "model = LinearRegression()"
   ]
  },
  {
   "cell_type": "code",
   "execution_count": 15,
   "id": "51ab4c97",
   "metadata": {},
   "outputs": [
    {
     "data": {
      "text/plain": [
       "LinearRegression()"
      ]
     },
     "execution_count": 15,
     "metadata": {},
     "output_type": "execute_result"
    }
   ],
   "source": [
    "# Train the data\n",
    "model.fit(X_train, y_train)"
   ]
  },
  {
   "cell_type": "code",
   "execution_count": 23,
   "id": "6c17e95f",
   "metadata": {},
   "outputs": [
    {
     "name": "stdout",
     "output_type": "stream",
     "text": [
      "Coefficient of determination: 94.45 %\n"
     ]
    }
   ],
   "source": [
    "# Calculate the model accuracy score (1 is perfect prediction)\n",
    "from sklearn.metrics import r2_score, mean_squared_error\n",
    "\n",
    "#, X_test[Working_Pop],X_test[Real_GDP_per_Capita])\n",
    "y_pred = model.predict(X_test)\n",
    "\n",
    "r2_score = r2_score(y_test, y_pred)\n",
    "print(f'Coefficient of determination: {r2_score*100:.2f} %')"
   ]
  },
  {
   "cell_type": "code",
   "execution_count": 17,
   "id": "36989095",
   "metadata": {},
   "outputs": [
    {
     "name": "stdout",
     "output_type": "stream",
     "text": [
      "Intercept: -13051.72\n",
      "Coefficients: \n",
      " [3.00163535e+03 1.65138199e-05 1.96341393e-01]\n",
      "Mean squared error: 918646.91\n"
     ]
    }
   ],
   "source": [
    "# The intercept\n",
    "print(\"Intercept: %.2f\" % model.intercept_)\n",
    "# The coefficients\n",
    "print(\"Coefficients: \\n\", model.coef_)\n",
    "# The mean squared error\n",
    "print(\"Mean squared error: %.2f\" % mean_squared_error(y_test, y_pred))"
   ]
  },
  {
   "cell_type": "code",
   "execution_count": 48,
   "id": "b49ee193",
   "metadata": {},
   "outputs": [
    {
     "name": "stdout",
     "output_type": "stream",
     "text": [
      "The intercept for our model is -13051.72\n",
      "----------------------------------------------------------------------------------------------------\n",
      "The coefficient for Inflation is 3001.6\n",
      "The coefficient for Working_Pop is 1.6514e-05\n",
      "The coefficient for Real_GDP_per_Capita is 0.19634\n"
     ]
    }
   ],
   "source": [
    "#grab intercept and coeff\n",
    "model.intercept_\n",
    "coef = model.coef_\n",
    "\n",
    "print(\"The intercept for our model is %.2f\" % model.intercept_)\n",
    "print('-'*100)\n",
    "\n",
    "#loop through dictionary and print data\n",
    "for cf in zip(X.columns, coef):\n",
    "    print (\"The coefficient for {} is {:.5}\".format(cf[0],cf[1]))"
   ]
  },
  {
   "cell_type": "markdown",
   "id": "4b697978",
   "metadata": {},
   "source": [
    "pred close price = 3001.6 *pred inflation + 0.19634 * pred real gdp per capita + 0.000016514 * pred working pop"
   ]
  },
  {
   "cell_type": "code",
   "execution_count": 52,
   "id": "29a9fff6",
   "metadata": {
    "scrolled": true
   },
   "outputs": [
    {
     "data": {
      "text/plain": [
       "0.9445232917434392"
      ]
     },
     "execution_count": 52,
     "metadata": {},
     "output_type": "execute_result"
    }
   ],
   "source": [
    "model.score(X_test, y_test)"
   ]
  },
  {
   "cell_type": "code",
   "execution_count": 53,
   "id": "39402099",
   "metadata": {},
   "outputs": [
    {
     "data": {
      "text/plain": [
       "Text(0, 0.5, 'Predicted (y_pred)')"
      ]
     },
     "execution_count": 53,
     "metadata": {},
     "output_type": "execute_result"
    },
    {
     "data": {
      "image/png": "[encoded data removed]",
      "text/plain": [
       "<Figure size 1080x720 with 1 Axes>"
      ]
     },
     "metadata": {
      "needs_background": "light"
     },
     "output_type": "display_data"
    }
   ],
   "source": [
    "import matplotlib.pyplot as plt\n",
    "plt.figure(figsize=(15,10))\n",
    "plt.scatter(y_test, y_pred)\n",
    "plt.xlabel('Actual (y_test)')\n",
    "plt.ylabel('Predicted (y_pred)')"
   ]
  },
  {
   "cell_type": "code",
   "execution_count": 36,
   "id": "dea8f9bc",
   "metadata": {},
   "outputs": [
    {
     "data": {
      "text/html": [
       "<div>\n",
       "<style scoped>\n",
       "    .dataframe tbody tr th:only-of-type {\n",
       "        vertical-align: middle;\n",
       "    }\n",
       "\n",
       "    .dataframe tbody tr th {\n",
       "        vertical-align: top;\n",
       "    }\n",
       "\n",
       "    .dataframe thead th {\n",
       "        text-align: right;\n",
       "    }\n",
       "</style>\n",
       "<table border=\"1\" class=\"dataframe\">\n",
       "  <thead>\n",
       "    <tr style=\"text-align: right;\">\n",
       "      <th></th>\n",
       "      <th>y_test</th>\n",
       "      <th>y_pred</th>\n",
       "      <th>Difference</th>\n",
       "    </tr>\n",
       "  </thead>\n",
       "  <tbody>\n",
       "    <tr>\n",
       "      <th>825</th>\n",
       "      <td>618.559998</td>\n",
       "      <td>558.171549</td>\n",
       "      <td>60.388449</td>\n",
       "    </tr>\n",
       "    <tr>\n",
       "      <th>10846</th>\n",
       "      <td>5242.750000</td>\n",
       "      <td>8006.512940</td>\n",
       "      <td>-2763.762940</td>\n",
       "    </tr>\n",
       "    <tr>\n",
       "      <th>4137</th>\n",
       "      <td>655.469971</td>\n",
       "      <td>-302.782960</td>\n",
       "      <td>958.252931</td>\n",
       "    </tr>\n",
       "    <tr>\n",
       "      <th>13788</th>\n",
       "      <td>13324.870120</td>\n",
       "      <td>11546.249646</td>\n",
       "      <td>1778.620474</td>\n",
       "    </tr>\n",
       "    <tr>\n",
       "      <th>6180</th>\n",
       "      <td>2055.320068</td>\n",
       "      <td>2799.157006</td>\n",
       "      <td>-743.836938</td>\n",
       "    </tr>\n",
       "    <tr>\n",
       "      <th>11163</th>\n",
       "      <td>7257.620117</td>\n",
       "      <td>8389.440560</td>\n",
       "      <td>-1131.820443</td>\n",
       "    </tr>\n",
       "    <tr>\n",
       "      <th>10174</th>\n",
       "      <td>8145.529785</td>\n",
       "      <td>8393.422457</td>\n",
       "      <td>-247.892672</td>\n",
       "    </tr>\n",
       "    <tr>\n",
       "      <th>8976</th>\n",
       "      <td>6434.859863</td>\n",
       "      <td>6501.273254</td>\n",
       "      <td>-66.413391</td>\n",
       "    </tr>\n",
       "    <tr>\n",
       "      <th>368</th>\n",
       "      <td>541.059998</td>\n",
       "      <td>197.552602</td>\n",
       "      <td>343.507396</td>\n",
       "    </tr>\n",
       "    <tr>\n",
       "      <th>10057</th>\n",
       "      <td>7852.180176</td>\n",
       "      <td>7980.079157</td>\n",
       "      <td>-127.898981</td>\n",
       "    </tr>\n",
       "    <tr>\n",
       "      <th>8789</th>\n",
       "      <td>6734.729980</td>\n",
       "      <td>6597.158016</td>\n",
       "      <td>137.571964</td>\n",
       "    </tr>\n",
       "    <tr>\n",
       "      <th>5856</th>\n",
       "      <td>1811.280029</td>\n",
       "      <td>2580.909638</td>\n",
       "      <td>-769.629609</td>\n",
       "    </tr>\n",
       "    <tr>\n",
       "      <th>4964</th>\n",
       "      <td>1115.949951</td>\n",
       "      <td>1289.423371</td>\n",
       "      <td>-173.473420</td>\n",
       "    </tr>\n",
       "    <tr>\n",
       "      <th>9547</th>\n",
       "      <td>6122.890137</td>\n",
       "      <td>7144.266288</td>\n",
       "      <td>-1021.376151</td>\n",
       "    </tr>\n",
       "    <tr>\n",
       "      <th>1947</th>\n",
       "      <td>616.239990</td>\n",
       "      <td>1390.310415</td>\n",
       "      <td>-774.070425</td>\n",
       "    </tr>\n",
       "    <tr>\n",
       "      <th>13464</th>\n",
       "      <td>13127.690430</td>\n",
       "      <td>11790.031054</td>\n",
       "      <td>1337.659376</td>\n",
       "    </tr>\n",
       "    <tr>\n",
       "      <th>12835</th>\n",
       "      <td>11058.879880</td>\n",
       "      <td>10392.262966</td>\n",
       "      <td>666.616914</td>\n",
       "    </tr>\n",
       "    <tr>\n",
       "      <th>12477</th>\n",
       "      <td>10883.910160</td>\n",
       "      <td>10089.315019</td>\n",
       "      <td>794.595141</td>\n",
       "    </tr>\n",
       "    <tr>\n",
       "      <th>13210</th>\n",
       "      <td>12510.549810</td>\n",
       "      <td>11341.850565</td>\n",
       "      <td>1168.699245</td>\n",
       "    </tr>\n",
       "    <tr>\n",
       "      <th>11898</th>\n",
       "      <td>9234.019531</td>\n",
       "      <td>9221.773914</td>\n",
       "      <td>12.245617</td>\n",
       "    </tr>\n",
       "  </tbody>\n",
       "</table>\n",
       "</div>"
      ],
      "text/plain": [
       "             y_test        y_pred   Difference\n",
       "825      618.559998    558.171549    60.388449\n",
       "10846   5242.750000   8006.512940 -2763.762940\n",
       "4137     655.469971   -302.782960   958.252931\n",
       "13788  13324.870120  11546.249646  1778.620474\n",
       "6180    2055.320068   2799.157006  -743.836938\n",
       "11163   7257.620117   8389.440560 -1131.820443\n",
       "10174   8145.529785   8393.422457  -247.892672\n",
       "8976    6434.859863   6501.273254   -66.413391\n",
       "368      541.059998    197.552602   343.507396\n",
       "10057   7852.180176   7980.079157  -127.898981\n",
       "8789    6734.729980   6597.158016   137.571964\n",
       "5856    1811.280029   2580.909638  -769.629609\n",
       "4964    1115.949951   1289.423371  -173.473420\n",
       "9547    6122.890137   7144.266288 -1021.376151\n",
       "1947     616.239990   1390.310415  -774.070425\n",
       "13464  13127.690430  11790.031054  1337.659376\n",
       "12835  11058.879880  10392.262966   666.616914\n",
       "12477  10883.910160  10089.315019   794.595141\n",
       "13210  12510.549810  11341.850565  1168.699245\n",
       "11898   9234.019531   9221.773914    12.245617"
      ]
     },
     "execution_count": 36,
     "metadata": {},
     "output_type": "execute_result"
    }
   ],
   "source": [
    "pred_y_df=pd.DataFrame({'y_test': y_test, 'y_pred': y_pred, 'Difference': y_test-y_pred})\n",
    "pred_y_df.head(20)"
   ]
  },
  {
   "cell_type": "markdown",
   "id": "7a793854",
   "metadata": {},
   "source": [
    "# Export "
   ]
  },
  {
   "cell_type": "code",
   "execution_count": 24,
   "id": "e9e80e6f",
   "metadata": {},
   "outputs": [
    {
     "data": {
      "text/html": [
       "<div>\n",
       "<style scoped>\n",
       "    .dataframe tbody tr th:only-of-type {\n",
       "        vertical-align: middle;\n",
       "    }\n",
       "\n",
       "    .dataframe tbody tr th {\n",
       "        vertical-align: top;\n",
       "    }\n",
       "\n",
       "    .dataframe thead th {\n",
       "        text-align: right;\n",
       "    }\n",
       "</style>\n",
       "<table border=\"1\" class=\"dataframe\">\n",
       "  <thead>\n",
       "    <tr style=\"text-align: right;\">\n",
       "      <th></th>\n",
       "      <th>Inflation</th>\n",
       "      <th>Working_Pop</th>\n",
       "      <th>Real_GDP_per_Capita</th>\n",
       "    </tr>\n",
       "  </thead>\n",
       "  <tbody>\n",
       "    <tr>\n",
       "      <th>558.171549</th>\n",
       "      <td>NaN</td>\n",
       "      <td>NaN</td>\n",
       "      <td>NaN</td>\n",
       "    </tr>\n",
       "    <tr>\n",
       "      <th>8006.512940</th>\n",
       "      <td>NaN</td>\n",
       "      <td>NaN</td>\n",
       "      <td>NaN</td>\n",
       "    </tr>\n",
       "    <tr>\n",
       "      <th>-302.782960</th>\n",
       "      <td>NaN</td>\n",
       "      <td>NaN</td>\n",
       "      <td>NaN</td>\n",
       "    </tr>\n",
       "    <tr>\n",
       "      <th>11546.249646</th>\n",
       "      <td>NaN</td>\n",
       "      <td>NaN</td>\n",
       "      <td>NaN</td>\n",
       "    </tr>\n",
       "    <tr>\n",
       "      <th>2799.157006</th>\n",
       "      <td>NaN</td>\n",
       "      <td>NaN</td>\n",
       "      <td>NaN</td>\n",
       "    </tr>\n",
       "    <tr>\n",
       "      <th>...</th>\n",
       "      <td>...</td>\n",
       "      <td>...</td>\n",
       "      <td>...</td>\n",
       "    </tr>\n",
       "    <tr>\n",
       "      <th>5873.898528</th>\n",
       "      <td>NaN</td>\n",
       "      <td>NaN</td>\n",
       "      <td>NaN</td>\n",
       "    </tr>\n",
       "    <tr>\n",
       "      <th>8541.462577</th>\n",
       "      <td>NaN</td>\n",
       "      <td>NaN</td>\n",
       "      <td>NaN</td>\n",
       "    </tr>\n",
       "    <tr>\n",
       "      <th>-959.426919</th>\n",
       "      <td>NaN</td>\n",
       "      <td>NaN</td>\n",
       "      <td>NaN</td>\n",
       "    </tr>\n",
       "    <tr>\n",
       "      <th>544.048136</th>\n",
       "      <td>NaN</td>\n",
       "      <td>NaN</td>\n",
       "      <td>NaN</td>\n",
       "    </tr>\n",
       "    <tr>\n",
       "      <th>-414.773027</th>\n",
       "      <td>NaN</td>\n",
       "      <td>NaN</td>\n",
       "      <td>NaN</td>\n",
       "    </tr>\n",
       "  </tbody>\n",
       "</table>\n",
       "<p>3487 rows × 3 columns</p>\n",
       "</div>"
      ],
      "text/plain": [
       "               Inflation  Working_Pop  Real_GDP_per_Capita\n",
       " 558.171549          NaN          NaN                  NaN\n",
       " 8006.512940         NaN          NaN                  NaN\n",
       "-302.782960          NaN          NaN                  NaN\n",
       " 11546.249646        NaN          NaN                  NaN\n",
       " 2799.157006         NaN          NaN                  NaN\n",
       "...                  ...          ...                  ...\n",
       " 5873.898528         NaN          NaN                  NaN\n",
       " 8541.462577         NaN          NaN                  NaN\n",
       "-959.426919          NaN          NaN                  NaN\n",
       " 544.048136          NaN          NaN                  NaN\n",
       "-414.773027          NaN          NaN                  NaN\n",
       "\n",
       "[3487 rows x 3 columns]"
      ]
     },
     "execution_count": 24,
     "metadata": {},
     "output_type": "execute_result"
    }
   ],
   "source": [
    "Model_df = pd.DataFrame(X_test,y_pred)\n",
    "Model_df"
   ]
  },
  {
   "cell_type": "code",
   "execution_count": 25,
   "id": "629d6c38",
   "metadata": {},
   "outputs": [
    {
     "data": {
      "text/html": [
       "<div>\n",
       "<style scoped>\n",
       "    .dataframe tbody tr th:only-of-type {\n",
       "        vertical-align: middle;\n",
       "    }\n",
       "\n",
       "    .dataframe tbody tr th {\n",
       "        vertical-align: top;\n",
       "    }\n",
       "\n",
       "    .dataframe thead th {\n",
       "        text-align: right;\n",
       "    }\n",
       "</style>\n",
       "<table border=\"1\" class=\"dataframe\">\n",
       "  <thead>\n",
       "    <tr style=\"text-align: right;\">\n",
       "      <th></th>\n",
       "      <th>Inflation</th>\n",
       "      <th>Working_Pop</th>\n",
       "      <th>Real_GDP_per_Capita</th>\n",
       "    </tr>\n",
       "  </thead>\n",
       "  <tbody>\n",
       "    <tr>\n",
       "      <th>13693</th>\n",
       "      <td>1.081754</td>\n",
       "      <td>2.073116e+08</td>\n",
       "      <td>83247.677088</td>\n",
       "    </tr>\n",
       "    <tr>\n",
       "      <th>2619</th>\n",
       "      <td>0.239645</td>\n",
       "      <td>9.691700e+07</td>\n",
       "      <td>62036.134012</td>\n",
       "    </tr>\n",
       "    <tr>\n",
       "      <th>2687</th>\n",
       "      <td>0.244286</td>\n",
       "      <td>9.691700e+07</td>\n",
       "      <td>62036.134012</td>\n",
       "    </tr>\n",
       "    <tr>\n",
       "      <th>12563</th>\n",
       "      <td>1.001346</td>\n",
       "      <td>2.047238e+08</td>\n",
       "      <td>85298.246974</td>\n",
       "    </tr>\n",
       "    <tr>\n",
       "      <th>200</th>\n",
       "      <td>0.138809</td>\n",
       "      <td>7.717800e+07</td>\n",
       "      <td>58289.408899</td>\n",
       "    </tr>\n",
       "    <tr>\n",
       "      <th>...</th>\n",
       "      <td>...</td>\n",
       "      <td>...</td>\n",
       "      <td>...</td>\n",
       "    </tr>\n",
       "    <tr>\n",
       "      <th>905</th>\n",
       "      <td>0.156529</td>\n",
       "      <td>8.224000e+07</td>\n",
       "      <td>60449.282588</td>\n",
       "    </tr>\n",
       "    <tr>\n",
       "      <th>5192</th>\n",
       "      <td>0.464946</td>\n",
       "      <td>1.534505e+08</td>\n",
       "      <td>53886.644754</td>\n",
       "    </tr>\n",
       "    <tr>\n",
       "      <th>12172</th>\n",
       "      <td>1.003725</td>\n",
       "      <td>2.029429e+08</td>\n",
       "      <td>83117.513173</td>\n",
       "    </tr>\n",
       "    <tr>\n",
       "      <th>235</th>\n",
       "      <td>0.138809</td>\n",
       "      <td>7.717800e+07</td>\n",
       "      <td>58289.408899</td>\n",
       "    </tr>\n",
       "    <tr>\n",
       "      <th>13349</th>\n",
       "      <td>1.062000</td>\n",
       "      <td>2.064476e+08</td>\n",
       "      <td>91225.044116</td>\n",
       "    </tr>\n",
       "  </tbody>\n",
       "</table>\n",
       "<p>10460 rows × 3 columns</p>\n",
       "</div>"
      ],
      "text/plain": [
       "       Inflation   Working_Pop  Real_GDP_per_Capita\n",
       "13693   1.081754  2.073116e+08         83247.677088\n",
       "2619    0.239645  9.691700e+07         62036.134012\n",
       "2687    0.244286  9.691700e+07         62036.134012\n",
       "12563   1.001346  2.047238e+08         85298.246974\n",
       "200     0.138809  7.717800e+07         58289.408899\n",
       "...          ...           ...                  ...\n",
       "905     0.156529  8.224000e+07         60449.282588\n",
       "5192    0.464946  1.534505e+08         53886.644754\n",
       "12172   1.003725  2.029429e+08         83117.513173\n",
       "235     0.138809  7.717800e+07         58289.408899\n",
       "13349   1.062000  2.064476e+08         91225.044116\n",
       "\n",
       "[10460 rows x 3 columns]"
      ]
     },
     "execution_count": 25,
     "metadata": {},
     "output_type": "execute_result"
    }
   ],
   "source": [
    "X_train"
   ]
  },
  {
   "cell_type": "code",
   "execution_count": 51,
   "id": "e7a2deb7",
   "metadata": {
    "scrolled": true
   },
   "outputs": [
    {
     "data": {
      "text/html": [
       "<div>\n",
       "<style scoped>\n",
       "    .dataframe tbody tr th:only-of-type {\n",
       "        vertical-align: middle;\n",
       "    }\n",
       "\n",
       "    .dataframe tbody tr th {\n",
       "        vertical-align: top;\n",
       "    }\n",
       "\n",
       "    .dataframe thead th {\n",
       "        text-align: right;\n",
       "    }\n",
       "</style>\n",
       "<table border=\"1\" class=\"dataframe\">\n",
       "  <thead>\n",
       "    <tr style=\"text-align: right;\">\n",
       "      <th></th>\n",
       "      <th>Inflation</th>\n",
       "      <th>Working_Pop</th>\n",
       "      <th>Real_GDP_per_Capita</th>\n",
       "    </tr>\n",
       "  </thead>\n",
       "  <tbody>\n",
       "    <tr>\n",
       "      <th>825</th>\n",
       "      <td>0.153576</td>\n",
       "      <td>8.224000e+07</td>\n",
       "      <td>60052.626459</td>\n",
       "    </tr>\n",
       "    <tr>\n",
       "      <th>10846</th>\n",
       "      <td>0.895265</td>\n",
       "      <td>1.973148e+08</td>\n",
       "      <td>76970.791112</td>\n",
       "    </tr>\n",
       "    <tr>\n",
       "      <th>4137</th>\n",
       "      <td>0.411363</td>\n",
       "      <td>1.470297e+08</td>\n",
       "      <td>46277.317745</td>\n",
       "    </tr>\n",
       "    <tr>\n",
       "      <th>13788</th>\n",
       "      <td>1.098605</td>\n",
       "      <td>2.058482e+08</td>\n",
       "      <td>91172.916401</td>\n",
       "    </tr>\n",
       "    <tr>\n",
       "      <th>6180</th>\n",
       "      <td>0.555234</td>\n",
       "      <td>1.599734e+08</td>\n",
       "      <td>58787.874559</td>\n",
       "    </tr>\n",
       "    <tr>\n",
       "      <th>...</th>\n",
       "      <td>...</td>\n",
       "      <td>...</td>\n",
       "      <td>...</td>\n",
       "    </tr>\n",
       "    <tr>\n",
       "      <th>8356</th>\n",
       "      <td>0.696153</td>\n",
       "      <td>1.746548e+08</td>\n",
       "      <td>71058.899525</td>\n",
       "    </tr>\n",
       "    <tr>\n",
       "      <th>11288</th>\n",
       "      <td>0.923153</td>\n",
       "      <td>1.999897e+08</td>\n",
       "      <td>79044.047937</td>\n",
       "    </tr>\n",
       "    <tr>\n",
       "      <th>3023</th>\n",
       "      <td>0.265382</td>\n",
       "      <td>1.378928e+08</td>\n",
       "      <td>45933.137165</td>\n",
       "    </tr>\n",
       "    <tr>\n",
       "      <th>1443</th>\n",
       "      <td>0.172562</td>\n",
       "      <td>8.692900e+07</td>\n",
       "      <td>59296.057702</td>\n",
       "    </tr>\n",
       "    <tr>\n",
       "      <th>3195</th>\n",
       "      <td>0.283102</td>\n",
       "      <td>1.393926e+08</td>\n",
       "      <td>48310.103781</td>\n",
       "    </tr>\n",
       "  </tbody>\n",
       "</table>\n",
       "<p>3487 rows × 3 columns</p>\n",
       "</div>"
      ],
      "text/plain": [
       "       Inflation   Working_Pop  Real_GDP_per_Capita\n",
       "825     0.153576  8.224000e+07         60052.626459\n",
       "10846   0.895265  1.973148e+08         76970.791112\n",
       "4137    0.411363  1.470297e+08         46277.317745\n",
       "13788   1.098605  2.058482e+08         91172.916401\n",
       "6180    0.555234  1.599734e+08         58787.874559\n",
       "...          ...           ...                  ...\n",
       "8356    0.696153  1.746548e+08         71058.899525\n",
       "11288   0.923153  1.999897e+08         79044.047937\n",
       "3023    0.265382  1.378928e+08         45933.137165\n",
       "1443    0.172562  8.692900e+07         59296.057702\n",
       "3195    0.283102  1.393926e+08         48310.103781\n",
       "\n",
       "[3487 rows x 3 columns]"
      ]
     },
     "execution_count": 51,
     "metadata": {},
     "output_type": "execute_result"
    }
   ],
   "source": [
    "X_test"
   ]
  },
  {
   "cell_type": "code",
   "execution_count": 29,
   "id": "cecccd38",
   "metadata": {},
   "outputs": [
    {
     "data": {
      "text/plain": [
       "array([ 558.17154944, 8006.51294047, -302.78295959, ..., -959.42691881,\n",
       "        544.04813557, -414.77302741])"
      ]
     },
     "execution_count": 29,
     "metadata": {},
     "output_type": "execute_result"
    }
   ],
   "source": [
    "y_pred."
   ]
  }
 ],
 "metadata": {
  "kernelspec": {
   "display_name": "mlenv",
   "language": "python",
   "name": "mlenv"
  },
  "language_info": {
   "codemirror_mode": {
    "name": "ipython",
    "version": 3
   },
   "file_extension": ".py",
   "mimetype": "text/x-python",
   "name": "python",
   "nbconvert_exporter": "python",
   "pygments_lexer": "ipython3",
   "version": "3.7.10"
  }
 },
 "nbformat": 4,
 "nbformat_minor": 5
}
