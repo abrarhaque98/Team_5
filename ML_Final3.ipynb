{
  "nbformat": 4,
  "nbformat_minor": 5,
  "metadata": {
    "colab": {
      "name": "ML_Final3.ipynb",
      "provenance": []
    },
    "kernelspec": {
      "display_name": "mlenv",
      "language": "python",
      "name": "mlenv"
    },
    "language_info": {
      "codemirror_mode": {
        "name": "ipython",
        "version": 3
      },
      "file_extension": ".py",
      "mimetype": "text/x-python",
      "name": "python",
      "nbconvert_exporter": "python",
      "pygments_lexer": "ipython3",
      "version": "3.7.10"
    }
  },
  "cells": [
    {
      "cell_type": "markdown",
      "metadata": {
        "id": "2a74fe98"
      },
      "source": [
        "# Initialize Spark Session and Read in Dataset"
      ],
      "id": "2a74fe98"
    },
    {
      "cell_type": "code",
      "metadata": {
        "id": "3b58ffad"
      },
      "source": [
        "import numpy as np\n",
        "import pandas as pd\n",
        "import datetime as dt\n",
        "from pathlib import Path\n",
        "from collections import Counter\n",
        "from sklearn.metrics import balanced_accuracy_score\n",
        "from sklearn.metrics import confusion_matrix\n",
        "from imblearn.metrics import classification_report_imbalanced"
      ],
      "id": "3b58ffad",
      "execution_count": 1,
      "outputs": []
    },
    {
      "cell_type": "code",
      "metadata": {
        "colab": {
          "base_uri": "https://localhost:8080/"
        },
        "id": "d8368433",
        "outputId": "43273c76-28b2-4932-b3bd-2dc1f05db7ad"
      },
      "source": [
        "import os\n",
        "# Find the latest version of spark 3.0  from http://www-us.apache.org/dist/spark/ and enter as the spark version\n",
        "spark_version = 'spark-3.1.2'\n",
        "os.environ['SPARK_VERSION']=spark_version\n",
        "\n",
        "# Install Spark and Java\n",
        "!apt-get update\n",
        "!apt-get install openjdk-11-jdk-headless -qq > /dev/null\n",
        "!wget -q https://archive.apache.org/dist/spark/$SPARK_VERSION/$SPARK_VERSION-bin-hadoop2.7.tgz\n",
        "!tar xf $SPARK_VERSION-bin-hadoop2.7.tgz\n",
        "!pip install -q findspark\n",
        "\n",
        "# Set Environment Variables\n",
        "os.environ[\"JAVA_HOME\"] = \"/usr/lib/jvm/java-11-openjdk-amd64\"\n",
        "os.environ[\"SPARK_HOME\"] = f\"/content/{spark_version}-bin-hadoop2.7\"\n",
        "\n",
        "# Start a SparkSession\n",
        "import findspark\n",
        "findspark.init()"
      ],
      "id": "d8368433",
      "execution_count": 2,
      "outputs": [
        {
          "output_type": "stream",
          "name": "stdout",
          "text": [
            "Hit:1 https://cloud.r-project.org/bin/linux/ubuntu bionic-cran40/ InRelease\n",
            "Ign:2 https://developer.download.nvidia.com/compute/cuda/repos/ubuntu1804/x86_64  InRelease\n",
            "Hit:3 http://security.ubuntu.com/ubuntu bionic-security InRelease\n",
            "Ign:4 https://developer.download.nvidia.com/compute/machine-learning/repos/ubuntu1804/x86_64  InRelease\n",
            "Hit:5 https://developer.download.nvidia.com/compute/cuda/repos/ubuntu1804/x86_64  Release\n",
            "Hit:6 https://developer.download.nvidia.com/compute/machine-learning/repos/ubuntu1804/x86_64  Release\n",
            "Hit:7 http://archive.ubuntu.com/ubuntu bionic InRelease\n",
            "Hit:8 http://ppa.launchpad.net/c2d4u.team/c2d4u4.0+/ubuntu bionic InRelease\n",
            "Hit:10 http://archive.ubuntu.com/ubuntu bionic-updates InRelease\n",
            "Hit:12 http://ppa.launchpad.net/cran/libgit2/ubuntu bionic InRelease\n",
            "Hit:13 http://archive.ubuntu.com/ubuntu bionic-backports InRelease\n",
            "Hit:14 http://ppa.launchpad.net/deadsnakes/ppa/ubuntu bionic InRelease\n",
            "Hit:15 http://ppa.launchpad.net/graphics-drivers/ppa/ubuntu bionic InRelease\n",
            "Reading package lists... Done\n"
          ]
        }
      ]
    },
    {
      "cell_type": "code",
      "metadata": {
        "colab": {
          "base_uri": "https://localhost:8080/"
        },
        "id": "c62fc457",
        "outputId": "a4bb60ab-34a0-4ad2-ddda-cc6bb46565ac"
      },
      "source": [
        "# Load in the Postgress Driver\n",
        "!wget https://jdbc.postgresql.org/download/postgresql-42.2.9.jar"
      ],
      "id": "c62fc457",
      "execution_count": 3,
      "outputs": [
        {
          "output_type": "stream",
          "name": "stdout",
          "text": [
            "--2021-11-18 01:22:21--  https://jdbc.postgresql.org/download/postgresql-42.2.9.jar\n",
            "Resolving jdbc.postgresql.org (jdbc.postgresql.org)... 72.32.157.228, 2001:4800:3e1:1::228\n",
            "Connecting to jdbc.postgresql.org (jdbc.postgresql.org)|72.32.157.228|:443... connected.\n",
            "HTTP request sent, awaiting response... 200 OK\n",
            "Length: 914037 (893K) [application/java-archive]\n",
            "Saving to: ‘postgresql-42.2.9.jar.2’\n",
            "\n",
            "postgresql-42.2.9.j 100%[===================>] 892.61K  1.31MB/s    in 0.7s    \n",
            "\n",
            "2021-11-18 01:22:22 (1.31 MB/s) - ‘postgresql-42.2.9.jar.2’ saved [914037/914037]\n",
            "\n"
          ]
        }
      ]
    },
    {
      "cell_type": "code",
      "metadata": {
        "id": "5e8fce1a"
      },
      "source": [
        "# Import Spark Session\n",
        "from pyspark.sql import SparkSession\n",
        "spark = SparkSession.builder.appName(\"CloudETL\").config(\"spark.driver.extraClassPath\",\"/content/postgresql-42.2.9.jar\").getOrCreate()"
      ],
      "id": "5e8fce1a",
      "execution_count": 4,
      "outputs": []
    },
    {
      "cell_type": "code",
      "metadata": {
        "colab": {
          "base_uri": "https://localhost:8080/"
        },
        "id": "4be8af25",
        "outputId": "edcca052-f816-4299-a6e6-2e60c94ced3c"
      },
      "source": [
        "# Store environmental variable\n",
        "from getpass import getpass\n",
        "password = getpass('finalproject99')\n",
        "# Configure settings for RDS\n",
        "mode = \"append\"\n",
        "jdbc_url=\"jdbc:postgresql://team5-stock-index-analysis.c5eoj6us86ug.us-east-2.rds.amazonaws.com:5432/postgres\"\n",
        "config = {\"user\":\"postgres\",\n",
        "          \"password\": password,\n",
        "          \"driver\":\"org.postgresql.Driver\"}"
      ],
      "id": "4be8af25",
      "execution_count": 5,
      "outputs": [
        {
          "name": "stdout",
          "output_type": "stream",
          "text": [
            "finalproject99··········\n"
          ]
        }
      ]
    },
    {
      "cell_type": "code",
      "metadata": {
        "colab": {
          "base_uri": "https://localhost:8080/"
        },
        "id": "N48JwkOLhL8S",
        "outputId": "7d6d6920-c54b-4510-d6d5-f3942675cd08"
      },
      "source": [
        "NYSE_df = spark.read \\\n",
        "    .format(\"jdbc\") \\\n",
        "    .option(\"url\", jdbc_url) \\\n",
        "    .option(\"dbtable\", \"complete_join\") \\\n",
        "    .option(\"user\", \"postgres\") \\\n",
        "    .option(\"password\", password) \\\n",
        "    .option(\"driver\", \"org.postgresql.Driver\") \\\n",
        "    .load()\n",
        "\n",
        "NYSE_df.printSchema()"
      ],
      "id": "N48JwkOLhL8S",
      "execution_count": 6,
      "outputs": [
        {
          "output_type": "stream",
          "name": "stdout",
          "text": [
            "root\n",
            " |-- index: string (nullable = true)\n",
            " |-- date: string (nullable = true)\n",
            " |-- month: string (nullable = true)\n",
            " |-- quarter: string (nullable = true)\n",
            " |-- open: double (nullable = true)\n",
            " |-- high: double (nullable = true)\n",
            " |-- low: double (nullable = true)\n",
            " |-- close: double (nullable = true)\n",
            " |-- adj_close: double (nullable = true)\n",
            " |-- volume: double (nullable = true)\n",
            " |-- closeusd: double (nullable = true)\n",
            " |-- observation_date: string (nullable = true)\n",
            " |-- lfwa64ttusm647s: double (nullable = true)\n",
            " |-- gdpc1: double (nullable = true)\n",
            " |-- location: string (nullable = true)\n",
            " |-- indicator: string (nullable = true)\n",
            " |-- subject: string (nullable = true)\n",
            " |-- measure: string (nullable = true)\n",
            " |-- frequency: string (nullable = true)\n",
            " |-- value: double (nullable = true)\n",
            "\n"
          ]
        }
      ]
    },
    {
      "cell_type": "code",
      "metadata": {
        "colab": {
          "base_uri": "https://localhost:8080/"
        },
        "id": "B1SXPGvuhTRP",
        "outputId": "11cca65a-8a93-44c4-9c52-8c4fbae96809"
      },
      "source": [
        "NYSE_df.show()"
      ],
      "id": "B1SXPGvuhTRP",
      "execution_count": 7,
      "outputs": [
        {
          "output_type": "stream",
          "name": "stdout",
          "text": [
            "+-----+--------+-------+-------+----------+----------+----------+----------+----------+------+----------+----------------+---------------+--------+--------+---------+-------+-------+---------+--------+\n",
            "|index|    date|  month|quarter|      open|      high|       low|     close| adj_close|volume|  closeusd|observation_date|lfwa64ttusm647s|   gdpc1|location|indicator|subject|measure|frequency|   value|\n",
            "+-----+--------+-------+-------+----------+----------+----------+----------+----------+------+----------+----------------+---------------+--------+--------+---------+-------+-------+---------+--------+\n",
            "|  NYA|12/31/65|1965-12|1965-Q4|528.690002|528.690002|528.690002|528.690002|528.690002|   0.0|528.690002|      1965-12-01|       7.7178E7|4304.731|     USA|      CPI|    TOT|IDX2015|        M|13.41676|\n",
            "|  NYA|  1/3/66| 1966-1|1966-Q1|527.210022|527.210022|527.210022|527.210022|527.210022|   0.0|527.210022|      1966-01-01|       7.7178E7|4409.518|     USA|      CPI|    TOT|IDX2015|        M|13.41676|\n",
            "|  NYA|  1/4/66| 1966-1|1966-Q1|527.840027|527.840027|527.840027|527.840027|527.840027|   0.0|527.840027|      1966-01-01|       7.7178E7|4409.518|     USA|      CPI|    TOT|IDX2015|        M|13.41676|\n",
            "|  NYA|  1/5/66| 1966-1|1966-Q1|531.119995|531.119995|531.119995|531.119995|531.119995|   0.0|531.119995|      1966-01-01|       7.7178E7|4409.518|     USA|      CPI|    TOT|IDX2015|        M|13.41676|\n",
            "|  NYA|  1/6/66| 1966-1|1966-Q1|532.070007|532.070007|532.070007|532.070007|532.070007|   0.0|532.070007|      1966-01-01|       7.7178E7|4409.518|     USA|      CPI|    TOT|IDX2015|        M|13.41676|\n",
            "|  NYA|  1/7/66| 1966-1|1966-Q1|532.599976|532.599976|532.599976|532.599976|532.599976|   0.0|532.599976|      1966-01-01|       7.7178E7|4409.518|     USA|      CPI|    TOT|IDX2015|        M|13.41676|\n",
            "|  NYA| 1/10/66| 1966-1|1966-Q1|533.869995|533.869995|533.869995|533.869995|533.869995|   0.0|533.869995|      1966-01-01|       7.7178E7|4409.518|     USA|      CPI|    TOT|IDX2015|        M|13.41676|\n",
            "|  NYA| 1/11/66| 1966-1|1966-Q1|534.289978|534.289978|534.289978|534.289978|534.289978|   0.0|534.289978|      1966-01-01|       7.7178E7|4409.518|     USA|      CPI|    TOT|IDX2015|        M|13.41676|\n",
            "|  NYA| 1/12/66| 1966-1|1966-Q1|533.340027|533.340027|533.340027|533.340027|533.340027|   0.0|533.340027|      1966-01-01|       7.7178E7|4409.518|     USA|      CPI|    TOT|IDX2015|        M|13.41676|\n",
            "|  NYA| 1/13/66| 1966-1|1966-Q1|534.400024|534.400024|534.400024|534.400024|534.400024|   0.0|534.400024|      1966-01-01|       7.7178E7|4409.518|     USA|      CPI|    TOT|IDX2015|        M|13.41676|\n",
            "|  NYA| 1/14/66| 1966-1|1966-Q1|535.450012|535.450012|535.450012|535.450012|535.450012|   0.0|535.450012|      1966-01-01|       7.7178E7|4409.518|     USA|      CPI|    TOT|IDX2015|        M|13.41676|\n",
            "|  NYA| 1/17/66| 1966-1|1966-Q1|537.460022|537.460022|537.460022|537.460022|537.460022|   0.0|537.460022|      1966-01-01|       7.7178E7|4409.518|     USA|      CPI|    TOT|IDX2015|        M|13.41676|\n",
            "|  NYA| 1/18/66| 1966-1|1966-Q1|538.940002|538.940002|538.940002|538.940002|538.940002|   0.0|538.940002|      1966-01-01|       7.7178E7|4409.518|     USA|      CPI|    TOT|IDX2015|        M|13.41676|\n",
            "|  NYA| 1/19/66| 1966-1|1966-Q1|537.669983|537.669983|537.669983|537.669983|537.669983|   0.0|537.669983|      1966-01-01|       7.7178E7|4409.518|     USA|      CPI|    TOT|IDX2015|        M|13.41676|\n",
            "|  NYA| 1/20/66| 1966-1|1966-Q1|535.669983|535.669983|535.669983|535.669983|535.669983|   0.0|535.669983|      1966-01-01|       7.7178E7|4409.518|     USA|      CPI|    TOT|IDX2015|        M|13.41676|\n",
            "|  NYA| 1/21/66| 1966-1|1966-Q1| 535.97998| 535.97998| 535.97998| 535.97998| 535.97998|   0.0| 535.97998|      1966-01-01|       7.7178E7|4409.518|     USA|      CPI|    TOT|IDX2015|        M|13.41676|\n",
            "|  NYA| 1/24/66| 1966-1|1966-Q1|537.669983|537.669983|537.669983|537.669983|537.669983|   0.0|537.669983|      1966-01-01|       7.7178E7|4409.518|     USA|      CPI|    TOT|IDX2015|        M|13.41676|\n",
            "|  NYA| 1/25/66| 1966-1|1966-Q1|538.099976|538.099976|538.099976|538.099976|538.099976|   0.0|538.099976|      1966-01-01|       7.7178E7|4409.518|     USA|      CPI|    TOT|IDX2015|        M|13.41676|\n",
            "|  NYA| 1/26/66| 1966-1|1966-Q1|537.570007|537.570007|537.570007|537.570007|537.570007|   0.0|537.570007|      1966-01-01|       7.7178E7|4409.518|     USA|      CPI|    TOT|IDX2015|        M|13.41676|\n",
            "|  NYA| 1/27/66| 1966-1|1966-Q1|537.359985|537.359985|537.359985|537.359985|537.359985|   0.0|537.359985|      1966-01-01|       7.7178E7|4409.518|     USA|      CPI|    TOT|IDX2015|        M|13.41676|\n",
            "+-----+--------+-------+-------+----------+----------+----------+----------+----------+------+----------+----------------+---------------+--------+--------+---------+-------+-------+---------+--------+\n",
            "only showing top 20 rows\n",
            "\n"
          ]
        }
      ]
    },
    {
      "cell_type": "markdown",
      "metadata": {
        "id": "95debaec"
      },
      "source": [
        "# Data Pre-processing "
      ],
      "id": "95debaec"
    },
    {
      "cell_type": "code",
      "metadata": {
        "colab": {
          "base_uri": "https://localhost:8080/",
          "height": 615
        },
        "id": "jUCIyhdQZuK0",
        "outputId": "b3d09f83-c04a-477e-d863-08196daa5452"
      },
      "source": [
        "#Convert SparkDataFrame to Pandas DataFrame\n",
        "NYSE_pdf = NYSE_df.toPandas()\n",
        "NYSE_pdf"
      ],
      "id": "jUCIyhdQZuK0",
      "execution_count": 8,
      "outputs": [
        {
          "output_type": "execute_result",
          "data": {
            "text/html": [
              "<div>\n",
              "<style scoped>\n",
              "    .dataframe tbody tr th:only-of-type {\n",
              "        vertical-align: middle;\n",
              "    }\n",
              "\n",
              "    .dataframe tbody tr th {\n",
              "        vertical-align: top;\n",
              "    }\n",
              "\n",
              "    .dataframe thead th {\n",
              "        text-align: right;\n",
              "    }\n",
              "</style>\n",
              "<table border=\"1\" class=\"dataframe\">\n",
              "  <thead>\n",
              "    <tr style=\"text-align: right;\">\n",
              "      <th></th>\n",
              "      <th>index</th>\n",
              "      <th>date</th>\n",
              "      <th>month</th>\n",
              "      <th>quarter</th>\n",
              "      <th>open</th>\n",
              "      <th>high</th>\n",
              "      <th>low</th>\n",
              "      <th>close</th>\n",
              "      <th>adj_close</th>\n",
              "      <th>volume</th>\n",
              "      <th>closeusd</th>\n",
              "      <th>observation_date</th>\n",
              "      <th>lfwa64ttusm647s</th>\n",
              "      <th>gdpc1</th>\n",
              "      <th>location</th>\n",
              "      <th>indicator</th>\n",
              "      <th>subject</th>\n",
              "      <th>measure</th>\n",
              "      <th>frequency</th>\n",
              "      <th>value</th>\n",
              "    </tr>\n",
              "  </thead>\n",
              "  <tbody>\n",
              "    <tr>\n",
              "      <th>0</th>\n",
              "      <td>NYA</td>\n",
              "      <td>12/31/65</td>\n",
              "      <td>1965-12</td>\n",
              "      <td>1965-Q4</td>\n",
              "      <td>528.690002</td>\n",
              "      <td>528.690002</td>\n",
              "      <td>528.690002</td>\n",
              "      <td>528.690002</td>\n",
              "      <td>528.690002</td>\n",
              "      <td>0.000000e+00</td>\n",
              "      <td>528.690002</td>\n",
              "      <td>1965-12-01</td>\n",
              "      <td>7.717800e+07</td>\n",
              "      <td>4304.731</td>\n",
              "      <td>USA</td>\n",
              "      <td>CPI</td>\n",
              "      <td>TOT</td>\n",
              "      <td>IDX2015</td>\n",
              "      <td>M</td>\n",
              "      <td>13.41676</td>\n",
              "    </tr>\n",
              "    <tr>\n",
              "      <th>1</th>\n",
              "      <td>NYA</td>\n",
              "      <td>1/3/66</td>\n",
              "      <td>1966-1</td>\n",
              "      <td>1966-Q1</td>\n",
              "      <td>527.210022</td>\n",
              "      <td>527.210022</td>\n",
              "      <td>527.210022</td>\n",
              "      <td>527.210022</td>\n",
              "      <td>527.210022</td>\n",
              "      <td>0.000000e+00</td>\n",
              "      <td>527.210022</td>\n",
              "      <td>1966-01-01</td>\n",
              "      <td>7.717800e+07</td>\n",
              "      <td>4409.518</td>\n",
              "      <td>USA</td>\n",
              "      <td>CPI</td>\n",
              "      <td>TOT</td>\n",
              "      <td>IDX2015</td>\n",
              "      <td>M</td>\n",
              "      <td>13.41676</td>\n",
              "    </tr>\n",
              "    <tr>\n",
              "      <th>2</th>\n",
              "      <td>NYA</td>\n",
              "      <td>1/4/66</td>\n",
              "      <td>1966-1</td>\n",
              "      <td>1966-Q1</td>\n",
              "      <td>527.840027</td>\n",
              "      <td>527.840027</td>\n",
              "      <td>527.840027</td>\n",
              "      <td>527.840027</td>\n",
              "      <td>527.840027</td>\n",
              "      <td>0.000000e+00</td>\n",
              "      <td>527.840027</td>\n",
              "      <td>1966-01-01</td>\n",
              "      <td>7.717800e+07</td>\n",
              "      <td>4409.518</td>\n",
              "      <td>USA</td>\n",
              "      <td>CPI</td>\n",
              "      <td>TOT</td>\n",
              "      <td>IDX2015</td>\n",
              "      <td>M</td>\n",
              "      <td>13.41676</td>\n",
              "    </tr>\n",
              "    <tr>\n",
              "      <th>3</th>\n",
              "      <td>NYA</td>\n",
              "      <td>1/5/66</td>\n",
              "      <td>1966-1</td>\n",
              "      <td>1966-Q1</td>\n",
              "      <td>531.119995</td>\n",
              "      <td>531.119995</td>\n",
              "      <td>531.119995</td>\n",
              "      <td>531.119995</td>\n",
              "      <td>531.119995</td>\n",
              "      <td>0.000000e+00</td>\n",
              "      <td>531.119995</td>\n",
              "      <td>1966-01-01</td>\n",
              "      <td>7.717800e+07</td>\n",
              "      <td>4409.518</td>\n",
              "      <td>USA</td>\n",
              "      <td>CPI</td>\n",
              "      <td>TOT</td>\n",
              "      <td>IDX2015</td>\n",
              "      <td>M</td>\n",
              "      <td>13.41676</td>\n",
              "    </tr>\n",
              "    <tr>\n",
              "      <th>4</th>\n",
              "      <td>NYA</td>\n",
              "      <td>1/6/66</td>\n",
              "      <td>1966-1</td>\n",
              "      <td>1966-Q1</td>\n",
              "      <td>532.070007</td>\n",
              "      <td>532.070007</td>\n",
              "      <td>532.070007</td>\n",
              "      <td>532.070007</td>\n",
              "      <td>532.070007</td>\n",
              "      <td>0.000000e+00</td>\n",
              "      <td>532.070007</td>\n",
              "      <td>1966-01-01</td>\n",
              "      <td>7.717800e+07</td>\n",
              "      <td>4409.518</td>\n",
              "      <td>USA</td>\n",
              "      <td>CPI</td>\n",
              "      <td>TOT</td>\n",
              "      <td>IDX2015</td>\n",
              "      <td>M</td>\n",
              "      <td>13.41676</td>\n",
              "    </tr>\n",
              "    <tr>\n",
              "      <th>...</th>\n",
              "      <td>...</td>\n",
              "      <td>...</td>\n",
              "      <td>...</td>\n",
              "      <td>...</td>\n",
              "      <td>...</td>\n",
              "      <td>...</td>\n",
              "      <td>...</td>\n",
              "      <td>...</td>\n",
              "      <td>...</td>\n",
              "      <td>...</td>\n",
              "      <td>...</td>\n",
              "      <td>...</td>\n",
              "      <td>...</td>\n",
              "      <td>...</td>\n",
              "      <td>...</td>\n",
              "      <td>...</td>\n",
              "      <td>...</td>\n",
              "      <td>...</td>\n",
              "      <td>...</td>\n",
              "      <td>...</td>\n",
              "    </tr>\n",
              "    <tr>\n",
              "      <th>13942</th>\n",
              "      <td>NYA</td>\n",
              "      <td>5/24/21</td>\n",
              "      <td>2021-5</td>\n",
              "      <td>2021-Q4</td>\n",
              "      <td>16375.000000</td>\n",
              "      <td>16508.519530</td>\n",
              "      <td>16375.000000</td>\n",
              "      <td>16464.689450</td>\n",
              "      <td>16464.689450</td>\n",
              "      <td>2.947400e+09</td>\n",
              "      <td>16464.689450</td>\n",
              "      <td>2021-05-01</td>\n",
              "      <td>2.058753e+08</td>\n",
              "      <td>NaN</td>\n",
              "      <td>USA</td>\n",
              "      <td>CPI</td>\n",
              "      <td>TOT</td>\n",
              "      <td>IDX2015</td>\n",
              "      <td>M</td>\n",
              "      <td>113.57620</td>\n",
              "    </tr>\n",
              "    <tr>\n",
              "      <th>13943</th>\n",
              "      <td>NYA</td>\n",
              "      <td>5/25/21</td>\n",
              "      <td>2021-5</td>\n",
              "      <td>2021-Q4</td>\n",
              "      <td>16464.689450</td>\n",
              "      <td>16525.810550</td>\n",
              "      <td>16375.150390</td>\n",
              "      <td>16390.189450</td>\n",
              "      <td>16390.189450</td>\n",
              "      <td>3.420870e+09</td>\n",
              "      <td>16390.189450</td>\n",
              "      <td>2021-05-01</td>\n",
              "      <td>2.058753e+08</td>\n",
              "      <td>NaN</td>\n",
              "      <td>USA</td>\n",
              "      <td>CPI</td>\n",
              "      <td>TOT</td>\n",
              "      <td>IDX2015</td>\n",
              "      <td>M</td>\n",
              "      <td>113.57620</td>\n",
              "    </tr>\n",
              "    <tr>\n",
              "      <th>13944</th>\n",
              "      <td>NYA</td>\n",
              "      <td>5/26/21</td>\n",
              "      <td>2021-5</td>\n",
              "      <td>2021-Q4</td>\n",
              "      <td>16390.189450</td>\n",
              "      <td>16466.339840</td>\n",
              "      <td>16388.320310</td>\n",
              "      <td>16451.960940</td>\n",
              "      <td>16451.960940</td>\n",
              "      <td>3.674490e+09</td>\n",
              "      <td>16451.960940</td>\n",
              "      <td>2021-05-01</td>\n",
              "      <td>2.058753e+08</td>\n",
              "      <td>NaN</td>\n",
              "      <td>USA</td>\n",
              "      <td>CPI</td>\n",
              "      <td>TOT</td>\n",
              "      <td>IDX2015</td>\n",
              "      <td>M</td>\n",
              "      <td>113.57620</td>\n",
              "    </tr>\n",
              "    <tr>\n",
              "      <th>13945</th>\n",
              "      <td>NYA</td>\n",
              "      <td>5/27/21</td>\n",
              "      <td>2021-5</td>\n",
              "      <td>2021-Q4</td>\n",
              "      <td>16451.960940</td>\n",
              "      <td>16546.359380</td>\n",
              "      <td>16451.960940</td>\n",
              "      <td>16531.949220</td>\n",
              "      <td>16531.949220</td>\n",
              "      <td>5.201110e+09</td>\n",
              "      <td>16531.949220</td>\n",
              "      <td>2021-05-01</td>\n",
              "      <td>2.058753e+08</td>\n",
              "      <td>NaN</td>\n",
              "      <td>USA</td>\n",
              "      <td>CPI</td>\n",
              "      <td>TOT</td>\n",
              "      <td>IDX2015</td>\n",
              "      <td>M</td>\n",
              "      <td>113.57620</td>\n",
              "    </tr>\n",
              "    <tr>\n",
              "      <th>13946</th>\n",
              "      <td>NYA</td>\n",
              "      <td>5/28/21</td>\n",
              "      <td>2021-5</td>\n",
              "      <td>2021-Q4</td>\n",
              "      <td>16531.949220</td>\n",
              "      <td>16588.689450</td>\n",
              "      <td>16531.949220</td>\n",
              "      <td>16555.660160</td>\n",
              "      <td>16555.660160</td>\n",
              "      <td>4.199270e+09</td>\n",
              "      <td>16555.660160</td>\n",
              "      <td>2021-05-01</td>\n",
              "      <td>2.058753e+08</td>\n",
              "      <td>NaN</td>\n",
              "      <td>USA</td>\n",
              "      <td>CPI</td>\n",
              "      <td>TOT</td>\n",
              "      <td>IDX2015</td>\n",
              "      <td>M</td>\n",
              "      <td>113.57620</td>\n",
              "    </tr>\n",
              "  </tbody>\n",
              "</table>\n",
              "<p>13947 rows × 20 columns</p>\n",
              "</div>"
            ],
            "text/plain": [
              "      index      date    month  quarter  ...  subject  measure  frequency      value\n",
              "0       NYA  12/31/65  1965-12  1965-Q4  ...      TOT  IDX2015          M   13.41676\n",
              "1       NYA    1/3/66   1966-1  1966-Q1  ...      TOT  IDX2015          M   13.41676\n",
              "2       NYA    1/4/66   1966-1  1966-Q1  ...      TOT  IDX2015          M   13.41676\n",
              "3       NYA    1/5/66   1966-1  1966-Q1  ...      TOT  IDX2015          M   13.41676\n",
              "4       NYA    1/6/66   1966-1  1966-Q1  ...      TOT  IDX2015          M   13.41676\n",
              "...     ...       ...      ...      ...  ...      ...      ...        ...        ...\n",
              "13942   NYA   5/24/21   2021-5  2021-Q4  ...      TOT  IDX2015          M  113.57620\n",
              "13943   NYA   5/25/21   2021-5  2021-Q4  ...      TOT  IDX2015          M  113.57620\n",
              "13944   NYA   5/26/21   2021-5  2021-Q4  ...      TOT  IDX2015          M  113.57620\n",
              "13945   NYA   5/27/21   2021-5  2021-Q4  ...      TOT  IDX2015          M  113.57620\n",
              "13946   NYA   5/28/21   2021-5  2021-Q4  ...      TOT  IDX2015          M  113.57620\n",
              "\n",
              "[13947 rows x 20 columns]"
            ]
          },
          "metadata": {},
          "execution_count": 8
        }
      ]
    },
    {
      "cell_type": "code",
      "metadata": {
        "colab": {
          "base_uri": "https://localhost:8080/"
        },
        "id": "6938e7c3",
        "outputId": "25c46ec8-05b9-4893-a48a-8e42c0952f2d"
      },
      "source": [
        "NYSE_pdf.head(10)\n",
        "print(NYSE_pdf.count())"
      ],
      "id": "6938e7c3",
      "execution_count": 9,
      "outputs": [
        {
          "output_type": "stream",
          "name": "stdout",
          "text": [
            "index               13947\n",
            "date                13947\n",
            "month               13947\n",
            "quarter             13947\n",
            "open                13947\n",
            "high                13947\n",
            "low                 13947\n",
            "close               13947\n",
            "adj_close           13947\n",
            "volume              13947\n",
            "closeusd            13947\n",
            "observation_date    13947\n",
            "lfwa64ttusm647s     13947\n",
            "gdpc1               13885\n",
            "location            13947\n",
            "indicator           13947\n",
            "subject             13947\n",
            "measure             13947\n",
            "frequency           13947\n",
            "value               13947\n",
            "dtype: int64\n"
          ]
        }
      ]
    },
    {
      "cell_type": "code",
      "metadata": {
        "id": "ff39e5ed",
        "colab": {
          "base_uri": "https://localhost:8080/"
        },
        "outputId": "da087d7f-f41e-4600-af1f-838ebc39f361"
      },
      "source": [
        "# Column Types\n",
        "NYSE_pdf.dtypes"
      ],
      "id": "ff39e5ed",
      "execution_count": 10,
      "outputs": [
        {
          "output_type": "execute_result",
          "data": {
            "text/plain": [
              "index                object\n",
              "date                 object\n",
              "month                object\n",
              "quarter              object\n",
              "open                float64\n",
              "high                float64\n",
              "low                 float64\n",
              "close               float64\n",
              "adj_close           float64\n",
              "volume              float64\n",
              "closeusd            float64\n",
              "observation_date     object\n",
              "lfwa64ttusm647s     float64\n",
              "gdpc1               float64\n",
              "location             object\n",
              "indicator            object\n",
              "subject              object\n",
              "measure              object\n",
              "frequency            object\n",
              "value               float64\n",
              "dtype: object"
            ]
          },
          "metadata": {},
          "execution_count": 10
        }
      ]
    },
    {
      "cell_type": "code",
      "metadata": {
        "id": "cf860a1d"
      },
      "source": [
        "# Drop null and unnecessary columns\n",
        "NYSE_pdf = NYSE_pdf.drop(columns=['date','index','month','quarter','open','high','low','close','adj_close','volume','location','indicator','subject','measure','frequency', 'observation_date'])\n",
        "# Drop blank rows\n",
        "NYSE_pdf = NYSE_pdf.dropna()"
      ],
      "id": "cf860a1d",
      "execution_count": 11,
      "outputs": []
    },
    {
      "cell_type": "code",
      "metadata": {
        "id": "cab9f926"
      },
      "source": [
        "# Rename Columns\n",
        "NYSE_pdf = NYSE_pdf.rename(columns={'closeusd':'NYA_Close_Price','value':'Inflation','gdpc1':'Real_GDP','lfwa64ttusm647s':'Working_Pop'})\n"
      ],
      "id": "cab9f926",
      "execution_count": 12,
      "outputs": []
    },
    {
      "cell_type": "code",
      "metadata": {
        "id": "29e0f2b9",
        "colab": {
          "base_uri": "https://localhost:8080/",
          "height": 205
        },
        "outputId": "067cc7ba-c0ce-4b9a-c79b-e9007232b784"
      },
      "source": [
        "NYSE_pdf.head()"
      ],
      "id": "29e0f2b9",
      "execution_count": 13,
      "outputs": [
        {
          "output_type": "execute_result",
          "data": {
            "text/html": [
              "<div>\n",
              "<style scoped>\n",
              "    .dataframe tbody tr th:only-of-type {\n",
              "        vertical-align: middle;\n",
              "    }\n",
              "\n",
              "    .dataframe tbody tr th {\n",
              "        vertical-align: top;\n",
              "    }\n",
              "\n",
              "    .dataframe thead th {\n",
              "        text-align: right;\n",
              "    }\n",
              "</style>\n",
              "<table border=\"1\" class=\"dataframe\">\n",
              "  <thead>\n",
              "    <tr style=\"text-align: right;\">\n",
              "      <th></th>\n",
              "      <th>NYA_Close_Price</th>\n",
              "      <th>Working_Pop</th>\n",
              "      <th>Real_GDP</th>\n",
              "      <th>Inflation</th>\n",
              "    </tr>\n",
              "  </thead>\n",
              "  <tbody>\n",
              "    <tr>\n",
              "      <th>0</th>\n",
              "      <td>528.690002</td>\n",
              "      <td>77178000.0</td>\n",
              "      <td>4304.731</td>\n",
              "      <td>13.41676</td>\n",
              "    </tr>\n",
              "    <tr>\n",
              "      <th>1</th>\n",
              "      <td>527.210022</td>\n",
              "      <td>77178000.0</td>\n",
              "      <td>4409.518</td>\n",
              "      <td>13.41676</td>\n",
              "    </tr>\n",
              "    <tr>\n",
              "      <th>2</th>\n",
              "      <td>527.840027</td>\n",
              "      <td>77178000.0</td>\n",
              "      <td>4409.518</td>\n",
              "      <td>13.41676</td>\n",
              "    </tr>\n",
              "    <tr>\n",
              "      <th>3</th>\n",
              "      <td>531.119995</td>\n",
              "      <td>77178000.0</td>\n",
              "      <td>4409.518</td>\n",
              "      <td>13.41676</td>\n",
              "    </tr>\n",
              "    <tr>\n",
              "      <th>4</th>\n",
              "      <td>532.070007</td>\n",
              "      <td>77178000.0</td>\n",
              "      <td>4409.518</td>\n",
              "      <td>13.41676</td>\n",
              "    </tr>\n",
              "  </tbody>\n",
              "</table>\n",
              "</div>"
            ],
            "text/plain": [
              "   NYA_Close_Price  Working_Pop  Real_GDP  Inflation\n",
              "0       528.690002   77178000.0  4304.731   13.41676\n",
              "1       527.210022   77178000.0  4409.518   13.41676\n",
              "2       527.840027   77178000.0  4409.518   13.41676\n",
              "3       531.119995   77178000.0  4409.518   13.41676\n",
              "4       532.070007   77178000.0  4409.518   13.41676"
            ]
          },
          "metadata": {},
          "execution_count": 13
        }
      ]
    },
    {
      "cell_type": "code",
      "metadata": {
        "id": "09d270f0"
      },
      "source": [
        "# Divide Inflation by 100\n",
        "NYSE_pdf['Inflation'] = NYSE_pdf['Inflation'] / 100\n",
        "\n",
        "# Real GDP * 1B\n",
        "NYSE_pdf['Real_GDP'] = NYSE_pdf['Real_GDP'] * 1000000000\n",
        "\n",
        "# Calculate Real GDP per Capita from GDP and Population\n",
        "NYSE_pdf['Real_GDP_per_Capita'] = NYSE_pdf['Real_GDP'] / NYSE_pdf['Working_Pop']\n",
        "\n",
        "# Drop Real_GDP column\n",
        "NYSE_pdf = NYSE_pdf.drop(columns=['Real_GDP'])\n"
      ],
      "id": "09d270f0",
      "execution_count": 14,
      "outputs": []
    },
    {
      "cell_type": "code",
      "metadata": {
        "id": "c1399758",
        "colab": {
          "base_uri": "https://localhost:8080/",
          "height": 205
        },
        "outputId": "268b8c2b-ce80-4b87-e7d6-9129819a35fb"
      },
      "source": [
        "NYSE_pdf.head()"
      ],
      "id": "c1399758",
      "execution_count": 15,
      "outputs": [
        {
          "output_type": "execute_result",
          "data": {
            "text/html": [
              "<div>\n",
              "<style scoped>\n",
              "    .dataframe tbody tr th:only-of-type {\n",
              "        vertical-align: middle;\n",
              "    }\n",
              "\n",
              "    .dataframe tbody tr th {\n",
              "        vertical-align: top;\n",
              "    }\n",
              "\n",
              "    .dataframe thead th {\n",
              "        text-align: right;\n",
              "    }\n",
              "</style>\n",
              "<table border=\"1\" class=\"dataframe\">\n",
              "  <thead>\n",
              "    <tr style=\"text-align: right;\">\n",
              "      <th></th>\n",
              "      <th>NYA_Close_Price</th>\n",
              "      <th>Working_Pop</th>\n",
              "      <th>Inflation</th>\n",
              "      <th>Real_GDP_per_Capita</th>\n",
              "    </tr>\n",
              "  </thead>\n",
              "  <tbody>\n",
              "    <tr>\n",
              "      <th>0</th>\n",
              "      <td>528.690002</td>\n",
              "      <td>77178000.0</td>\n",
              "      <td>0.134168</td>\n",
              "      <td>55776.659152</td>\n",
              "    </tr>\n",
              "    <tr>\n",
              "      <th>1</th>\n",
              "      <td>527.210022</td>\n",
              "      <td>77178000.0</td>\n",
              "      <td>0.134168</td>\n",
              "      <td>57134.390629</td>\n",
              "    </tr>\n",
              "    <tr>\n",
              "      <th>2</th>\n",
              "      <td>527.840027</td>\n",
              "      <td>77178000.0</td>\n",
              "      <td>0.134168</td>\n",
              "      <td>57134.390629</td>\n",
              "    </tr>\n",
              "    <tr>\n",
              "      <th>3</th>\n",
              "      <td>531.119995</td>\n",
              "      <td>77178000.0</td>\n",
              "      <td>0.134168</td>\n",
              "      <td>57134.390629</td>\n",
              "    </tr>\n",
              "    <tr>\n",
              "      <th>4</th>\n",
              "      <td>532.070007</td>\n",
              "      <td>77178000.0</td>\n",
              "      <td>0.134168</td>\n",
              "      <td>57134.390629</td>\n",
              "    </tr>\n",
              "  </tbody>\n",
              "</table>\n",
              "</div>"
            ],
            "text/plain": [
              "   NYA_Close_Price  Working_Pop  Inflation  Real_GDP_per_Capita\n",
              "0       528.690002   77178000.0   0.134168         55776.659152\n",
              "1       527.210022   77178000.0   0.134168         57134.390629\n",
              "2       527.840027   77178000.0   0.134168         57134.390629\n",
              "3       531.119995   77178000.0   0.134168         57134.390629\n",
              "4       532.070007   77178000.0   0.134168         57134.390629"
            ]
          },
          "metadata": {},
          "execution_count": 15
        }
      ]
    },
    {
      "cell_type": "markdown",
      "metadata": {
        "id": "02b359ba"
      },
      "source": [
        "# Split Data into Training and Testing"
      ],
      "id": "02b359ba"
    },
    {
      "cell_type": "code",
      "metadata": {
        "id": "c9609497",
        "colab": {
          "base_uri": "https://localhost:8080/",
          "height": 205
        },
        "outputId": "fb22fb36-1c57-4232-ba58-9311f283e174"
      },
      "source": [
        "# Create our features\n",
        "X = NYSE_pdf.drop('NYA_Close_Price', axis=1)\n",
        "\n",
        "# Create our target\n",
        "y = NYSE_pdf['NYA_Close_Price']\n",
        "\n",
        "X.head()"
      ],
      "id": "c9609497",
      "execution_count": 16,
      "outputs": [
        {
          "output_type": "execute_result",
          "data": {
            "text/html": [
              "<div>\n",
              "<style scoped>\n",
              "    .dataframe tbody tr th:only-of-type {\n",
              "        vertical-align: middle;\n",
              "    }\n",
              "\n",
              "    .dataframe tbody tr th {\n",
              "        vertical-align: top;\n",
              "    }\n",
              "\n",
              "    .dataframe thead th {\n",
              "        text-align: right;\n",
              "    }\n",
              "</style>\n",
              "<table border=\"1\" class=\"dataframe\">\n",
              "  <thead>\n",
              "    <tr style=\"text-align: right;\">\n",
              "      <th></th>\n",
              "      <th>Working_Pop</th>\n",
              "      <th>Inflation</th>\n",
              "      <th>Real_GDP_per_Capita</th>\n",
              "    </tr>\n",
              "  </thead>\n",
              "  <tbody>\n",
              "    <tr>\n",
              "      <th>0</th>\n",
              "      <td>77178000.0</td>\n",
              "      <td>0.134168</td>\n",
              "      <td>55776.659152</td>\n",
              "    </tr>\n",
              "    <tr>\n",
              "      <th>1</th>\n",
              "      <td>77178000.0</td>\n",
              "      <td>0.134168</td>\n",
              "      <td>57134.390629</td>\n",
              "    </tr>\n",
              "    <tr>\n",
              "      <th>2</th>\n",
              "      <td>77178000.0</td>\n",
              "      <td>0.134168</td>\n",
              "      <td>57134.390629</td>\n",
              "    </tr>\n",
              "    <tr>\n",
              "      <th>3</th>\n",
              "      <td>77178000.0</td>\n",
              "      <td>0.134168</td>\n",
              "      <td>57134.390629</td>\n",
              "    </tr>\n",
              "    <tr>\n",
              "      <th>4</th>\n",
              "      <td>77178000.0</td>\n",
              "      <td>0.134168</td>\n",
              "      <td>57134.390629</td>\n",
              "    </tr>\n",
              "  </tbody>\n",
              "</table>\n",
              "</div>"
            ],
            "text/plain": [
              "   Working_Pop  Inflation  Real_GDP_per_Capita\n",
              "0   77178000.0   0.134168         55776.659152\n",
              "1   77178000.0   0.134168         57134.390629\n",
              "2   77178000.0   0.134168         57134.390629\n",
              "3   77178000.0   0.134168         57134.390629\n",
              "4   77178000.0   0.134168         57134.390629"
            ]
          },
          "metadata": {},
          "execution_count": 16
        }
      ]
    },
    {
      "cell_type": "code",
      "metadata": {
        "id": "5994cf5f",
        "colab": {
          "base_uri": "https://localhost:8080/",
          "height": 299
        },
        "outputId": "75786ce4-e55e-4e43-ee41-a5c5b5f39546"
      },
      "source": [
        "# Check features\n",
        "X.describe()"
      ],
      "id": "5994cf5f",
      "execution_count": 17,
      "outputs": [
        {
          "output_type": "execute_result",
          "data": {
            "text/html": [
              "<div>\n",
              "<style scoped>\n",
              "    .dataframe tbody tr th:only-of-type {\n",
              "        vertical-align: middle;\n",
              "    }\n",
              "\n",
              "    .dataframe tbody tr th {\n",
              "        vertical-align: top;\n",
              "    }\n",
              "\n",
              "    .dataframe thead th {\n",
              "        text-align: right;\n",
              "    }\n",
              "</style>\n",
              "<table border=\"1\" class=\"dataframe\">\n",
              "  <thead>\n",
              "    <tr style=\"text-align: right;\">\n",
              "      <th></th>\n",
              "      <th>Working_Pop</th>\n",
              "      <th>Inflation</th>\n",
              "      <th>Real_GDP_per_Capita</th>\n",
              "    </tr>\n",
              "  </thead>\n",
              "  <tbody>\n",
              "    <tr>\n",
              "      <th>count</th>\n",
              "      <td>1.388500e+04</td>\n",
              "      <td>13885.000000</td>\n",
              "      <td>13885.000000</td>\n",
              "    </tr>\n",
              "    <tr>\n",
              "      <th>mean</th>\n",
              "      <td>1.581231e+08</td>\n",
              "      <td>0.598370</td>\n",
              "      <td>66888.083592</td>\n",
              "    </tr>\n",
              "    <tr>\n",
              "      <th>std</th>\n",
              "      <td>4.084326e+07</td>\n",
              "      <td>0.301161</td>\n",
              "      <td>13151.200150</td>\n",
              "    </tr>\n",
              "    <tr>\n",
              "      <th>min</th>\n",
              "      <td>7.717800e+07</td>\n",
              "      <td>0.134168</td>\n",
              "      <td>44983.721611</td>\n",
              "    </tr>\n",
              "    <tr>\n",
              "      <th>25%</th>\n",
              "      <td>1.418840e+08</td>\n",
              "      <td>0.320230</td>\n",
              "      <td>58116.212472</td>\n",
              "    </tr>\n",
              "    <tr>\n",
              "      <th>50%</th>\n",
              "      <td>1.643504e+08</td>\n",
              "      <td>0.610927</td>\n",
              "      <td>62957.293497</td>\n",
              "    </tr>\n",
              "    <tr>\n",
              "      <th>75%</th>\n",
              "      <td>1.954066e+08</td>\n",
              "      <td>0.877224</td>\n",
              "      <td>78460.855045</td>\n",
              "    </tr>\n",
              "    <tr>\n",
              "      <th>max</th>\n",
              "      <td>2.073116e+08</td>\n",
              "      <td>1.126729</td>\n",
              "      <td>94220.229869</td>\n",
              "    </tr>\n",
              "  </tbody>\n",
              "</table>\n",
              "</div>"
            ],
            "text/plain": [
              "        Working_Pop     Inflation  Real_GDP_per_Capita\n",
              "count  1.388500e+04  13885.000000         13885.000000\n",
              "mean   1.581231e+08      0.598370         66888.083592\n",
              "std    4.084326e+07      0.301161         13151.200150\n",
              "min    7.717800e+07      0.134168         44983.721611\n",
              "25%    1.418840e+08      0.320230         58116.212472\n",
              "50%    1.643504e+08      0.610927         62957.293497\n",
              "75%    1.954066e+08      0.877224         78460.855045\n",
              "max    2.073116e+08      1.126729         94220.229869"
            ]
          },
          "metadata": {},
          "execution_count": 17
        }
      ]
    },
    {
      "cell_type": "code",
      "metadata": {
        "id": "8d33357e",
        "colab": {
          "base_uri": "https://localhost:8080/"
        },
        "outputId": "2c5ff2c2-af54-400e-ddb2-e67c9675d884"
      },
      "source": [
        "# Check the balance of our target values\n",
        "y.value_counts()"
      ],
      "id": "8d33357e",
      "execution_count": 18,
      "outputs": [
        {
          "output_type": "execute_result",
          "data": {
            "text/plain": [
              "569.919983     11\n",
              "586.630005      9\n",
              "555.020020      8\n",
              "567.599976      8\n",
              "555.119995      7\n",
              "               ..\n",
              "2697.360107     1\n",
              "2540.229980     1\n",
              "2603.989990     1\n",
              "3753.250000     1\n",
              "6862.310059     1\n",
              "Name: NYA_Close_Price, Length: 11528, dtype: int64"
            ]
          },
          "metadata": {},
          "execution_count": 18
        }
      ]
    },
    {
      "cell_type": "code",
      "metadata": {
        "id": "1223b2b2"
      },
      "source": [
        "# Split into training and testing \n",
        "from sklearn.model_selection import train_test_split\n",
        "X_train, X_test, y_train, y_test = train_test_split(X,\n",
        "                                                    y, \n",
        "                                                    random_state=1\n",
        "                                                )"
      ],
      "id": "1223b2b2",
      "execution_count": 19,
      "outputs": []
    },
    {
      "cell_type": "code",
      "metadata": {
        "id": "06b5d0d2"
      },
      "source": [
        "# Initialize the model\n",
        "from sklearn.linear_model import LinearRegression\n",
        "model = LinearRegression()"
      ],
      "id": "06b5d0d2",
      "execution_count": 20,
      "outputs": []
    },
    {
      "cell_type": "code",
      "metadata": {
        "id": "51ab4c97",
        "colab": {
          "base_uri": "https://localhost:8080/"
        },
        "outputId": "dcc3f83c-644d-4fa3-a6d9-775f56d00768"
      },
      "source": [
        "# Train the data\n",
        "model.fit(X_train, y_train)"
      ],
      "id": "51ab4c97",
      "execution_count": 21,
      "outputs": [
        {
          "output_type": "execute_result",
          "data": {
            "text/plain": [
              "LinearRegression()"
            ]
          },
          "metadata": {},
          "execution_count": 21
        }
      ]
    },
    {
      "cell_type": "markdown",
      "metadata": {
        "id": "UwVAeyTxg2Qv"
      },
      "source": [
        "# Determine the equation for the Multiple Variable Linear Regression"
      ],
      "id": "UwVAeyTxg2Qv"
    },
    {
      "cell_type": "code",
      "metadata": {
        "id": "b49ee193",
        "colab": {
          "base_uri": "https://localhost:8080/"
        },
        "outputId": "5b38b33e-eba5-49ae-99a5-56ce43363046"
      },
      "source": [
        "#Find the y-intercept and coefficients\n",
        "model.intercept_\n",
        "coef = model.coef_\n",
        "\n",
        "print(\"The intercept for our model is %.2f\" % model.intercept_)\n",
        "print('-'*100)\n",
        "\n",
        "#Loop through coefficients and print data\n",
        "for cf in zip(X.columns, coef):\n",
        "    print (\"The coefficient for {} is {:.5}\".format(cf[0],cf[1]))"
      ],
      "id": "b49ee193",
      "execution_count": 22,
      "outputs": [
        {
          "output_type": "stream",
          "name": "stdout",
          "text": [
            "The intercept for our model is -13234.04\n",
            "----------------------------------------------------------------------------------------------------\n",
            "The coefficient for Working_Pop is 1.8474e-05\n",
            "The coefficient for Inflation is 2653.9\n",
            "The coefficient for Real_GDP_per_Capita is 0.19632\n"
          ]
        }
      ]
    },
    {
      "cell_type": "markdown",
      "metadata": {
        "id": "4b697978"
      },
      "source": [
        "**Pred Close Price = 2653.9 x Pred Inflation + 0.19632 x Pred Real GDP per Capita + 0.000018474 x Pred Working Pop - 13234.04**"
      ],
      "id": "4b697978"
    },
    {
      "cell_type": "markdown",
      "metadata": {
        "id": "mYWxeQ47iCSz"
      },
      "source": [
        "Using this formula, we can predict closing NYSE prices based on predicted values for inflation, Real GDP per Capita and working population."
      ],
      "id": "mYWxeQ47iCSz"
    },
    {
      "cell_type": "markdown",
      "metadata": {
        "id": "K8rT2Lhgfw-g"
      },
      "source": [
        "# Evaluating the Model through Metrics"
      ],
      "id": "K8rT2Lhgfw-g"
    },
    {
      "cell_type": "code",
      "metadata": {
        "id": "6c17e95f",
        "colab": {
          "base_uri": "https://localhost:8080/"
        },
        "outputId": "311c1428-0f4e-40a4-ba0b-ffbeb3f4b145"
      },
      "source": [
        "# Calculate the model accuracy score (1 is perfect prediction)\n",
        "from sklearn.metrics import r2_score, mean_squared_error\n",
        "\n",
        "#, X_test[Working_Pop],X_test[Real_GDP_per_Capita])\n",
        "y_pred = model.predict(X_test)\n",
        "\n",
        "#Calculate the coefficient of determination, or r2_score. The r2_score is a measure of accuracy for linear regression models.\n",
        "r2_score = r2_score(y_test, y_pred)\n",
        "print(f'Coefficient of determination: {r2_score*100:.2f} %')"
      ],
      "id": "6c17e95f",
      "execution_count": 23,
      "outputs": [
        {
          "output_type": "stream",
          "name": "stdout",
          "text": [
            "Coefficient of determination: 94.57 %\n"
          ]
        }
      ]
    },
    {
      "cell_type": "code",
      "metadata": {
        "id": "29a9fff6",
        "scrolled": true,
        "colab": {
          "base_uri": "https://localhost:8080/"
        },
        "outputId": "fb32f84d-4774-436f-d3da-854152411992"
      },
      "source": [
        "#Calculate the model score.\n",
        "print(f'Model Score: {model.score(X_test, y_test)*100: .2f} %')"
      ],
      "id": "29a9fff6",
      "execution_count": 24,
      "outputs": [
        {
          "output_type": "stream",
          "name": "stdout",
          "text": [
            "Model Score:  94.57 %\n"
          ]
        }
      ]
    },
    {
      "cell_type": "code",
      "metadata": {
        "id": "36989095",
        "colab": {
          "base_uri": "https://localhost:8080/"
        },
        "outputId": "b0574278-bcc7-4548-ecca-702a9d3c5bb6"
      },
      "source": [
        "# Calculate the root mean squared error. This is a measure of how close the points are to a best fit line.\n",
        "print(\"Root mean squared error: %.2f\" % mean_squared_error(y_test, y_pred, squared=False))"
      ],
      "id": "36989095",
      "execution_count": 25,
      "outputs": [
        {
          "output_type": "stream",
          "name": "stdout",
          "text": [
            "Root mean squared error: 929.69\n"
          ]
        }
      ]
    },
    {
      "cell_type": "code",
      "metadata": {
        "id": "39402099",
        "colab": {
          "base_uri": "https://localhost:8080/",
          "height": 625
        },
        "outputId": "451a956e-a3fd-43ac-a1db-678fc029a4e8"
      },
      "source": [
        "# Plot y_pred v y_test. This shows how closely the model predicted the y values using the equation (y_pred) compared to the actual y values (y_test).\n",
        "import matplotlib.pyplot as plt\n",
        "plt.figure(figsize=(15,10))\n",
        "plt.scatter(y_test, y_pred)\n",
        "plt.xlabel('Actual (y_test)')\n",
        "plt.ylabel('Predicted (y_pred)')"
      ],
      "id": "39402099",
      "execution_count": 26,
      "outputs": [
        {
          "output_type": "execute_result",
          "data": {
            "text/plain": [
              "Text(0, 0.5, 'Predicted (y_pred)')"
            ]
          },
          "metadata": {},
          "execution_count": 26
        },
        {
          "output_type": "display_data",
          "data": {
            "image/png": "[encoded data removed]",
            "text/plain": [
              "<Figure size 1080x720 with 1 Axes>"
            ]
          },
          "metadata": {
            "needs_background": "light"
          }
        }
      ]
    },
    {
      "cell_type": "code",
      "metadata": {
        "id": "dea8f9bc",
        "colab": {
          "base_uri": "https://localhost:8080/",
          "height": 675
        },
        "outputId": "630bd3eb-9c5e-4e69-c692-6772be004786"
      },
      "source": [
        "pred_y_df=pd.DataFrame({'y_test': y_test, 'y_pred': y_pred, 'Difference': y_test-y_pred, 'Percent Difference': (y_test-y_pred)/y_pred *100})\n",
        "pred_y_df.head(20)"
      ],
      "id": "dea8f9bc",
      "execution_count": 27,
      "outputs": [
        {
          "output_type": "execute_result",
          "data": {
            "text/html": [
              "<div>\n",
              "<style scoped>\n",
              "    .dataframe tbody tr th:only-of-type {\n",
              "        vertical-align: middle;\n",
              "    }\n",
              "\n",
              "    .dataframe tbody tr th {\n",
              "        vertical-align: top;\n",
              "    }\n",
              "\n",
              "    .dataframe thead th {\n",
              "        text-align: right;\n",
              "    }\n",
              "</style>\n",
              "<table border=\"1\" class=\"dataframe\">\n",
              "  <thead>\n",
              "    <tr style=\"text-align: right;\">\n",
              "      <th></th>\n",
              "      <th>y_test</th>\n",
              "      <th>y_pred</th>\n",
              "      <th>Difference</th>\n",
              "      <th>Percent Difference</th>\n",
              "    </tr>\n",
              "  </thead>\n",
              "  <tbody>\n",
              "    <tr>\n",
              "      <th>5945</th>\n",
              "      <td>2059.659912</td>\n",
              "      <td>2629.408783</td>\n",
              "      <td>-569.748871</td>\n",
              "      <td>-21.668326</td>\n",
              "    </tr>\n",
              "    <tr>\n",
              "      <th>6682</th>\n",
              "      <td>2394.949951</td>\n",
              "      <td>3111.671372</td>\n",
              "      <td>-716.721421</td>\n",
              "      <td>-23.033326</td>\n",
              "    </tr>\n",
              "    <tr>\n",
              "      <th>2913</th>\n",
              "      <td>560.830017</td>\n",
              "      <td>-956.603067</td>\n",
              "      <td>1517.433084</td>\n",
              "      <td>-158.627244</td>\n",
              "    </tr>\n",
              "    <tr>\n",
              "      <th>12427</th>\n",
              "      <td>11227.889650</td>\n",
              "      <td>9986.871319</td>\n",
              "      <td>1241.018331</td>\n",
              "      <td>12.426498</td>\n",
              "    </tr>\n",
              "    <tr>\n",
              "      <th>5329</th>\n",
              "      <td>1790.869995</td>\n",
              "      <td>1928.697305</td>\n",
              "      <td>-137.827310</td>\n",
              "      <td>-7.146135</td>\n",
              "    </tr>\n",
              "    <tr>\n",
              "      <th>3929</th>\n",
              "      <td>735.400024</td>\n",
              "      <td>-185.960154</td>\n",
              "      <td>921.360178</td>\n",
              "      <td>-495.461074</td>\n",
              "    </tr>\n",
              "    <tr>\n",
              "      <th>8892</th>\n",
              "      <td>6654.680176</td>\n",
              "      <td>6526.618800</td>\n",
              "      <td>128.061376</td>\n",
              "      <td>1.962140</td>\n",
              "    </tr>\n",
              "    <tr>\n",
              "      <th>1644</th>\n",
              "      <td>649.229980</td>\n",
              "      <td>1035.503527</td>\n",
              "      <td>-386.273547</td>\n",
              "      <td>-37.302968</td>\n",
              "    </tr>\n",
              "    <tr>\n",
              "      <th>10949</th>\n",
              "      <td>5775.240234</td>\n",
              "      <td>7938.868081</td>\n",
              "      <td>-2163.627847</td>\n",
              "      <td>-27.253606</td>\n",
              "    </tr>\n",
              "    <tr>\n",
              "      <th>7653</th>\n",
              "      <td>3790.050049</td>\n",
              "      <td>4696.207235</td>\n",
              "      <td>-906.157186</td>\n",
              "      <td>-19.295511</td>\n",
              "    </tr>\n",
              "    <tr>\n",
              "      <th>9567</th>\n",
              "      <td>6541.149902</td>\n",
              "      <td>7180.639629</td>\n",
              "      <td>-639.489727</td>\n",
              "      <td>-8.905749</td>\n",
              "    </tr>\n",
              "    <tr>\n",
              "      <th>10771</th>\n",
              "      <td>5970.899902</td>\n",
              "      <td>8148.417256</td>\n",
              "      <td>-2177.517354</td>\n",
              "      <td>-26.723194</td>\n",
              "    </tr>\n",
              "    <tr>\n",
              "      <th>11147</th>\n",
              "      <td>7584.620117</td>\n",
              "      <td>8278.841929</td>\n",
              "      <td>-694.221812</td>\n",
              "      <td>-8.385494</td>\n",
              "    </tr>\n",
              "    <tr>\n",
              "      <th>2444</th>\n",
              "      <td>502.459991</td>\n",
              "      <td>1068.649606</td>\n",
              "      <td>-566.189615</td>\n",
              "      <td>-52.981783</td>\n",
              "    </tr>\n",
              "    <tr>\n",
              "      <th>8119</th>\n",
              "      <td>6154.330078</td>\n",
              "      <td>5372.192898</td>\n",
              "      <td>782.137180</td>\n",
              "      <td>14.558993</td>\n",
              "    </tr>\n",
              "    <tr>\n",
              "      <th>10759</th>\n",
              "      <td>7532.799805</td>\n",
              "      <td>8180.536159</td>\n",
              "      <td>-647.736354</td>\n",
              "      <td>-7.918018</td>\n",
              "    </tr>\n",
              "    <tr>\n",
              "      <th>12502</th>\n",
              "      <td>10013.360350</td>\n",
              "      <td>9964.691692</td>\n",
              "      <td>48.668658</td>\n",
              "      <td>0.488411</td>\n",
              "    </tr>\n",
              "    <tr>\n",
              "      <th>1253</th>\n",
              "      <td>559.979980</td>\n",
              "      <td>459.640060</td>\n",
              "      <td>100.339920</td>\n",
              "      <td>21.830108</td>\n",
              "    </tr>\n",
              "    <tr>\n",
              "      <th>2410</th>\n",
              "      <td>481.630005</td>\n",
              "      <td>1065.290301</td>\n",
              "      <td>-583.660296</td>\n",
              "      <td>-54.788849</td>\n",
              "    </tr>\n",
              "    <tr>\n",
              "      <th>7178</th>\n",
              "      <td>2620.699951</td>\n",
              "      <td>3786.943152</td>\n",
              "      <td>-1166.243201</td>\n",
              "      <td>-30.796427</td>\n",
              "    </tr>\n",
              "  </tbody>\n",
              "</table>\n",
              "</div>"
            ],
            "text/plain": [
              "             y_test       y_pred   Difference  Percent Difference\n",
              "5945    2059.659912  2629.408783  -569.748871          -21.668326\n",
              "6682    2394.949951  3111.671372  -716.721421          -23.033326\n",
              "2913     560.830017  -956.603067  1517.433084         -158.627244\n",
              "12427  11227.889650  9986.871319  1241.018331           12.426498\n",
              "5329    1790.869995  1928.697305  -137.827310           -7.146135\n",
              "3929     735.400024  -185.960154   921.360178         -495.461074\n",
              "8892    6654.680176  6526.618800   128.061376            1.962140\n",
              "1644     649.229980  1035.503527  -386.273547          -37.302968\n",
              "10949   5775.240234  7938.868081 -2163.627847          -27.253606\n",
              "7653    3790.050049  4696.207235  -906.157186          -19.295511\n",
              "9567    6541.149902  7180.639629  -639.489727           -8.905749\n",
              "10771   5970.899902  8148.417256 -2177.517354          -26.723194\n",
              "11147   7584.620117  8278.841929  -694.221812           -8.385494\n",
              "2444     502.459991  1068.649606  -566.189615          -52.981783\n",
              "8119    6154.330078  5372.192898   782.137180           14.558993\n",
              "10759   7532.799805  8180.536159  -647.736354           -7.918018\n",
              "12502  10013.360350  9964.691692    48.668658            0.488411\n",
              "1253     559.979980   459.640060   100.339920           21.830108\n",
              "2410     481.630005  1065.290301  -583.660296          -54.788849\n",
              "7178    2620.699951  3786.943152 -1166.243201          -30.796427"
            ]
          },
          "metadata": {},
          "execution_count": 27
        }
      ]
    },
    {
      "cell_type": "markdown",
      "metadata": {
        "id": "EWXTA3WPvsDK"
      },
      "source": [
        "# Predict Future closing prices"
      ],
      "id": "EWXTA3WPvsDK"
    },
    {
      "cell_type": "code",
      "metadata": {
        "id": "GDBe9tVRkUpp",
        "colab": {
          "base_uri": "https://localhost:8080/"
        },
        "outputId": "e3016e64-c023-4afe-eb90-74885e313194"
      },
      "source": [
        "# Upload Predict_df\n",
        "from pyspark import SparkFiles\n",
        "url = \"https://team5-stock-index-bucket.s3.us-east-2.amazonaws.com/final+project+data/Predict_df.csv\"\n",
        "spark.sparkContext.addFile(url)\n",
        "Predict_df = spark.read.csv(SparkFiles.get(\"Predict_df.csv\"), sep=\",\", header=True, inferSchema=True)\n",
        "Predict_df.printSchema()"
      ],
      "id": "GDBe9tVRkUpp",
      "execution_count": 28,
      "outputs": [
        {
          "output_type": "stream",
          "name": "stdout",
          "text": [
            "root\n",
            " |-- Date: string (nullable = true)\n",
            " |-- lfwa64ttusm647s: double (nullable = true)\n",
            " |-- value: double (nullable = true)\n",
            " |-- gdpc1: double (nullable = true)\n",
            "\n"
          ]
        }
      ]
    },
    {
      "cell_type": "code",
      "metadata": {
        "id": "Kueo3jPBlhIr",
        "colab": {
          "base_uri": "https://localhost:8080/"
        },
        "outputId": "bdd14578-21fe-4bd9-9de7-b27b72dc9878"
      },
      "source": [
        "Predict_df.show()"
      ],
      "id": "Kueo3jPBlhIr",
      "execution_count": 29,
      "outputs": [
        {
          "output_type": "stream",
          "name": "stdout",
          "text": [
            "+--------+---------------+--------+-------+\n",
            "|    Date|lfwa64ttusm647s|   value|  gdpc1|\n",
            "+--------+---------------+--------+-------+\n",
            "|12/31/65|       7.7178E7|13.41676|4304.73|\n",
            "|  1/3/66|       7.7178E7|13.41676|4409.52|\n",
            "|  1/4/66|       7.7178E7|13.41676|4409.52|\n",
            "|  1/5/66|       7.7178E7|13.41676|4409.52|\n",
            "|  1/6/66|       7.7178E7|13.41676|4409.52|\n",
            "|  1/7/66|       7.7178E7|13.41676|4409.52|\n",
            "| 1/10/66|       7.7178E7|13.41676|4409.52|\n",
            "| 1/11/66|       7.7178E7|13.41676|4409.52|\n",
            "| 1/12/66|       7.7178E7|13.41676|4409.52|\n",
            "| 1/13/66|       7.7178E7|13.41676|4409.52|\n",
            "| 1/14/66|       7.7178E7|13.41676|4409.52|\n",
            "| 1/17/66|       7.7178E7|13.41676|4409.52|\n",
            "| 1/18/66|       7.7178E7|13.41676|4409.52|\n",
            "| 1/19/66|       7.7178E7|13.41676|4409.52|\n",
            "| 1/20/66|       7.7178E7|13.41676|4409.52|\n",
            "| 1/21/66|       7.7178E7|13.41676|4409.52|\n",
            "| 1/24/66|       7.7178E7|13.41676|4409.52|\n",
            "| 1/25/66|       7.7178E7|13.41676|4409.52|\n",
            "| 1/26/66|       7.7178E7|13.41676|4409.52|\n",
            "| 1/27/66|       7.7178E7|13.41676|4409.52|\n",
            "+--------+---------------+--------+-------+\n",
            "only showing top 20 rows\n",
            "\n"
          ]
        }
      ]
    },
    {
      "cell_type": "code",
      "metadata": {
        "colab": {
          "base_uri": "https://localhost:8080/",
          "height": 422
        },
        "id": "nmyaDeg5r4kr",
        "outputId": "51d45ef0-d313-4335-cf96-f1230837d4ea"
      },
      "source": [
        "#Convert SparkDataFrame to Pandas DataFrame\n",
        "Predict_pdf = Predict_df.toPandas()\n",
        "Predict_pdf"
      ],
      "id": "nmyaDeg5r4kr",
      "execution_count": 30,
      "outputs": [
        {
          "output_type": "execute_result",
          "data": {
            "text/html": [
              "<div>\n",
              "<style scoped>\n",
              "    .dataframe tbody tr th:only-of-type {\n",
              "        vertical-align: middle;\n",
              "    }\n",
              "\n",
              "    .dataframe tbody tr th {\n",
              "        vertical-align: top;\n",
              "    }\n",
              "\n",
              "    .dataframe thead th {\n",
              "        text-align: right;\n",
              "    }\n",
              "</style>\n",
              "<table border=\"1\" class=\"dataframe\">\n",
              "  <thead>\n",
              "    <tr style=\"text-align: right;\">\n",
              "      <th></th>\n",
              "      <th>Date</th>\n",
              "      <th>lfwa64ttusm647s</th>\n",
              "      <th>value</th>\n",
              "      <th>gdpc1</th>\n",
              "    </tr>\n",
              "  </thead>\n",
              "  <tbody>\n",
              "    <tr>\n",
              "      <th>0</th>\n",
              "      <td>12/31/65</td>\n",
              "      <td>77178000.0</td>\n",
              "      <td>13.416760</td>\n",
              "      <td>4304.73</td>\n",
              "    </tr>\n",
              "    <tr>\n",
              "      <th>1</th>\n",
              "      <td>1/3/66</td>\n",
              "      <td>77178000.0</td>\n",
              "      <td>13.416760</td>\n",
              "      <td>4409.52</td>\n",
              "    </tr>\n",
              "    <tr>\n",
              "      <th>2</th>\n",
              "      <td>1/4/66</td>\n",
              "      <td>77178000.0</td>\n",
              "      <td>13.416760</td>\n",
              "      <td>4409.52</td>\n",
              "    </tr>\n",
              "    <tr>\n",
              "      <th>3</th>\n",
              "      <td>1/5/66</td>\n",
              "      <td>77178000.0</td>\n",
              "      <td>13.416760</td>\n",
              "      <td>4409.52</td>\n",
              "    </tr>\n",
              "    <tr>\n",
              "      <th>4</th>\n",
              "      <td>1/6/66</td>\n",
              "      <td>77178000.0</td>\n",
              "      <td>13.416760</td>\n",
              "      <td>4409.52</td>\n",
              "    </tr>\n",
              "    <tr>\n",
              "      <th>...</th>\n",
              "      <td>...</td>\n",
              "      <td>...</td>\n",
              "      <td>...</td>\n",
              "      <td>...</td>\n",
              "    </tr>\n",
              "    <tr>\n",
              "      <th>17446</th>\n",
              "      <td>12/27/30</td>\n",
              "      <td>223500253.6</td>\n",
              "      <td>142.428652</td>\n",
              "      <td>22309.05</td>\n",
              "    </tr>\n",
              "    <tr>\n",
              "      <th>17447</th>\n",
              "      <td>12/28/30</td>\n",
              "      <td>223500253.6</td>\n",
              "      <td>142.428652</td>\n",
              "      <td>22309.05</td>\n",
              "    </tr>\n",
              "    <tr>\n",
              "      <th>17448</th>\n",
              "      <td>12/29/30</td>\n",
              "      <td>223500253.6</td>\n",
              "      <td>142.428652</td>\n",
              "      <td>22309.05</td>\n",
              "    </tr>\n",
              "    <tr>\n",
              "      <th>17449</th>\n",
              "      <td>12/30/30</td>\n",
              "      <td>223500253.6</td>\n",
              "      <td>142.428652</td>\n",
              "      <td>22309.05</td>\n",
              "    </tr>\n",
              "    <tr>\n",
              "      <th>17450</th>\n",
              "      <td>12/31/30</td>\n",
              "      <td>223500253.6</td>\n",
              "      <td>142.428652</td>\n",
              "      <td>22309.05</td>\n",
              "    </tr>\n",
              "  </tbody>\n",
              "</table>\n",
              "<p>17451 rows × 4 columns</p>\n",
              "</div>"
            ],
            "text/plain": [
              "           Date  lfwa64ttusm647s       value     gdpc1\n",
              "0      12/31/65       77178000.0   13.416760   4304.73\n",
              "1        1/3/66       77178000.0   13.416760   4409.52\n",
              "2        1/4/66       77178000.0   13.416760   4409.52\n",
              "3        1/5/66       77178000.0   13.416760   4409.52\n",
              "4        1/6/66       77178000.0   13.416760   4409.52\n",
              "...         ...              ...         ...       ...\n",
              "17446  12/27/30      223500253.6  142.428652  22309.05\n",
              "17447  12/28/30      223500253.6  142.428652  22309.05\n",
              "17448  12/29/30      223500253.6  142.428652  22309.05\n",
              "17449  12/30/30      223500253.6  142.428652  22309.05\n",
              "17450  12/31/30      223500253.6  142.428652  22309.05\n",
              "\n",
              "[17451 rows x 4 columns]"
            ]
          },
          "metadata": {},
          "execution_count": 30
        }
      ]
    },
    {
      "cell_type": "code",
      "metadata": {
        "colab": {
          "base_uri": "https://localhost:8080/",
          "height": 236
        },
        "id": "MKpgxgEClk3O",
        "outputId": "564731e2-96bc-4248-be66-2044a87d3eaf"
      },
      "source": [
        "#Preprocess\n",
        "Predict_pdf = Predict_df.toPandas()\n",
        "# Rename Columns\n",
        "Predict_pdf = Predict_pdf.rename(columns={'closeusd':'NYA_Close_Price','value':'Inflation','gdpc1':'Real_GDP','lfwa64ttusm647s':'Working_Pop'})\n",
        "\n",
        "# Divide Inflation by 100\n",
        "Predict_pdf['Inflation'] = Predict_pdf['Inflation'] / 100\n",
        "\n",
        "# Real GDP * 1B\n",
        "Predict_pdf['Real_GDP'] = Predict_pdf['Real_GDP'] * 1000000000\n",
        "\n",
        "# Calculate Real GDP per Capita from GDP and Population\n",
        "Predict_pdf['Real_GDP_per_Capita'] = Predict_pdf['Real_GDP'] / Predict_pdf['Working_Pop']\n",
        "\n",
        "# Drop Real_GDP column\n",
        "Predict_pdf = Predict_pdf.drop(columns=['Real_GDP'])\n",
        "\n",
        "Predict_pdf.set_index('Date', inplace=True)\n",
        "\n",
        "Predict_pdf.head()"
      ],
      "id": "MKpgxgEClk3O",
      "execution_count": 31,
      "outputs": [
        {
          "output_type": "execute_result",
          "data": {
            "text/html": [
              "<div>\n",
              "<style scoped>\n",
              "    .dataframe tbody tr th:only-of-type {\n",
              "        vertical-align: middle;\n",
              "    }\n",
              "\n",
              "    .dataframe tbody tr th {\n",
              "        vertical-align: top;\n",
              "    }\n",
              "\n",
              "    .dataframe thead th {\n",
              "        text-align: right;\n",
              "    }\n",
              "</style>\n",
              "<table border=\"1\" class=\"dataframe\">\n",
              "  <thead>\n",
              "    <tr style=\"text-align: right;\">\n",
              "      <th></th>\n",
              "      <th>Working_Pop</th>\n",
              "      <th>Inflation</th>\n",
              "      <th>Real_GDP_per_Capita</th>\n",
              "    </tr>\n",
              "    <tr>\n",
              "      <th>Date</th>\n",
              "      <th></th>\n",
              "      <th></th>\n",
              "      <th></th>\n",
              "    </tr>\n",
              "  </thead>\n",
              "  <tbody>\n",
              "    <tr>\n",
              "      <th>12/31/65</th>\n",
              "      <td>77178000.0</td>\n",
              "      <td>0.134168</td>\n",
              "      <td>55776.646195</td>\n",
              "    </tr>\n",
              "    <tr>\n",
              "      <th>1/3/66</th>\n",
              "      <td>77178000.0</td>\n",
              "      <td>0.134168</td>\n",
              "      <td>57134.416544</td>\n",
              "    </tr>\n",
              "    <tr>\n",
              "      <th>1/4/66</th>\n",
              "      <td>77178000.0</td>\n",
              "      <td>0.134168</td>\n",
              "      <td>57134.416544</td>\n",
              "    </tr>\n",
              "    <tr>\n",
              "      <th>1/5/66</th>\n",
              "      <td>77178000.0</td>\n",
              "      <td>0.134168</td>\n",
              "      <td>57134.416544</td>\n",
              "    </tr>\n",
              "    <tr>\n",
              "      <th>1/6/66</th>\n",
              "      <td>77178000.0</td>\n",
              "      <td>0.134168</td>\n",
              "      <td>57134.416544</td>\n",
              "    </tr>\n",
              "  </tbody>\n",
              "</table>\n",
              "</div>"
            ],
            "text/plain": [
              "          Working_Pop  Inflation  Real_GDP_per_Capita\n",
              "Date                                                 \n",
              "12/31/65   77178000.0   0.134168         55776.646195\n",
              "1/3/66     77178000.0   0.134168         57134.416544\n",
              "1/4/66     77178000.0   0.134168         57134.416544\n",
              "1/5/66     77178000.0   0.134168         57134.416544\n",
              "1/6/66     77178000.0   0.134168         57134.416544"
            ]
          },
          "metadata": {},
          "execution_count": 31
        }
      ]
    },
    {
      "cell_type": "code",
      "metadata": {
        "colab": {
          "base_uri": "https://localhost:8080/",
          "height": 299
        },
        "id": "HFTCVpAtuZ0_",
        "outputId": "47059b36-e4c7-4cc6-8bf8-fbc5969f6c53"
      },
      "source": [
        "Predict_pdf.describe()"
      ],
      "id": "HFTCVpAtuZ0_",
      "execution_count": 32,
      "outputs": [
        {
          "output_type": "execute_result",
          "data": {
            "text/html": [
              "<div>\n",
              "<style scoped>\n",
              "    .dataframe tbody tr th:only-of-type {\n",
              "        vertical-align: middle;\n",
              "    }\n",
              "\n",
              "    .dataframe tbody tr th {\n",
              "        vertical-align: top;\n",
              "    }\n",
              "\n",
              "    .dataframe thead th {\n",
              "        text-align: right;\n",
              "    }\n",
              "</style>\n",
              "<table border=\"1\" class=\"dataframe\">\n",
              "  <thead>\n",
              "    <tr style=\"text-align: right;\">\n",
              "      <th></th>\n",
              "      <th>Working_Pop</th>\n",
              "      <th>Inflation</th>\n",
              "      <th>Real_GDP_per_Capita</th>\n",
              "    </tr>\n",
              "  </thead>\n",
              "  <tbody>\n",
              "    <tr>\n",
              "      <th>count</th>\n",
              "      <td>1.745100e+04</td>\n",
              "      <td>17451.000000</td>\n",
              "      <td>17451.000000</td>\n",
              "    </tr>\n",
              "    <tr>\n",
              "      <th>mean</th>\n",
              "      <td>1.694936e+08</td>\n",
              "      <td>0.737655</td>\n",
              "      <td>72710.487080</td>\n",
              "    </tr>\n",
              "    <tr>\n",
              "      <th>std</th>\n",
              "      <td>4.286059e+07</td>\n",
              "      <td>0.386222</td>\n",
              "      <td>16938.049874</td>\n",
              "    </tr>\n",
              "    <tr>\n",
              "      <th>min</th>\n",
              "      <td>7.717800e+07</td>\n",
              "      <td>0.134168</td>\n",
              "      <td>44850.672940</td>\n",
              "    </tr>\n",
              "    <tr>\n",
              "      <th>25%</th>\n",
              "      <td>1.481958e+08</td>\n",
              "      <td>0.418535</td>\n",
              "      <td>58697.758621</td>\n",
              "    </tr>\n",
              "    <tr>\n",
              "      <th>50%</th>\n",
              "      <td>1.794295e+08</td>\n",
              "      <td>0.729062</td>\n",
              "      <td>73198.658157</td>\n",
              "    </tr>\n",
              "    <tr>\n",
              "      <th>75%</th>\n",
              "      <td>2.055282e+08</td>\n",
              "      <td>1.041356</td>\n",
              "      <td>88953.902781</td>\n",
              "    </tr>\n",
              "    <tr>\n",
              "      <th>max</th>\n",
              "      <td>2.235003e+08</td>\n",
              "      <td>1.424287</td>\n",
              "      <td>100680.175854</td>\n",
              "    </tr>\n",
              "  </tbody>\n",
              "</table>\n",
              "</div>"
            ],
            "text/plain": [
              "        Working_Pop     Inflation  Real_GDP_per_Capita\n",
              "count  1.745100e+04  17451.000000         17451.000000\n",
              "mean   1.694936e+08      0.737655         72710.487080\n",
              "std    4.286059e+07      0.386222         16938.049874\n",
              "min    7.717800e+07      0.134168         44850.672940\n",
              "25%    1.481958e+08      0.418535         58697.758621\n",
              "50%    1.794295e+08      0.729062         73198.658157\n",
              "75%    2.055282e+08      1.041356         88953.902781\n",
              "max    2.235003e+08      1.424287        100680.175854"
            ]
          },
          "metadata": {},
          "execution_count": 32
        }
      ]
    },
    {
      "cell_type": "code",
      "metadata": {
        "colab": {
          "base_uri": "https://localhost:8080/"
        },
        "id": "J1M67mapjDj0",
        "outputId": "1e8a4dce-5b50-4aa8-d225-5ee6ce4ceabf"
      },
      "source": [
        "Projection = model.predict(Predict_pdf)\n",
        "Projection"
      ],
      "id": "J1M67mapjDj0",
      "execution_count": 33,
      "outputs": [
        {
          "output_type": "execute_result",
          "data": {
            "text/plain": [
              "array([ -502.12744709,  -235.57064885,  -235.57064885, ...,\n",
              "       14270.81880439, 14270.81880439, 14270.81880439])"
            ]
          },
          "metadata": {},
          "execution_count": 33
        }
      ]
    },
    {
      "cell_type": "code",
      "metadata": {
        "colab": {
          "base_uri": "https://localhost:8080/",
          "height": 422
        },
        "id": "1QfIj-oIsnSg",
        "outputId": "388efdcf-f3a5-4d26-ec92-1cf54f41f418"
      },
      "source": [
        "Projection_export = pd.DataFrame(Projection, \n",
        "             columns=['Pred_close_price'])\n",
        "Projection_export"
      ],
      "id": "1QfIj-oIsnSg",
      "execution_count": 34,
      "outputs": [
        {
          "output_type": "execute_result",
          "data": {
            "text/html": [
              "<div>\n",
              "<style scoped>\n",
              "    .dataframe tbody tr th:only-of-type {\n",
              "        vertical-align: middle;\n",
              "    }\n",
              "\n",
              "    .dataframe tbody tr th {\n",
              "        vertical-align: top;\n",
              "    }\n",
              "\n",
              "    .dataframe thead th {\n",
              "        text-align: right;\n",
              "    }\n",
              "</style>\n",
              "<table border=\"1\" class=\"dataframe\">\n",
              "  <thead>\n",
              "    <tr style=\"text-align: right;\">\n",
              "      <th></th>\n",
              "      <th>Pred_close_price</th>\n",
              "    </tr>\n",
              "  </thead>\n",
              "  <tbody>\n",
              "    <tr>\n",
              "      <th>0</th>\n",
              "      <td>-502.127447</td>\n",
              "    </tr>\n",
              "    <tr>\n",
              "      <th>1</th>\n",
              "      <td>-235.570649</td>\n",
              "    </tr>\n",
              "    <tr>\n",
              "      <th>2</th>\n",
              "      <td>-235.570649</td>\n",
              "    </tr>\n",
              "    <tr>\n",
              "      <th>3</th>\n",
              "      <td>-235.570649</td>\n",
              "    </tr>\n",
              "    <tr>\n",
              "      <th>4</th>\n",
              "      <td>-235.570649</td>\n",
              "    </tr>\n",
              "    <tr>\n",
              "      <th>...</th>\n",
              "      <td>...</td>\n",
              "    </tr>\n",
              "    <tr>\n",
              "      <th>17446</th>\n",
              "      <td>14270.818804</td>\n",
              "    </tr>\n",
              "    <tr>\n",
              "      <th>17447</th>\n",
              "      <td>14270.818804</td>\n",
              "    </tr>\n",
              "    <tr>\n",
              "      <th>17448</th>\n",
              "      <td>14270.818804</td>\n",
              "    </tr>\n",
              "    <tr>\n",
              "      <th>17449</th>\n",
              "      <td>14270.818804</td>\n",
              "    </tr>\n",
              "    <tr>\n",
              "      <th>17450</th>\n",
              "      <td>14270.818804</td>\n",
              "    </tr>\n",
              "  </tbody>\n",
              "</table>\n",
              "<p>17451 rows × 1 columns</p>\n",
              "</div>"
            ],
            "text/plain": [
              "       Pred_close_price\n",
              "0           -502.127447\n",
              "1           -235.570649\n",
              "2           -235.570649\n",
              "3           -235.570649\n",
              "4           -235.570649\n",
              "...                 ...\n",
              "17446      14270.818804\n",
              "17447      14270.818804\n",
              "17448      14270.818804\n",
              "17449      14270.818804\n",
              "17450      14270.818804\n",
              "\n",
              "[17451 rows x 1 columns]"
            ]
          },
          "metadata": {},
          "execution_count": 34
        }
      ]
    },
    {
      "cell_type": "code",
      "metadata": {
        "id": "QT-rdDS0tkJ8"
      },
      "source": [
        "Projection_export.to_excel(\"/content/Projection.xlsx\")"
      ],
      "id": "QT-rdDS0tkJ8",
      "execution_count": 35,
      "outputs": []
    }
  ]
}